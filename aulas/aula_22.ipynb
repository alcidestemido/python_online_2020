{
  "nbformat": 4,
  "nbformat_minor": 0,
  "metadata": {
    "colab": {
      "name": "aula_22.ipynb",
      "provenance": [],
      "collapsed_sections": []
    },
    "kernelspec": {
      "name": "python3",
      "display_name": "Python 3"
    }
  },
  "cells": [
    {
      "cell_type": "markdown",
      "metadata": {
        "id": "AYDeIy-ppbQM",
        "colab_type": "text"
      },
      "source": [
        "# Revisão"
      ]
    },
    {
      "cell_type": "code",
      "metadata": {
        "id": "Sl9kwzH7pRME",
        "colab_type": "code",
        "colab": {
          "base_uri": "https://localhost:8080/",
          "height": 88
        },
        "outputId": "a0c34cf0-6e9a-4866-bb86-3980fa395a98"
      },
      "source": [
        "!pip install plotly=='4.8.1'"
      ],
      "execution_count": 2,
      "outputs": [
        {
          "output_type": "stream",
          "text": [
            "Requirement already satisfied: plotly==4.8.1 in /usr/local/lib/python3.6/dist-packages (4.8.1)\n",
            "Requirement already satisfied: retrying>=1.3.3 in /usr/local/lib/python3.6/dist-packages (from plotly==4.8.1) (1.3.3)\n",
            "Requirement already satisfied: six in /usr/local/lib/python3.6/dist-packages (from plotly==4.8.1) (1.12.0)\n"
          ],
          "name": "stdout"
        }
      ]
    },
    {
      "cell_type": "code",
      "metadata": {
        "id": "T2DKVXi-pe2Z",
        "colab_type": "code",
        "colab": {
          "base_uri": "https://localhost:8080/",
          "height": 105
        },
        "outputId": "69239a05-cf2d-48e7-cc84-bbe36588b69b"
      },
      "source": [
        "import pandas as pd\n",
        "import plotly.express as px\n",
        "import plotly.graph_objects as go\n",
        "from datetime import datetime\n",
        "import numpy as np\n",
        "import seaborn as sns\n",
        "import matplotlib.pyplot as plt"
      ],
      "execution_count": 3,
      "outputs": [
        {
          "output_type": "stream",
          "text": [
            "/usr/local/lib/python3.6/dist-packages/statsmodels/tools/_testing.py:19: FutureWarning:\n",
            "\n",
            "pandas.util.testing is deprecated. Use the functions in the public API at pandas.testing instead.\n",
            "\n"
          ],
          "name": "stderr"
        }
      ]
    },
    {
      "cell_type": "code",
      "metadata": {
        "id": "TEF8K025pitW",
        "colab_type": "code",
        "colab": {}
      },
      "source": [
        "king = pd.read_csv(\"https://raw.githubusercontent.com/vnikoofard/python_online_2020/master/data/kc_house_data.csv\")"
      ],
      "execution_count": 4,
      "outputs": []
    },
    {
      "cell_type": "code",
      "metadata": {
        "id": "FsD4gQ_cpl4b",
        "colab_type": "code",
        "colab": {}
      },
      "source": [
        "king.date = pd.to_datetime(king.date, infer_datetime_format=True)\n",
        "king.yr_built = pd.to_datetime(king.yr_built,format='%Y')\n",
        "\n",
        "king['age'] = king.date.dt.year - king.yr_built.dt.year\n",
        "\n",
        "king.age = pd.to_numeric(king.age)"
      ],
      "execution_count": 5,
      "outputs": []
    },
    {
      "cell_type": "code",
      "metadata": {
        "id": "lVBw-Qp4p1Rp",
        "colab_type": "code",
        "colab": {}
      },
      "source": [
        "df = king.drop(['id', 'date', 'zipcode', 'yr_renovated', 'yr_built'], axis=1)"
      ],
      "execution_count": 6,
      "outputs": []
    },
    {
      "cell_type": "code",
      "metadata": {
        "id": "0ai-CS5Lp1xk",
        "colab_type": "code",
        "colab": {}
      },
      "source": [
        "correlation = df.corr()\n",
        "\n",
        "cols = correlation['price'][(abs(correlation['price']>0.3))]\n",
        "l = cols.index.to_list()\n",
        "\n",
        "important = df[l]"
      ],
      "execution_count": 7,
      "outputs": []
    },
    {
      "cell_type": "markdown",
      "metadata": {
        "id": "VVOwo012qPeE",
        "colab_type": "text"
      },
      "source": [
        ""
      ]
    },
    {
      "cell_type": "code",
      "metadata": {
        "id": "j3Erw-2fqOUc",
        "colab_type": "code",
        "colab": {}
      },
      "source": [
        "important = important[important.sqft_living<5230]"
      ],
      "execution_count": 8,
      "outputs": []
    },
    {
      "cell_type": "code",
      "metadata": {
        "id": "YsSeeZ_JqID_",
        "colab_type": "code",
        "colab": {}
      },
      "source": [
        "important = important[important.bedrooms<11]\n"
      ],
      "execution_count": 9,
      "outputs": []
    },
    {
      "cell_type": "code",
      "metadata": {
        "id": "FCUkleCrqTGI",
        "colab_type": "code",
        "colab": {}
      },
      "source": [
        "important = important[important.sqft_basement<1740]"
      ],
      "execution_count": 10,
      "outputs": []
    },
    {
      "cell_type": "code",
      "metadata": {
        "id": "E0CPgPRkqW8j",
        "colab_type": "code",
        "colab": {}
      },
      "source": [
        "important = important[important.sqft_above<4400]"
      ],
      "execution_count": 11,
      "outputs": []
    },
    {
      "cell_type": "code",
      "metadata": {
        "id": "dHLwImbBqhHN",
        "colab_type": "code",
        "colab": {
          "base_uri": "https://localhost:8080/",
          "height": 34
        },
        "outputId": "ea07b7f5-55df-42e5-d664-bbda61a48a9f"
      },
      "source": [
        "important.shape"
      ],
      "execution_count": 12,
      "outputs": [
        {
          "output_type": "execute_result",
          "data": {
            "text/plain": [
              "(21216, 10)"
            ]
          },
          "metadata": {
            "tags": []
          },
          "execution_count": 12
        }
      ]
    },
    {
      "cell_type": "code",
      "metadata": {
        "id": "kXA4aR_sqimV",
        "colab_type": "code",
        "colab": {
          "base_uri": "https://localhost:8080/",
          "height": 34
        },
        "outputId": "ae85fd8d-5bfe-4ae4-e39f-99f9b4573a05"
      },
      "source": [
        "df.shape"
      ],
      "execution_count": 13,
      "outputs": [
        {
          "output_type": "execute_result",
          "data": {
            "text/plain": [
              "(21613, 17)"
            ]
          },
          "metadata": {
            "tags": []
          },
          "execution_count": 13
        }
      ]
    },
    {
      "cell_type": "code",
      "metadata": {
        "id": "Y4Kbl7l9qokl",
        "colab_type": "code",
        "colab": {
          "base_uri": "https://localhost:8080/",
          "height": 224
        },
        "outputId": "1febac1a-9151-4879-bd98-5c0d46a655d4"
      },
      "source": [
        "important.head()"
      ],
      "execution_count": 14,
      "outputs": [
        {
          "output_type": "execute_result",
          "data": {
            "text/html": [
              "<div>\n",
              "<style scoped>\n",
              "    .dataframe tbody tr th:only-of-type {\n",
              "        vertical-align: middle;\n",
              "    }\n",
              "\n",
              "    .dataframe tbody tr th {\n",
              "        vertical-align: top;\n",
              "    }\n",
              "\n",
              "    .dataframe thead th {\n",
              "        text-align: right;\n",
              "    }\n",
              "</style>\n",
              "<table border=\"1\" class=\"dataframe\">\n",
              "  <thead>\n",
              "    <tr style=\"text-align: right;\">\n",
              "      <th></th>\n",
              "      <th>price</th>\n",
              "      <th>bedrooms</th>\n",
              "      <th>bathrooms</th>\n",
              "      <th>sqft_living</th>\n",
              "      <th>view</th>\n",
              "      <th>grade</th>\n",
              "      <th>sqft_above</th>\n",
              "      <th>sqft_basement</th>\n",
              "      <th>lat</th>\n",
              "      <th>sqft_living15</th>\n",
              "    </tr>\n",
              "  </thead>\n",
              "  <tbody>\n",
              "    <tr>\n",
              "      <th>0</th>\n",
              "      <td>221900.0</td>\n",
              "      <td>3</td>\n",
              "      <td>1.00</td>\n",
              "      <td>1180</td>\n",
              "      <td>0</td>\n",
              "      <td>7</td>\n",
              "      <td>1180</td>\n",
              "      <td>0</td>\n",
              "      <td>47.5112</td>\n",
              "      <td>1340</td>\n",
              "    </tr>\n",
              "    <tr>\n",
              "      <th>1</th>\n",
              "      <td>538000.0</td>\n",
              "      <td>3</td>\n",
              "      <td>2.25</td>\n",
              "      <td>2570</td>\n",
              "      <td>0</td>\n",
              "      <td>7</td>\n",
              "      <td>2170</td>\n",
              "      <td>400</td>\n",
              "      <td>47.7210</td>\n",
              "      <td>1690</td>\n",
              "    </tr>\n",
              "    <tr>\n",
              "      <th>2</th>\n",
              "      <td>180000.0</td>\n",
              "      <td>2</td>\n",
              "      <td>1.00</td>\n",
              "      <td>770</td>\n",
              "      <td>0</td>\n",
              "      <td>6</td>\n",
              "      <td>770</td>\n",
              "      <td>0</td>\n",
              "      <td>47.7379</td>\n",
              "      <td>2720</td>\n",
              "    </tr>\n",
              "    <tr>\n",
              "      <th>3</th>\n",
              "      <td>604000.0</td>\n",
              "      <td>4</td>\n",
              "      <td>3.00</td>\n",
              "      <td>1960</td>\n",
              "      <td>0</td>\n",
              "      <td>7</td>\n",
              "      <td>1050</td>\n",
              "      <td>910</td>\n",
              "      <td>47.5208</td>\n",
              "      <td>1360</td>\n",
              "    </tr>\n",
              "    <tr>\n",
              "      <th>4</th>\n",
              "      <td>510000.0</td>\n",
              "      <td>3</td>\n",
              "      <td>2.00</td>\n",
              "      <td>1680</td>\n",
              "      <td>0</td>\n",
              "      <td>8</td>\n",
              "      <td>1680</td>\n",
              "      <td>0</td>\n",
              "      <td>47.6168</td>\n",
              "      <td>1800</td>\n",
              "    </tr>\n",
              "  </tbody>\n",
              "</table>\n",
              "</div>"
            ],
            "text/plain": [
              "      price  bedrooms  bathrooms  ...  sqft_basement      lat  sqft_living15\n",
              "0  221900.0         3       1.00  ...              0  47.5112           1340\n",
              "1  538000.0         3       2.25  ...            400  47.7210           1690\n",
              "2  180000.0         2       1.00  ...              0  47.7379           2720\n",
              "3  604000.0         4       3.00  ...            910  47.5208           1360\n",
              "4  510000.0         3       2.00  ...              0  47.6168           1800\n",
              "\n",
              "[5 rows x 10 columns]"
            ]
          },
          "metadata": {
            "tags": []
          },
          "execution_count": 14
        }
      ]
    },
    {
      "cell_type": "code",
      "metadata": {
        "id": "CbHf6XT1tynk",
        "colab_type": "code",
        "colab": {}
      },
      "source": [
        "X = important.drop('price', axis = 1)\n",
        "y = important['price']"
      ],
      "execution_count": 15,
      "outputs": []
    },
    {
      "cell_type": "code",
      "metadata": {
        "id": "3QKWpzIxuaX4",
        "colab_type": "code",
        "colab": {
          "base_uri": "https://localhost:8080/",
          "height": 34
        },
        "outputId": "b41b7f40-b96e-478b-f65f-8df877689299"
      },
      "source": [
        "X.shape"
      ],
      "execution_count": 16,
      "outputs": [
        {
          "output_type": "execute_result",
          "data": {
            "text/plain": [
              "(21216, 9)"
            ]
          },
          "metadata": {
            "tags": []
          },
          "execution_count": 16
        }
      ]
    },
    {
      "cell_type": "code",
      "metadata": {
        "id": "uc4egxJ7ubmF",
        "colab_type": "code",
        "colab": {}
      },
      "source": [
        "def norm(x): \n",
        "  return (x - x.mean(axis=0))/x.std(axis=0)"
      ],
      "execution_count": 17,
      "outputs": []
    },
    {
      "cell_type": "code",
      "metadata": {
        "id": "UwxaBeonvi01",
        "colab_type": "code",
        "colab": {}
      },
      "source": [
        "X_norm = norm(X)"
      ],
      "execution_count": 18,
      "outputs": []
    },
    {
      "cell_type": "code",
      "metadata": {
        "id": "mBl8HvVOvmlN",
        "colab_type": "code",
        "colab": {
          "base_uri": "https://localhost:8080/",
          "height": 439
        },
        "outputId": "a0ad7ddc-7b3e-46b1-b12f-98ca642ad0f3"
      },
      "source": [
        "X_norm"
      ],
      "execution_count": 19,
      "outputs": [
        {
          "output_type": "execute_result",
          "data": {
            "text/html": [
              "<div>\n",
              "<style scoped>\n",
              "    .dataframe tbody tr th:only-of-type {\n",
              "        vertical-align: middle;\n",
              "    }\n",
              "\n",
              "    .dataframe tbody tr th {\n",
              "        vertical-align: top;\n",
              "    }\n",
              "\n",
              "    .dataframe thead th {\n",
              "        text-align: right;\n",
              "    }\n",
              "</style>\n",
              "<table border=\"1\" class=\"dataframe\">\n",
              "  <thead>\n",
              "    <tr style=\"text-align: right;\">\n",
              "      <th></th>\n",
              "      <th>bedrooms</th>\n",
              "      <th>bathrooms</th>\n",
              "      <th>sqft_living</th>\n",
              "      <th>view</th>\n",
              "      <th>grade</th>\n",
              "      <th>sqft_above</th>\n",
              "      <th>sqft_basement</th>\n",
              "      <th>lat</th>\n",
              "      <th>sqft_living15</th>\n",
              "    </tr>\n",
              "  </thead>\n",
              "  <tbody>\n",
              "    <tr>\n",
              "      <th>0</th>\n",
              "      <td>-0.390501</td>\n",
              "      <td>-1.485038</td>\n",
              "      <td>-1.045389</td>\n",
              "      <td>-0.294231</td>\n",
              "      <td>-0.545522</td>\n",
              "      <td>-0.754613</td>\n",
              "      <td>-0.672624</td>\n",
              "      <td>-0.347763</td>\n",
              "      <td>-0.954146</td>\n",
              "    </tr>\n",
              "    <tr>\n",
              "      <th>1</th>\n",
              "      <td>-0.390501</td>\n",
              "      <td>0.227033</td>\n",
              "      <td>0.680221</td>\n",
              "      <td>-0.294231</td>\n",
              "      <td>-0.545522</td>\n",
              "      <td>0.563896</td>\n",
              "      <td>0.304055</td>\n",
              "      <td>1.160677</td>\n",
              "      <td>-0.414070</td>\n",
              "    </tr>\n",
              "    <tr>\n",
              "      <th>2</th>\n",
              "      <td>-1.513721</td>\n",
              "      <td>-1.485038</td>\n",
              "      <td>-1.554382</td>\n",
              "      <td>-0.294231</td>\n",
              "      <td>-1.447330</td>\n",
              "      <td>-1.300663</td>\n",
              "      <td>-0.672624</td>\n",
              "      <td>1.282186</td>\n",
              "      <td>1.175294</td>\n",
              "    </tr>\n",
              "    <tr>\n",
              "      <th>3</th>\n",
              "      <td>0.732719</td>\n",
              "      <td>1.254276</td>\n",
              "      <td>-0.077061</td>\n",
              "      <td>-0.294231</td>\n",
              "      <td>-0.545522</td>\n",
              "      <td>-0.927751</td>\n",
              "      <td>1.549321</td>\n",
              "      <td>-0.278740</td>\n",
              "      <td>-0.923284</td>\n",
              "    </tr>\n",
              "    <tr>\n",
              "      <th>4</th>\n",
              "      <td>-0.390501</td>\n",
              "      <td>-0.115381</td>\n",
              "      <td>-0.424666</td>\n",
              "      <td>-0.294231</td>\n",
              "      <td>0.356286</td>\n",
              "      <td>-0.088700</td>\n",
              "      <td>-0.672624</td>\n",
              "      <td>0.411490</td>\n",
              "      <td>-0.244332</td>\n",
              "    </tr>\n",
              "    <tr>\n",
              "      <th>...</th>\n",
              "      <td>...</td>\n",
              "      <td>...</td>\n",
              "      <td>...</td>\n",
              "      <td>...</td>\n",
              "      <td>...</td>\n",
              "      <td>...</td>\n",
              "      <td>...</td>\n",
              "      <td>...</td>\n",
              "      <td>...</td>\n",
              "    </tr>\n",
              "    <tr>\n",
              "      <th>21608</th>\n",
              "      <td>-0.390501</td>\n",
              "      <td>0.569448</td>\n",
              "      <td>-0.610883</td>\n",
              "      <td>-0.294231</td>\n",
              "      <td>0.356286</td>\n",
              "      <td>-0.288474</td>\n",
              "      <td>-0.672624</td>\n",
              "      <td>1.004656</td>\n",
              "      <td>-0.660962</td>\n",
              "    </tr>\n",
              "    <tr>\n",
              "      <th>21609</th>\n",
              "      <td>0.732719</td>\n",
              "      <td>0.569448</td>\n",
              "      <td>0.357445</td>\n",
              "      <td>-0.294231</td>\n",
              "      <td>0.356286</td>\n",
              "      <td>0.750352</td>\n",
              "      <td>-0.672624</td>\n",
              "      <td>-0.351358</td>\n",
              "      <td>-0.198040</td>\n",
              "    </tr>\n",
              "    <tr>\n",
              "      <th>21610</th>\n",
              "      <td>-1.513721</td>\n",
              "      <td>-1.827452</td>\n",
              "      <td>-1.244020</td>\n",
              "      <td>-0.294231</td>\n",
              "      <td>-0.545522</td>\n",
              "      <td>-0.967706</td>\n",
              "      <td>-0.672624</td>\n",
              "      <td>0.250436</td>\n",
              "      <td>-1.447929</td>\n",
              "    </tr>\n",
              "    <tr>\n",
              "      <th>21611</th>\n",
              "      <td>-0.390501</td>\n",
              "      <td>0.569448</td>\n",
              "      <td>-0.523982</td>\n",
              "      <td>-0.294231</td>\n",
              "      <td>0.356286</td>\n",
              "      <td>-0.195246</td>\n",
              "      <td>-0.672624</td>\n",
              "      <td>-0.180238</td>\n",
              "      <td>-0.846131</td>\n",
              "    </tr>\n",
              "    <tr>\n",
              "      <th>21612</th>\n",
              "      <td>-1.513721</td>\n",
              "      <td>-1.827452</td>\n",
              "      <td>-1.244020</td>\n",
              "      <td>-0.294231</td>\n",
              "      <td>-0.545522</td>\n",
              "      <td>-0.967706</td>\n",
              "      <td>-0.672624</td>\n",
              "      <td>0.248280</td>\n",
              "      <td>-1.447929</td>\n",
              "    </tr>\n",
              "  </tbody>\n",
              "</table>\n",
              "<p>21216 rows × 9 columns</p>\n",
              "</div>"
            ],
            "text/plain": [
              "       bedrooms  bathrooms  sqft_living  ...  sqft_basement       lat  sqft_living15\n",
              "0     -0.390501  -1.485038    -1.045389  ...      -0.672624 -0.347763      -0.954146\n",
              "1     -0.390501   0.227033     0.680221  ...       0.304055  1.160677      -0.414070\n",
              "2     -1.513721  -1.485038    -1.554382  ...      -0.672624  1.282186       1.175294\n",
              "3      0.732719   1.254276    -0.077061  ...       1.549321 -0.278740      -0.923284\n",
              "4     -0.390501  -0.115381    -0.424666  ...      -0.672624  0.411490      -0.244332\n",
              "...         ...        ...          ...  ...            ...       ...            ...\n",
              "21608 -0.390501   0.569448    -0.610883  ...      -0.672624  1.004656      -0.660962\n",
              "21609  0.732719   0.569448     0.357445  ...      -0.672624 -0.351358      -0.198040\n",
              "21610 -1.513721  -1.827452    -1.244020  ...      -0.672624  0.250436      -1.447929\n",
              "21611 -0.390501   0.569448    -0.523982  ...      -0.672624 -0.180238      -0.846131\n",
              "21612 -1.513721  -1.827452    -1.244020  ...      -0.672624  0.248280      -1.447929\n",
              "\n",
              "[21216 rows x 9 columns]"
            ]
          },
          "metadata": {
            "tags": []
          },
          "execution_count": 19
        }
      ]
    },
    {
      "cell_type": "code",
      "metadata": {
        "id": "M8HI1d-UvoMM",
        "colab_type": "code",
        "colab": {
          "base_uri": "https://localhost:8080/",
          "height": 187
        },
        "outputId": "69c0181a-6d9c-4832-d794-99f970b1e0c0"
      },
      "source": [
        "X_norm.mean()"
      ],
      "execution_count": 20,
      "outputs": [
        {
          "output_type": "execute_result",
          "data": {
            "text/plain": [
              "bedrooms         9.359762e-16\n",
              "bathrooms       -8.026500e-15\n",
              "sqft_living      2.806955e-17\n",
              "view             2.690103e-16\n",
              "grade           -7.106866e-15\n",
              "sqft_above       1.431102e-15\n",
              "sqft_basement   -8.418459e-16\n",
              "lat              2.871893e-14\n",
              "sqft_living15   -6.524444e-17\n",
              "dtype: float64"
            ]
          },
          "metadata": {
            "tags": []
          },
          "execution_count": 20
        }
      ]
    },
    {
      "cell_type": "markdown",
      "metadata": {
        "id": "sL3kz-q-v5Zf",
        "colab_type": "text"
      },
      "source": [
        "Regressão Linear"
      ]
    },
    {
      "cell_type": "code",
      "metadata": {
        "id": "IkHBPz1_wbXn",
        "colab_type": "code",
        "colab": {}
      },
      "source": [
        "a,b,c,d = (1,2,3,4)"
      ],
      "execution_count": 21,
      "outputs": []
    },
    {
      "cell_type": "code",
      "metadata": {
        "id": "vHZfvv1qwdwx",
        "colab_type": "code",
        "colab": {
          "base_uri": "https://localhost:8080/",
          "height": 34
        },
        "outputId": "62f0cd02-38ab-46f7-b1cd-87751cad48f7"
      },
      "source": [
        "b"
      ],
      "execution_count": 22,
      "outputs": [
        {
          "output_type": "execute_result",
          "data": {
            "text/plain": [
              "2"
            ]
          },
          "metadata": {
            "tags": []
          },
          "execution_count": 22
        }
      ]
    },
    {
      "cell_type": "code",
      "metadata": {
        "id": "j6NbHnQVwEeh",
        "colab_type": "code",
        "colab": {}
      },
      "source": [
        "from sklearn.model_selection import train_test_split\n",
        "X_train, X_test, y_train, y_test = train_test_split(X_norm, y, test_size=0.2, random_state=42)"
      ],
      "execution_count": 23,
      "outputs": []
    },
    {
      "cell_type": "code",
      "metadata": {
        "id": "lxYUYwRcv5Gn",
        "colab_type": "code",
        "colab": {
          "base_uri": "https://localhost:8080/",
          "height": 54
        },
        "outputId": "c8276f41-903d-4ba5-e08c-d0e11b40ebd5"
      },
      "source": [
        "from sklearn.linear_model import LinearRegression\n",
        "lr = LinearRegression()\n",
        "lr.fit(X_train, y_train)"
      ],
      "execution_count": 24,
      "outputs": [
        {
          "output_type": "execute_result",
          "data": {
            "text/plain": [
              "LinearRegression(copy_X=True, fit_intercept=True, n_jobs=None, normalize=False)"
            ]
          },
          "metadata": {
            "tags": []
          },
          "execution_count": 24
        }
      ]
    },
    {
      "cell_type": "code",
      "metadata": {
        "id": "_bXqfevCvrqw",
        "colab_type": "code",
        "colab": {}
      },
      "source": [
        "y_pred = lr.predict(X_test)"
      ],
      "execution_count": 25,
      "outputs": []
    },
    {
      "cell_type": "code",
      "metadata": {
        "id": "eg3qtYt6wsfG",
        "colab_type": "code",
        "colab": {}
      },
      "source": [
        "from sklearn.metrics import mean_squared_error\n",
        "rmse = np.sqrt(mean_squared_error(y_pred, y_test))"
      ],
      "execution_count": 26,
      "outputs": []
    },
    {
      "cell_type": "code",
      "metadata": {
        "id": "UEvW870JxfA4",
        "colab_type": "code",
        "colab": {
          "base_uri": "https://localhost:8080/",
          "height": 34
        },
        "outputId": "f350aeec-058f-4b5e-b789-ffd27abe8c1d"
      },
      "source": [
        "rmse"
      ],
      "execution_count": 27,
      "outputs": [
        {
          "output_type": "execute_result",
          "data": {
            "text/plain": [
              "185817.64127795477"
            ]
          },
          "metadata": {
            "tags": []
          },
          "execution_count": 27
        }
      ]
    },
    {
      "cell_type": "code",
      "metadata": {
        "id": "PAPuJymZxfu1",
        "colab_type": "code",
        "colab": {
          "base_uri": "https://localhost:8080/",
          "height": 170
        },
        "outputId": "3a685c77-f4d5-4f3f-abd6-bffbfd00cf5d"
      },
      "source": [
        "important.price.describe()"
      ],
      "execution_count": 28,
      "outputs": [
        {
          "output_type": "execute_result",
          "data": {
            "text/plain": [
              "count    2.121600e+04\n",
              "mean     5.187656e+05\n",
              "std      3.048539e+05\n",
              "min      7.500000e+04\n",
              "25%      3.200000e+05\n",
              "50%      4.470000e+05\n",
              "75%      6.300000e+05\n",
              "max      3.650000e+06\n",
              "Name: price, dtype: float64"
            ]
          },
          "metadata": {
            "tags": []
          },
          "execution_count": 28
        }
      ]
    },
    {
      "cell_type": "markdown",
      "metadata": {
        "id": "PrnV-NHQxsG0",
        "colab_type": "text"
      },
      "source": [
        "Regressão Polinomial"
      ]
    },
    {
      "cell_type": "code",
      "metadata": {
        "id": "ZbGpSLjbxnnl",
        "colab_type": "code",
        "colab": {}
      },
      "source": [
        "from sklearn.preprocessing import PolynomialFeatures\n",
        "\n",
        "poly = PolynomialFeatures(4)\n",
        "\n",
        "xtrain_poly = poly.fit_transform(X_train)\n",
        "xtest_poly = poly.fit_transform(X_test)"
      ],
      "execution_count": 38,
      "outputs": []
    },
    {
      "cell_type": "code",
      "metadata": {
        "id": "RotgKsEqzSwr",
        "colab_type": "code",
        "colab": {
          "base_uri": "https://localhost:8080/",
          "height": 34
        },
        "outputId": "3b4dd930-ffca-4c3b-bd72-242c98a93238"
      },
      "source": [
        "xtrain_poly.shape"
      ],
      "execution_count": 39,
      "outputs": [
        {
          "output_type": "execute_result",
          "data": {
            "text/plain": [
              "(16972, 715)"
            ]
          },
          "metadata": {
            "tags": []
          },
          "execution_count": 39
        }
      ]
    },
    {
      "cell_type": "code",
      "metadata": {
        "id": "4HIUnzCozUig",
        "colab_type": "code",
        "colab": {
          "base_uri": "https://localhost:8080/",
          "height": 34
        },
        "outputId": "7ff78409-3c72-4203-9db4-a2f554eaeaa6"
      },
      "source": [
        "X_train.shape"
      ],
      "execution_count": 40,
      "outputs": [
        {
          "output_type": "execute_result",
          "data": {
            "text/plain": [
              "(16972, 9)"
            ]
          },
          "metadata": {
            "tags": []
          },
          "execution_count": 40
        }
      ]
    },
    {
      "cell_type": "code",
      "metadata": {
        "id": "VA-ElmGCzZek",
        "colab_type": "code",
        "colab": {
          "base_uri": "https://localhost:8080/",
          "height": 54
        },
        "outputId": "c34e1154-79e4-47bd-e44b-89338292597d"
      },
      "source": [
        "lr_poly = LinearRegression()\n",
        "lr_poly.fit(xtrain_poly, y_train) "
      ],
      "execution_count": 41,
      "outputs": [
        {
          "output_type": "execute_result",
          "data": {
            "text/plain": [
              "LinearRegression(copy_X=True, fit_intercept=True, n_jobs=None, normalize=False)"
            ]
          },
          "metadata": {
            "tags": []
          },
          "execution_count": 41
        }
      ]
    },
    {
      "cell_type": "code",
      "metadata": {
        "id": "DG4l7cRjzkcT",
        "colab_type": "code",
        "colab": {}
      },
      "source": [
        "y_pred_poly = lr_poly.predict(xtest_poly)"
      ],
      "execution_count": 42,
      "outputs": []
    },
    {
      "cell_type": "code",
      "metadata": {
        "id": "-D9zExTKz1fp",
        "colab_type": "code",
        "colab": {}
      },
      "source": [
        "from sklearn.metrics import mean_squared_error\n",
        "rmse_poly = np.sqrt(mean_squared_error(y_pred_poly, y_test))"
      ],
      "execution_count": 43,
      "outputs": []
    },
    {
      "cell_type": "code",
      "metadata": {
        "id": "h92fg8WHz_C0",
        "colab_type": "code",
        "colab": {
          "base_uri": "https://localhost:8080/",
          "height": 34
        },
        "outputId": "43ebab47-7fc7-4a5a-8493-c75c02fcc1dc"
      },
      "source": [
        "rmse_poly"
      ],
      "execution_count": 44,
      "outputs": [
        {
          "output_type": "execute_result",
          "data": {
            "text/plain": [
              "153469.5255451676"
            ]
          },
          "metadata": {
            "tags": []
          },
          "execution_count": 44
        }
      ]
    },
    {
      "cell_type": "code",
      "metadata": {
        "id": "CMJbAlKl0Mon",
        "colab_type": "code",
        "colab": {
          "base_uri": "https://localhost:8080/",
          "height": 34
        },
        "outputId": "4fbebe20-33a1-4c5f-e457-39ff09e92555"
      },
      "source": [
        "rmse"
      ],
      "execution_count": 45,
      "outputs": [
        {
          "output_type": "execute_result",
          "data": {
            "text/plain": [
              "185817.64127795477"
            ]
          },
          "metadata": {
            "tags": []
          },
          "execution_count": 45
        }
      ]
    },
    {
      "cell_type": "code",
      "metadata": {
        "id": "Y6Pf9dhb0OZm",
        "colab_type": "code",
        "colab": {
          "base_uri": "https://localhost:8080/",
          "height": 542
        },
        "outputId": "075485d9-3578-49ee-f306-a9f40220ebb0"
      },
      "source": [
        "fig = go.Figure()\n",
        "fig.add_scatter(y = y_pred_poly[:24], name = 'y_pred_poly')\n",
        "fig.add_scatter(y = y_test[:24], name = 'y_test')"
      ],
      "execution_count": 37,
      "outputs": [
        {
          "output_type": "display_data",
          "data": {
            "text/html": [
              "<html>\n",
              "<head><meta charset=\"utf-8\" /></head>\n",
              "<body>\n",
              "    <div>\n",
              "            <script src=\"https://cdnjs.cloudflare.com/ajax/libs/mathjax/2.7.5/MathJax.js?config=TeX-AMS-MML_SVG\"></script><script type=\"text/javascript\">if (window.MathJax) {MathJax.Hub.Config({SVG: {font: \"STIX-Web\"}});}</script>\n",
              "                <script type=\"text/javascript\">window.PlotlyConfig = {MathJaxConfig: 'local'};</script>\n",
              "        <script src=\"https://cdn.plot.ly/plotly-latest.min.js\"></script>    \n",
              "            <div id=\"8ff6bf3a-b788-44bc-913a-9d2e19bcebd9\" class=\"plotly-graph-div\" style=\"height:525px; width:100%;\"></div>\n",
              "            <script type=\"text/javascript\">\n",
              "                \n",
              "                    window.PLOTLYENV=window.PLOTLYENV || {};\n",
              "                    \n",
              "                if (document.getElementById(\"8ff6bf3a-b788-44bc-913a-9d2e19bcebd9\")) {\n",
              "                    Plotly.newPlot(\n",
              "                        '8ff6bf3a-b788-44bc-913a-9d2e19bcebd9',\n",
              "                        [{\"name\": \"y_pred_poly\", \"type\": \"scatter\", \"y\": [438933.783203125, 851938.1588134766, 297299.2834472656, 454085.5184326172, 605930.1459960938, 559411.8660888672, 480949.57751464844, 724261.2678222656, 651665.2760009766, 447404.953125, 724425.1451416016, 671787.2801513672, 656369.0991210938, 198223.720703125, 615316.0384521484, 509481.25439453125, 358835.79748535156, 548331.8687744141, 233927.30859375, 517864.1662597656, 540813.5723876953, 464510.8525390625, 510682.63439941406, 1047480.8049316406]}, {\"name\": \"y_test\", \"type\": \"scatter\", \"y\": [365000.0, 692500.0, 370000.0, 550000.0, 685000.0, 594950.0, 525000.0, 725000.0, 743000.0, 350000.0, 685000.0, 710000.0, 740000.0, 233000.0, 488000.0, 460000.0, 360000.0, 639000.0, 330000.0, 488250.0, 525000.0, 549950.0, 462600.0, 385000.0]}],\n",
              "                        {\"template\": {\"data\": {\"bar\": [{\"error_x\": {\"color\": \"#2a3f5f\"}, \"error_y\": {\"color\": \"#2a3f5f\"}, \"marker\": {\"line\": {\"color\": \"#E5ECF6\", \"width\": 0.5}}, \"type\": \"bar\"}], \"barpolar\": [{\"marker\": {\"line\": {\"color\": \"#E5ECF6\", \"width\": 0.5}}, \"type\": \"barpolar\"}], \"carpet\": [{\"aaxis\": {\"endlinecolor\": \"#2a3f5f\", \"gridcolor\": \"white\", \"linecolor\": \"white\", \"minorgridcolor\": \"white\", \"startlinecolor\": \"#2a3f5f\"}, \"baxis\": {\"endlinecolor\": \"#2a3f5f\", \"gridcolor\": \"white\", \"linecolor\": \"white\", \"minorgridcolor\": \"white\", \"startlinecolor\": \"#2a3f5f\"}, \"type\": \"carpet\"}], \"choropleth\": [{\"colorbar\": {\"outlinewidth\": 0, \"ticks\": \"\"}, \"type\": \"choropleth\"}], \"contour\": [{\"colorbar\": {\"outlinewidth\": 0, \"ticks\": \"\"}, \"colorscale\": [[0.0, \"#0d0887\"], [0.1111111111111111, \"#46039f\"], [0.2222222222222222, \"#7201a8\"], [0.3333333333333333, \"#9c179e\"], [0.4444444444444444, \"#bd3786\"], [0.5555555555555556, \"#d8576b\"], [0.6666666666666666, \"#ed7953\"], [0.7777777777777778, \"#fb9f3a\"], [0.8888888888888888, \"#fdca26\"], [1.0, \"#f0f921\"]], \"type\": \"contour\"}], \"contourcarpet\": [{\"colorbar\": {\"outlinewidth\": 0, \"ticks\": \"\"}, \"type\": \"contourcarpet\"}], \"heatmap\": [{\"colorbar\": {\"outlinewidth\": 0, \"ticks\": \"\"}, \"colorscale\": [[0.0, \"#0d0887\"], [0.1111111111111111, \"#46039f\"], [0.2222222222222222, \"#7201a8\"], [0.3333333333333333, \"#9c179e\"], [0.4444444444444444, \"#bd3786\"], [0.5555555555555556, \"#d8576b\"], [0.6666666666666666, \"#ed7953\"], [0.7777777777777778, \"#fb9f3a\"], [0.8888888888888888, \"#fdca26\"], [1.0, \"#f0f921\"]], \"type\": \"heatmap\"}], \"heatmapgl\": [{\"colorbar\": {\"outlinewidth\": 0, \"ticks\": \"\"}, \"colorscale\": [[0.0, \"#0d0887\"], [0.1111111111111111, \"#46039f\"], [0.2222222222222222, \"#7201a8\"], [0.3333333333333333, \"#9c179e\"], [0.4444444444444444, \"#bd3786\"], [0.5555555555555556, \"#d8576b\"], [0.6666666666666666, \"#ed7953\"], [0.7777777777777778, \"#fb9f3a\"], [0.8888888888888888, \"#fdca26\"], [1.0, \"#f0f921\"]], \"type\": \"heatmapgl\"}], \"histogram\": [{\"marker\": {\"colorbar\": {\"outlinewidth\": 0, \"ticks\": \"\"}}, \"type\": \"histogram\"}], \"histogram2d\": [{\"colorbar\": {\"outlinewidth\": 0, \"ticks\": \"\"}, \"colorscale\": [[0.0, \"#0d0887\"], [0.1111111111111111, \"#46039f\"], [0.2222222222222222, \"#7201a8\"], [0.3333333333333333, \"#9c179e\"], [0.4444444444444444, \"#bd3786\"], [0.5555555555555556, \"#d8576b\"], [0.6666666666666666, \"#ed7953\"], [0.7777777777777778, \"#fb9f3a\"], [0.8888888888888888, \"#fdca26\"], [1.0, \"#f0f921\"]], \"type\": \"histogram2d\"}], \"histogram2dcontour\": [{\"colorbar\": {\"outlinewidth\": 0, \"ticks\": \"\"}, \"colorscale\": [[0.0, \"#0d0887\"], [0.1111111111111111, \"#46039f\"], [0.2222222222222222, \"#7201a8\"], [0.3333333333333333, \"#9c179e\"], [0.4444444444444444, \"#bd3786\"], [0.5555555555555556, \"#d8576b\"], [0.6666666666666666, \"#ed7953\"], [0.7777777777777778, \"#fb9f3a\"], [0.8888888888888888, \"#fdca26\"], [1.0, \"#f0f921\"]], \"type\": \"histogram2dcontour\"}], \"mesh3d\": [{\"colorbar\": {\"outlinewidth\": 0, \"ticks\": \"\"}, \"type\": \"mesh3d\"}], \"parcoords\": [{\"line\": {\"colorbar\": {\"outlinewidth\": 0, \"ticks\": \"\"}}, \"type\": \"parcoords\"}], \"pie\": [{\"automargin\": true, \"type\": \"pie\"}], \"scatter\": [{\"marker\": {\"colorbar\": {\"outlinewidth\": 0, \"ticks\": \"\"}}, \"type\": \"scatter\"}], \"scatter3d\": [{\"line\": {\"colorbar\": {\"outlinewidth\": 0, \"ticks\": \"\"}}, \"marker\": {\"colorbar\": {\"outlinewidth\": 0, \"ticks\": \"\"}}, \"type\": \"scatter3d\"}], \"scattercarpet\": [{\"marker\": {\"colorbar\": {\"outlinewidth\": 0, \"ticks\": \"\"}}, \"type\": \"scattercarpet\"}], \"scattergeo\": [{\"marker\": {\"colorbar\": {\"outlinewidth\": 0, \"ticks\": \"\"}}, \"type\": \"scattergeo\"}], \"scattergl\": [{\"marker\": {\"colorbar\": {\"outlinewidth\": 0, \"ticks\": \"\"}}, \"type\": \"scattergl\"}], \"scattermapbox\": [{\"marker\": {\"colorbar\": {\"outlinewidth\": 0, \"ticks\": \"\"}}, \"type\": \"scattermapbox\"}], \"scatterpolar\": [{\"marker\": {\"colorbar\": {\"outlinewidth\": 0, \"ticks\": \"\"}}, \"type\": \"scatterpolar\"}], \"scatterpolargl\": [{\"marker\": {\"colorbar\": {\"outlinewidth\": 0, \"ticks\": \"\"}}, \"type\": \"scatterpolargl\"}], \"scatterternary\": [{\"marker\": {\"colorbar\": {\"outlinewidth\": 0, \"ticks\": \"\"}}, \"type\": \"scatterternary\"}], \"surface\": [{\"colorbar\": {\"outlinewidth\": 0, \"ticks\": \"\"}, \"colorscale\": [[0.0, \"#0d0887\"], [0.1111111111111111, \"#46039f\"], [0.2222222222222222, \"#7201a8\"], [0.3333333333333333, \"#9c179e\"], [0.4444444444444444, \"#bd3786\"], [0.5555555555555556, \"#d8576b\"], [0.6666666666666666, \"#ed7953\"], [0.7777777777777778, \"#fb9f3a\"], [0.8888888888888888, \"#fdca26\"], [1.0, \"#f0f921\"]], \"type\": \"surface\"}], \"table\": [{\"cells\": {\"fill\": {\"color\": \"#EBF0F8\"}, \"line\": {\"color\": \"white\"}}, \"header\": {\"fill\": {\"color\": \"#C8D4E3\"}, \"line\": {\"color\": \"white\"}}, \"type\": \"table\"}]}, \"layout\": {\"annotationdefaults\": {\"arrowcolor\": \"#2a3f5f\", \"arrowhead\": 0, \"arrowwidth\": 1}, \"coloraxis\": {\"colorbar\": {\"outlinewidth\": 0, \"ticks\": \"\"}}, \"colorscale\": {\"diverging\": [[0, \"#8e0152\"], [0.1, \"#c51b7d\"], [0.2, \"#de77ae\"], [0.3, \"#f1b6da\"], [0.4, \"#fde0ef\"], [0.5, \"#f7f7f7\"], [0.6, \"#e6f5d0\"], [0.7, \"#b8e186\"], [0.8, \"#7fbc41\"], [0.9, \"#4d9221\"], [1, \"#276419\"]], \"sequential\": [[0.0, \"#0d0887\"], [0.1111111111111111, \"#46039f\"], [0.2222222222222222, \"#7201a8\"], [0.3333333333333333, \"#9c179e\"], [0.4444444444444444, \"#bd3786\"], [0.5555555555555556, \"#d8576b\"], [0.6666666666666666, \"#ed7953\"], [0.7777777777777778, \"#fb9f3a\"], [0.8888888888888888, \"#fdca26\"], [1.0, \"#f0f921\"]], \"sequentialminus\": [[0.0, \"#0d0887\"], [0.1111111111111111, \"#46039f\"], [0.2222222222222222, \"#7201a8\"], [0.3333333333333333, \"#9c179e\"], [0.4444444444444444, \"#bd3786\"], [0.5555555555555556, \"#d8576b\"], [0.6666666666666666, \"#ed7953\"], [0.7777777777777778, \"#fb9f3a\"], [0.8888888888888888, \"#fdca26\"], [1.0, \"#f0f921\"]]}, \"colorway\": [\"#636efa\", \"#EF553B\", \"#00cc96\", \"#ab63fa\", \"#FFA15A\", \"#19d3f3\", \"#FF6692\", \"#B6E880\", \"#FF97FF\", \"#FECB52\"], \"font\": {\"color\": \"#2a3f5f\"}, \"geo\": {\"bgcolor\": \"white\", \"lakecolor\": \"white\", \"landcolor\": \"#E5ECF6\", \"showlakes\": true, \"showland\": true, \"subunitcolor\": \"white\"}, \"hoverlabel\": {\"align\": \"left\"}, \"hovermode\": \"closest\", \"mapbox\": {\"style\": \"light\"}, \"paper_bgcolor\": \"white\", \"plot_bgcolor\": \"#E5ECF6\", \"polar\": {\"angularaxis\": {\"gridcolor\": \"white\", \"linecolor\": \"white\", \"ticks\": \"\"}, \"bgcolor\": \"#E5ECF6\", \"radialaxis\": {\"gridcolor\": \"white\", \"linecolor\": \"white\", \"ticks\": \"\"}}, \"scene\": {\"xaxis\": {\"backgroundcolor\": \"#E5ECF6\", \"gridcolor\": \"white\", \"gridwidth\": 2, \"linecolor\": \"white\", \"showbackground\": true, \"ticks\": \"\", \"zerolinecolor\": \"white\"}, \"yaxis\": {\"backgroundcolor\": \"#E5ECF6\", \"gridcolor\": \"white\", \"gridwidth\": 2, \"linecolor\": \"white\", \"showbackground\": true, \"ticks\": \"\", \"zerolinecolor\": \"white\"}, \"zaxis\": {\"backgroundcolor\": \"#E5ECF6\", \"gridcolor\": \"white\", \"gridwidth\": 2, \"linecolor\": \"white\", \"showbackground\": true, \"ticks\": \"\", \"zerolinecolor\": \"white\"}}, \"shapedefaults\": {\"line\": {\"color\": \"#2a3f5f\"}}, \"ternary\": {\"aaxis\": {\"gridcolor\": \"white\", \"linecolor\": \"white\", \"ticks\": \"\"}, \"baxis\": {\"gridcolor\": \"white\", \"linecolor\": \"white\", \"ticks\": \"\"}, \"bgcolor\": \"#E5ECF6\", \"caxis\": {\"gridcolor\": \"white\", \"linecolor\": \"white\", \"ticks\": \"\"}}, \"title\": {\"x\": 0.05}, \"xaxis\": {\"automargin\": true, \"gridcolor\": \"white\", \"linecolor\": \"white\", \"ticks\": \"\", \"title\": {\"standoff\": 15}, \"zerolinecolor\": \"white\", \"zerolinewidth\": 2}, \"yaxis\": {\"automargin\": true, \"gridcolor\": \"white\", \"linecolor\": \"white\", \"ticks\": \"\", \"title\": {\"standoff\": 15}, \"zerolinecolor\": \"white\", \"zerolinewidth\": 2}}}},\n",
              "                        {\"responsive\": true}\n",
              "                    ).then(function(){\n",
              "                            \n",
              "var gd = document.getElementById('8ff6bf3a-b788-44bc-913a-9d2e19bcebd9');\n",
              "var x = new MutationObserver(function (mutations, observer) {{\n",
              "        var display = window.getComputedStyle(gd).display;\n",
              "        if (!display || display === 'none') {{\n",
              "            console.log([gd, 'removed!']);\n",
              "            Plotly.purge(gd);\n",
              "            observer.disconnect();\n",
              "        }}\n",
              "}});\n",
              "\n",
              "// Listen for the removal of the full notebook cells\n",
              "var notebookContainer = gd.closest('#notebook-container');\n",
              "if (notebookContainer) {{\n",
              "    x.observe(notebookContainer, {childList: true});\n",
              "}}\n",
              "\n",
              "// Listen for the clearing of the current output cell\n",
              "var outputEl = gd.closest('.output');\n",
              "if (outputEl) {{\n",
              "    x.observe(outputEl, {childList: true});\n",
              "}}\n",
              "\n",
              "                        })\n",
              "                };\n",
              "                \n",
              "            </script>\n",
              "        </div>\n",
              "</body>\n",
              "</html>"
            ]
          },
          "metadata": {
            "tags": []
          }
        }
      ]
    },
    {
      "cell_type": "markdown",
      "metadata": {
        "id": "obVHS7KI1oR3",
        "colab_type": "text"
      },
      "source": [
        "Arvore de Decisão"
      ]
    },
    {
      "cell_type": "code",
      "metadata": {
        "id": "8cCxE2PD0h8U",
        "colab_type": "code",
        "colab": {}
      },
      "source": [
        "from sklearn.model_selection import train_test_split\n",
        "X_train, X_test, y_train, y_test = train_test_split(X, y, test_size=0.2, random_state=42)"
      ],
      "execution_count": 46,
      "outputs": []
    },
    {
      "cell_type": "code",
      "metadata": {
        "id": "OTORq3dG146X",
        "colab_type": "code",
        "colab": {
          "base_uri": "https://localhost:8080/",
          "height": 119
        },
        "outputId": "d2ad0f4c-10cb-4d7d-bce7-6c55ace5483a"
      },
      "source": [
        "from sklearn.tree import DecisionTreeRegressor\n",
        "\n",
        "tree = DecisionTreeRegressor()\n",
        "\n",
        "tree.fit(X_train, y_train)"
      ],
      "execution_count": 47,
      "outputs": [
        {
          "output_type": "execute_result",
          "data": {
            "text/plain": [
              "DecisionTreeRegressor(ccp_alpha=0.0, criterion='mse', max_depth=None,\n",
              "                      max_features=None, max_leaf_nodes=None,\n",
              "                      min_impurity_decrease=0.0, min_impurity_split=None,\n",
              "                      min_samples_leaf=1, min_samples_split=2,\n",
              "                      min_weight_fraction_leaf=0.0, presort='deprecated',\n",
              "                      random_state=None, splitter='best')"
            ]
          },
          "metadata": {
            "tags": []
          },
          "execution_count": 47
        }
      ]
    },
    {
      "cell_type": "code",
      "metadata": {
        "id": "-xsf7u-t2-V5",
        "colab_type": "code",
        "colab": {}
      },
      "source": [
        "y_pred_tree = tree.predict(X_test)"
      ],
      "execution_count": 48,
      "outputs": []
    },
    {
      "cell_type": "code",
      "metadata": {
        "id": "HOZFNRPL3K_h",
        "colab_type": "code",
        "colab": {}
      },
      "source": [
        "from sklearn.metrics import mean_squared_error\n",
        "rmse_tree = np.sqrt(mean_squared_error(y_pred_tree, y_test))"
      ],
      "execution_count": 49,
      "outputs": []
    },
    {
      "cell_type": "code",
      "metadata": {
        "id": "PHwTClXX3RtF",
        "colab_type": "code",
        "colab": {
          "base_uri": "https://localhost:8080/",
          "height": 34
        },
        "outputId": "1df02f8c-7583-4df5-e68a-ae0a223678ca"
      },
      "source": [
        "rmse_tree"
      ],
      "execution_count": 50,
      "outputs": [
        {
          "output_type": "execute_result",
          "data": {
            "text/plain": [
              "185115.03522992737"
            ]
          },
          "metadata": {
            "tags": []
          },
          "execution_count": 50
        }
      ]
    },
    {
      "cell_type": "code",
      "metadata": {
        "id": "dS86Te7-3TAO",
        "colab_type": "code",
        "colab": {
          "base_uri": "https://localhost:8080/",
          "height": 542
        },
        "outputId": "6c067989-de56-4f33-8410-a4fd65dc7f73"
      },
      "source": [
        "fig = go.Figure()\n",
        "fig.add_scatter(y = y_pred_poly[:24], name = 'y_pred_poly')\n",
        "fig.add_scatter(y = y_pred_tree[:24], name = 'y_pred_tree')\n",
        "\n",
        "fig.add_scatter(y = y_test[:24], name = 'y_test')"
      ],
      "execution_count": 52,
      "outputs": [
        {
          "output_type": "display_data",
          "data": {
            "text/html": [
              "<html>\n",
              "<head><meta charset=\"utf-8\" /></head>\n",
              "<body>\n",
              "    <div>\n",
              "            <script src=\"https://cdnjs.cloudflare.com/ajax/libs/mathjax/2.7.5/MathJax.js?config=TeX-AMS-MML_SVG\"></script><script type=\"text/javascript\">if (window.MathJax) {MathJax.Hub.Config({SVG: {font: \"STIX-Web\"}});}</script>\n",
              "                <script type=\"text/javascript\">window.PlotlyConfig = {MathJaxConfig: 'local'};</script>\n",
              "        <script src=\"https://cdn.plot.ly/plotly-latest.min.js\"></script>    \n",
              "            <div id=\"0ebbf447-c454-4a86-a088-84a5985ac5e2\" class=\"plotly-graph-div\" style=\"height:525px; width:100%;\"></div>\n",
              "            <script type=\"text/javascript\">\n",
              "                \n",
              "                    window.PLOTLYENV=window.PLOTLYENV || {};\n",
              "                    \n",
              "                if (document.getElementById(\"0ebbf447-c454-4a86-a088-84a5985ac5e2\")) {\n",
              "                    Plotly.newPlot(\n",
              "                        '0ebbf447-c454-4a86-a088-84a5985ac5e2',\n",
              "                        [{\"name\": \"y_pred_poly\", \"type\": \"scatter\", \"y\": [441862.59352731705, 881827.9527702332, 377504.38028621674, 435694.49047613144, 701818.6692352295, 665021.2878341675, 464478.0931529999, 729404.3641815186, 592144.3994054794, 482852.3834710121, 465235.9054083824, 622355.2558250427, 613239.8731117249, 228595.4609708786, 653133.3952031136, 485356.35076618195, 383823.76946640015, 556464.4709644318, 266057.7316684723, 544229.575776577, 607466.0917453766, 406533.32313251495, 464549.8739686012, 533824.5541124344]}, {\"name\": \"y_pred_tree\", \"type\": \"scatter\", \"y\": [377000.0, 847093.0, 420000.0, 468000.0, 605000.0, 555000.0, 540000.0, 825000.0, 610000.0, 445000.0, 387500.0, 840000.0, 600000.0, 267000.0, 690000.0, 465750.0, 425996.0, 550000.0, 389000.0, 470000.0, 575000.0, 527000.0, 425000.0, 410000.0]}, {\"name\": \"y_test\", \"type\": \"scatter\", \"y\": [365000.0, 692500.0, 370000.0, 550000.0, 685000.0, 594950.0, 525000.0, 725000.0, 743000.0, 350000.0, 685000.0, 710000.0, 740000.0, 233000.0, 488000.0, 460000.0, 360000.0, 639000.0, 330000.0, 488250.0, 525000.0, 549950.0, 462600.0, 385000.0]}],\n",
              "                        {\"template\": {\"data\": {\"bar\": [{\"error_x\": {\"color\": \"#2a3f5f\"}, \"error_y\": {\"color\": \"#2a3f5f\"}, \"marker\": {\"line\": {\"color\": \"#E5ECF6\", \"width\": 0.5}}, \"type\": \"bar\"}], \"barpolar\": [{\"marker\": {\"line\": {\"color\": \"#E5ECF6\", \"width\": 0.5}}, \"type\": \"barpolar\"}], \"carpet\": [{\"aaxis\": {\"endlinecolor\": \"#2a3f5f\", \"gridcolor\": \"white\", \"linecolor\": \"white\", \"minorgridcolor\": \"white\", \"startlinecolor\": \"#2a3f5f\"}, \"baxis\": {\"endlinecolor\": \"#2a3f5f\", \"gridcolor\": \"white\", \"linecolor\": \"white\", \"minorgridcolor\": \"white\", \"startlinecolor\": \"#2a3f5f\"}, \"type\": \"carpet\"}], \"choropleth\": [{\"colorbar\": {\"outlinewidth\": 0, \"ticks\": \"\"}, \"type\": \"choropleth\"}], \"contour\": [{\"colorbar\": {\"outlinewidth\": 0, \"ticks\": \"\"}, \"colorscale\": [[0.0, \"#0d0887\"], [0.1111111111111111, \"#46039f\"], [0.2222222222222222, \"#7201a8\"], [0.3333333333333333, \"#9c179e\"], [0.4444444444444444, \"#bd3786\"], [0.5555555555555556, \"#d8576b\"], [0.6666666666666666, \"#ed7953\"], [0.7777777777777778, \"#fb9f3a\"], [0.8888888888888888, \"#fdca26\"], [1.0, \"#f0f921\"]], \"type\": \"contour\"}], \"contourcarpet\": [{\"colorbar\": {\"outlinewidth\": 0, \"ticks\": \"\"}, \"type\": \"contourcarpet\"}], \"heatmap\": [{\"colorbar\": {\"outlinewidth\": 0, \"ticks\": \"\"}, \"colorscale\": [[0.0, \"#0d0887\"], [0.1111111111111111, \"#46039f\"], [0.2222222222222222, \"#7201a8\"], [0.3333333333333333, \"#9c179e\"], [0.4444444444444444, \"#bd3786\"], [0.5555555555555556, \"#d8576b\"], [0.6666666666666666, \"#ed7953\"], [0.7777777777777778, \"#fb9f3a\"], [0.8888888888888888, \"#fdca26\"], [1.0, \"#f0f921\"]], \"type\": \"heatmap\"}], \"heatmapgl\": [{\"colorbar\": {\"outlinewidth\": 0, \"ticks\": \"\"}, \"colorscale\": [[0.0, \"#0d0887\"], [0.1111111111111111, \"#46039f\"], [0.2222222222222222, \"#7201a8\"], [0.3333333333333333, \"#9c179e\"], [0.4444444444444444, \"#bd3786\"], [0.5555555555555556, \"#d8576b\"], [0.6666666666666666, \"#ed7953\"], [0.7777777777777778, \"#fb9f3a\"], [0.8888888888888888, \"#fdca26\"], [1.0, \"#f0f921\"]], \"type\": \"heatmapgl\"}], \"histogram\": [{\"marker\": {\"colorbar\": {\"outlinewidth\": 0, \"ticks\": \"\"}}, \"type\": \"histogram\"}], \"histogram2d\": [{\"colorbar\": {\"outlinewidth\": 0, \"ticks\": \"\"}, \"colorscale\": [[0.0, \"#0d0887\"], [0.1111111111111111, \"#46039f\"], [0.2222222222222222, \"#7201a8\"], [0.3333333333333333, \"#9c179e\"], [0.4444444444444444, \"#bd3786\"], [0.5555555555555556, \"#d8576b\"], [0.6666666666666666, \"#ed7953\"], [0.7777777777777778, \"#fb9f3a\"], [0.8888888888888888, \"#fdca26\"], [1.0, \"#f0f921\"]], \"type\": \"histogram2d\"}], \"histogram2dcontour\": [{\"colorbar\": {\"outlinewidth\": 0, \"ticks\": \"\"}, \"colorscale\": [[0.0, \"#0d0887\"], [0.1111111111111111, \"#46039f\"], [0.2222222222222222, \"#7201a8\"], [0.3333333333333333, \"#9c179e\"], [0.4444444444444444, \"#bd3786\"], [0.5555555555555556, \"#d8576b\"], [0.6666666666666666, \"#ed7953\"], [0.7777777777777778, \"#fb9f3a\"], [0.8888888888888888, \"#fdca26\"], [1.0, \"#f0f921\"]], \"type\": \"histogram2dcontour\"}], \"mesh3d\": [{\"colorbar\": {\"outlinewidth\": 0, \"ticks\": \"\"}, \"type\": \"mesh3d\"}], \"parcoords\": [{\"line\": {\"colorbar\": {\"outlinewidth\": 0, \"ticks\": \"\"}}, \"type\": \"parcoords\"}], \"pie\": [{\"automargin\": true, \"type\": \"pie\"}], \"scatter\": [{\"marker\": {\"colorbar\": {\"outlinewidth\": 0, \"ticks\": \"\"}}, \"type\": \"scatter\"}], \"scatter3d\": [{\"line\": {\"colorbar\": {\"outlinewidth\": 0, \"ticks\": \"\"}}, \"marker\": {\"colorbar\": {\"outlinewidth\": 0, \"ticks\": \"\"}}, \"type\": \"scatter3d\"}], \"scattercarpet\": [{\"marker\": {\"colorbar\": {\"outlinewidth\": 0, \"ticks\": \"\"}}, \"type\": \"scattercarpet\"}], \"scattergeo\": [{\"marker\": {\"colorbar\": {\"outlinewidth\": 0, \"ticks\": \"\"}}, \"type\": \"scattergeo\"}], \"scattergl\": [{\"marker\": {\"colorbar\": {\"outlinewidth\": 0, \"ticks\": \"\"}}, \"type\": \"scattergl\"}], \"scattermapbox\": [{\"marker\": {\"colorbar\": {\"outlinewidth\": 0, \"ticks\": \"\"}}, \"type\": \"scattermapbox\"}], \"scatterpolar\": [{\"marker\": {\"colorbar\": {\"outlinewidth\": 0, \"ticks\": \"\"}}, \"type\": \"scatterpolar\"}], \"scatterpolargl\": [{\"marker\": {\"colorbar\": {\"outlinewidth\": 0, \"ticks\": \"\"}}, \"type\": \"scatterpolargl\"}], \"scatterternary\": [{\"marker\": {\"colorbar\": {\"outlinewidth\": 0, \"ticks\": \"\"}}, \"type\": \"scatterternary\"}], \"surface\": [{\"colorbar\": {\"outlinewidth\": 0, \"ticks\": \"\"}, \"colorscale\": [[0.0, \"#0d0887\"], [0.1111111111111111, \"#46039f\"], [0.2222222222222222, \"#7201a8\"], [0.3333333333333333, \"#9c179e\"], [0.4444444444444444, \"#bd3786\"], [0.5555555555555556, \"#d8576b\"], [0.6666666666666666, \"#ed7953\"], [0.7777777777777778, \"#fb9f3a\"], [0.8888888888888888, \"#fdca26\"], [1.0, \"#f0f921\"]], \"type\": \"surface\"}], \"table\": [{\"cells\": {\"fill\": {\"color\": \"#EBF0F8\"}, \"line\": {\"color\": \"white\"}}, \"header\": {\"fill\": {\"color\": \"#C8D4E3\"}, \"line\": {\"color\": \"white\"}}, \"type\": \"table\"}]}, \"layout\": {\"annotationdefaults\": {\"arrowcolor\": \"#2a3f5f\", \"arrowhead\": 0, \"arrowwidth\": 1}, \"coloraxis\": {\"colorbar\": {\"outlinewidth\": 0, \"ticks\": \"\"}}, \"colorscale\": {\"diverging\": [[0, \"#8e0152\"], [0.1, \"#c51b7d\"], [0.2, \"#de77ae\"], [0.3, \"#f1b6da\"], [0.4, \"#fde0ef\"], [0.5, \"#f7f7f7\"], [0.6, \"#e6f5d0\"], [0.7, \"#b8e186\"], [0.8, \"#7fbc41\"], [0.9, \"#4d9221\"], [1, \"#276419\"]], \"sequential\": [[0.0, \"#0d0887\"], [0.1111111111111111, \"#46039f\"], [0.2222222222222222, \"#7201a8\"], [0.3333333333333333, \"#9c179e\"], [0.4444444444444444, \"#bd3786\"], [0.5555555555555556, \"#d8576b\"], [0.6666666666666666, \"#ed7953\"], [0.7777777777777778, \"#fb9f3a\"], [0.8888888888888888, \"#fdca26\"], [1.0, \"#f0f921\"]], \"sequentialminus\": [[0.0, \"#0d0887\"], [0.1111111111111111, \"#46039f\"], [0.2222222222222222, \"#7201a8\"], [0.3333333333333333, \"#9c179e\"], [0.4444444444444444, \"#bd3786\"], [0.5555555555555556, \"#d8576b\"], [0.6666666666666666, \"#ed7953\"], [0.7777777777777778, \"#fb9f3a\"], [0.8888888888888888, \"#fdca26\"], [1.0, \"#f0f921\"]]}, \"colorway\": [\"#636efa\", \"#EF553B\", \"#00cc96\", \"#ab63fa\", \"#FFA15A\", \"#19d3f3\", \"#FF6692\", \"#B6E880\", \"#FF97FF\", \"#FECB52\"], \"font\": {\"color\": \"#2a3f5f\"}, \"geo\": {\"bgcolor\": \"white\", \"lakecolor\": \"white\", \"landcolor\": \"#E5ECF6\", \"showlakes\": true, \"showland\": true, \"subunitcolor\": \"white\"}, \"hoverlabel\": {\"align\": \"left\"}, \"hovermode\": \"closest\", \"mapbox\": {\"style\": \"light\"}, \"paper_bgcolor\": \"white\", \"plot_bgcolor\": \"#E5ECF6\", \"polar\": {\"angularaxis\": {\"gridcolor\": \"white\", \"linecolor\": \"white\", \"ticks\": \"\"}, \"bgcolor\": \"#E5ECF6\", \"radialaxis\": {\"gridcolor\": \"white\", \"linecolor\": \"white\", \"ticks\": \"\"}}, \"scene\": {\"xaxis\": {\"backgroundcolor\": \"#E5ECF6\", \"gridcolor\": \"white\", \"gridwidth\": 2, \"linecolor\": \"white\", \"showbackground\": true, \"ticks\": \"\", \"zerolinecolor\": \"white\"}, \"yaxis\": {\"backgroundcolor\": \"#E5ECF6\", \"gridcolor\": \"white\", \"gridwidth\": 2, \"linecolor\": \"white\", \"showbackground\": true, \"ticks\": \"\", \"zerolinecolor\": \"white\"}, \"zaxis\": {\"backgroundcolor\": \"#E5ECF6\", \"gridcolor\": \"white\", \"gridwidth\": 2, \"linecolor\": \"white\", \"showbackground\": true, \"ticks\": \"\", \"zerolinecolor\": \"white\"}}, \"shapedefaults\": {\"line\": {\"color\": \"#2a3f5f\"}}, \"ternary\": {\"aaxis\": {\"gridcolor\": \"white\", \"linecolor\": \"white\", \"ticks\": \"\"}, \"baxis\": {\"gridcolor\": \"white\", \"linecolor\": \"white\", \"ticks\": \"\"}, \"bgcolor\": \"#E5ECF6\", \"caxis\": {\"gridcolor\": \"white\", \"linecolor\": \"white\", \"ticks\": \"\"}}, \"title\": {\"x\": 0.05}, \"xaxis\": {\"automargin\": true, \"gridcolor\": \"white\", \"linecolor\": \"white\", \"ticks\": \"\", \"title\": {\"standoff\": 15}, \"zerolinecolor\": \"white\", \"zerolinewidth\": 2}, \"yaxis\": {\"automargin\": true, \"gridcolor\": \"white\", \"linecolor\": \"white\", \"ticks\": \"\", \"title\": {\"standoff\": 15}, \"zerolinecolor\": \"white\", \"zerolinewidth\": 2}}}},\n",
              "                        {\"responsive\": true}\n",
              "                    ).then(function(){\n",
              "                            \n",
              "var gd = document.getElementById('0ebbf447-c454-4a86-a088-84a5985ac5e2');\n",
              "var x = new MutationObserver(function (mutations, observer) {{\n",
              "        var display = window.getComputedStyle(gd).display;\n",
              "        if (!display || display === 'none') {{\n",
              "            console.log([gd, 'removed!']);\n",
              "            Plotly.purge(gd);\n",
              "            observer.disconnect();\n",
              "        }}\n",
              "}});\n",
              "\n",
              "// Listen for the removal of the full notebook cells\n",
              "var notebookContainer = gd.closest('#notebook-container');\n",
              "if (notebookContainer) {{\n",
              "    x.observe(notebookContainer, {childList: true});\n",
              "}}\n",
              "\n",
              "// Listen for the clearing of the current output cell\n",
              "var outputEl = gd.closest('.output');\n",
              "if (outputEl) {{\n",
              "    x.observe(outputEl, {childList: true});\n",
              "}}\n",
              "\n",
              "                        })\n",
              "                };\n",
              "                \n",
              "            </script>\n",
              "        </div>\n",
              "</body>\n",
              "</html>"
            ]
          },
          "metadata": {
            "tags": []
          }
        }
      ]
    },
    {
      "cell_type": "markdown",
      "metadata": {
        "id": "hiru9oPx315z",
        "colab_type": "text"
      },
      "source": [
        "Random Forest"
      ]
    },
    {
      "cell_type": "code",
      "metadata": {
        "id": "6yPhe2BJ3gDw",
        "colab_type": "code",
        "colab": {
          "base_uri": "https://localhost:8080/",
          "height": 1000
        },
        "outputId": "d345dfcb-b87b-42ff-e1cd-080de2c540ab"
      },
      "source": [
        "from sklearn.ensemble import RandomForestRegressor\n",
        "\n",
        "rfr = RandomForestRegressor(n_estimators = 400, verbose=2)\n",
        "\n",
        "rfr.fit(X_train, y_train)"
      ],
      "execution_count": 60,
      "outputs": [
        {
          "output_type": "stream",
          "text": [
            "[Parallel(n_jobs=1)]: Using backend SequentialBackend with 1 concurrent workers.\n",
            "[Parallel(n_jobs=1)]: Done   1 out of   1 | elapsed:    0.1s remaining:    0.0s\n"
          ],
          "name": "stderr"
        },
        {
          "output_type": "stream",
          "text": [
            "building tree 1 of 400\n",
            "building tree 2 of 400\n",
            "building tree 3 of 400\n",
            "building tree 4 of 400\n",
            "building tree 5 of 400\n",
            "building tree 6 of 400\n",
            "building tree 7 of 400\n",
            "building tree 8 of 400\n",
            "building tree 9 of 400\n",
            "building tree 10 of 400\n",
            "building tree 11 of 400\n",
            "building tree 12 of 400\n",
            "building tree 13 of 400\n",
            "building tree 14 of 400\n",
            "building tree 15 of 400\n",
            "building tree 16 of 400\n",
            "building tree 17 of 400\n",
            "building tree 18 of 400\n",
            "building tree 19 of 400\n",
            "building tree 20 of 400\n",
            "building tree 21 of 400\n",
            "building tree 22 of 400\n",
            "building tree 23 of 400\n",
            "building tree 24 of 400\n",
            "building tree 25 of 400\n",
            "building tree 26 of 400\n",
            "building tree 27 of 400\n",
            "building tree 28 of 400\n",
            "building tree 29 of 400\n",
            "building tree 30 of 400\n",
            "building tree 31 of 400\n",
            "building tree 32 of 400\n",
            "building tree 33 of 400\n",
            "building tree 34 of 400\n",
            "building tree 35 of 400\n",
            "building tree 36 of 400\n",
            "building tree 37 of 400\n",
            "building tree 38 of 400\n",
            "building tree 39 of 400\n",
            "building tree 40 of 400\n",
            "building tree 41 of 400\n",
            "building tree 42 of 400\n",
            "building tree 43 of 400\n",
            "building tree 44 of 400\n",
            "building tree 45 of 400\n",
            "building tree 46 of 400\n",
            "building tree 47 of 400\n",
            "building tree 48 of 400\n",
            "building tree 49 of 400\n",
            "building tree 50 of 400\n",
            "building tree 51 of 400\n",
            "building tree 52 of 400\n",
            "building tree 53 of 400\n",
            "building tree 54 of 400\n",
            "building tree 55 of 400\n",
            "building tree 56 of 400\n",
            "building tree 57 of 400\n",
            "building tree 58 of 400\n",
            "building tree 59 of 400\n",
            "building tree 60 of 400\n",
            "building tree 61 of 400\n",
            "building tree 62 of 400\n",
            "building tree 63 of 400\n",
            "building tree 64 of 400\n",
            "building tree 65 of 400\n",
            "building tree 66 of 400\n",
            "building tree 67 of 400\n",
            "building tree 68 of 400\n",
            "building tree 69 of 400\n",
            "building tree 70 of 400\n",
            "building tree 71 of 400\n",
            "building tree 72 of 400\n",
            "building tree 73 of 400\n",
            "building tree 74 of 400\n",
            "building tree 75 of 400\n",
            "building tree 76 of 400\n",
            "building tree 77 of 400\n",
            "building tree 78 of 400\n",
            "building tree 79 of 400\n",
            "building tree 80 of 400\n",
            "building tree 81 of 400\n",
            "building tree 82 of 400\n",
            "building tree 83 of 400\n",
            "building tree 84 of 400\n",
            "building tree 85 of 400\n",
            "building tree 86 of 400\n",
            "building tree 87 of 400\n",
            "building tree 88 of 400\n",
            "building tree 89 of 400\n",
            "building tree 90 of 400\n",
            "building tree 91 of 400\n",
            "building tree 92 of 400\n",
            "building tree 93 of 400\n",
            "building tree 94 of 400\n",
            "building tree 95 of 400\n",
            "building tree 96 of 400\n",
            "building tree 97 of 400\n",
            "building tree 98 of 400\n",
            "building tree 99 of 400\n",
            "building tree 100 of 400\n",
            "building tree 101 of 400\n",
            "building tree 102 of 400\n",
            "building tree 103 of 400\n",
            "building tree 104 of 400\n",
            "building tree 105 of 400\n",
            "building tree 106 of 400\n",
            "building tree 107 of 400\n",
            "building tree 108 of 400\n",
            "building tree 109 of 400\n",
            "building tree 110 of 400\n",
            "building tree 111 of 400\n",
            "building tree 112 of 400\n",
            "building tree 113 of 400\n",
            "building tree 114 of 400\n",
            "building tree 115 of 400\n",
            "building tree 116 of 400\n",
            "building tree 117 of 400\n",
            "building tree 118 of 400\n",
            "building tree 119 of 400\n",
            "building tree 120 of 400\n",
            "building tree 121 of 400\n",
            "building tree 122 of 400\n",
            "building tree 123 of 400\n",
            "building tree 124 of 400\n",
            "building tree 125 of 400\n",
            "building tree 126 of 400\n",
            "building tree 127 of 400\n",
            "building tree 128 of 400\n",
            "building tree 129 of 400\n",
            "building tree 130 of 400\n",
            "building tree 131 of 400\n",
            "building tree 132 of 400\n",
            "building tree 133 of 400\n",
            "building tree 134 of 400\n",
            "building tree 135 of 400\n",
            "building tree 136 of 400\n",
            "building tree 137 of 400\n",
            "building tree 138 of 400\n",
            "building tree 139 of 400\n",
            "building tree 140 of 400\n",
            "building tree 141 of 400\n",
            "building tree 142 of 400\n",
            "building tree 143 of 400\n",
            "building tree 144 of 400\n",
            "building tree 145 of 400\n",
            "building tree 146 of 400\n",
            "building tree 147 of 400\n",
            "building tree 148 of 400\n",
            "building tree 149 of 400\n",
            "building tree 150 of 400\n",
            "building tree 151 of 400\n",
            "building tree 152 of 400\n",
            "building tree 153 of 400\n",
            "building tree 154 of 400\n",
            "building tree 155 of 400\n",
            "building tree 156 of 400\n",
            "building tree 157 of 400\n",
            "building tree 158 of 400\n",
            "building tree 159 of 400\n",
            "building tree 160 of 400\n",
            "building tree 161 of 400\n",
            "building tree 162 of 400\n",
            "building tree 163 of 400\n",
            "building tree 164 of 400\n",
            "building tree 165 of 400\n",
            "building tree 166 of 400\n",
            "building tree 167 of 400\n",
            "building tree 168 of 400\n",
            "building tree 169 of 400\n",
            "building tree 170 of 400\n",
            "building tree 171 of 400\n",
            "building tree 172 of 400\n",
            "building tree 173 of 400\n",
            "building tree 174 of 400\n",
            "building tree 175 of 400\n",
            "building tree 176 of 400\n",
            "building tree 177 of 400\n",
            "building tree 178 of 400\n",
            "building tree 179 of 400\n",
            "building tree 180 of 400\n",
            "building tree 181 of 400\n",
            "building tree 182 of 400\n",
            "building tree 183 of 400\n",
            "building tree 184 of 400\n",
            "building tree 185 of 400\n",
            "building tree 186 of 400\n",
            "building tree 187 of 400\n",
            "building tree 188 of 400\n",
            "building tree 189 of 400\n",
            "building tree 190 of 400\n",
            "building tree 191 of 400\n",
            "building tree 192 of 400\n",
            "building tree 193 of 400\n",
            "building tree 194 of 400\n",
            "building tree 195 of 400\n",
            "building tree 196 of 400\n",
            "building tree 197 of 400\n",
            "building tree 198 of 400\n",
            "building tree 199 of 400\n",
            "building tree 200 of 400\n",
            "building tree 201 of 400\n",
            "building tree 202 of 400\n",
            "building tree 203 of 400\n",
            "building tree 204 of 400\n",
            "building tree 205 of 400\n",
            "building tree 206 of 400\n",
            "building tree 207 of 400\n",
            "building tree 208 of 400\n",
            "building tree 209 of 400\n",
            "building tree 210 of 400\n",
            "building tree 211 of 400\n",
            "building tree 212 of 400\n",
            "building tree 213 of 400\n",
            "building tree 214 of 400\n",
            "building tree 215 of 400\n",
            "building tree 216 of 400\n",
            "building tree 217 of 400\n",
            "building tree 218 of 400\n",
            "building tree 219 of 400\n",
            "building tree 220 of 400\n",
            "building tree 221 of 400\n",
            "building tree 222 of 400\n",
            "building tree 223 of 400\n",
            "building tree 224 of 400\n",
            "building tree 225 of 400\n",
            "building tree 226 of 400\n",
            "building tree 227 of 400\n",
            "building tree 228 of 400\n",
            "building tree 229 of 400\n",
            "building tree 230 of 400\n",
            "building tree 231 of 400\n",
            "building tree 232 of 400\n",
            "building tree 233 of 400\n",
            "building tree 234 of 400\n",
            "building tree 235 of 400\n",
            "building tree 236 of 400\n",
            "building tree 237 of 400\n",
            "building tree 238 of 400\n",
            "building tree 239 of 400\n",
            "building tree 240 of 400\n",
            "building tree 241 of 400\n",
            "building tree 242 of 400\n",
            "building tree 243 of 400\n",
            "building tree 244 of 400\n",
            "building tree 245 of 400\n",
            "building tree 246 of 400\n",
            "building tree 247 of 400\n",
            "building tree 248 of 400\n",
            "building tree 249 of 400\n",
            "building tree 250 of 400\n",
            "building tree 251 of 400\n",
            "building tree 252 of 400\n",
            "building tree 253 of 400\n",
            "building tree 254 of 400\n",
            "building tree 255 of 400\n",
            "building tree 256 of 400\n",
            "building tree 257 of 400\n",
            "building tree 258 of 400\n",
            "building tree 259 of 400\n",
            "building tree 260 of 400\n",
            "building tree 261 of 400\n",
            "building tree 262 of 400\n",
            "building tree 263 of 400\n",
            "building tree 264 of 400\n",
            "building tree 265 of 400\n",
            "building tree 266 of 400\n",
            "building tree 267 of 400\n",
            "building tree 268 of 400\n",
            "building tree 269 of 400\n",
            "building tree 270 of 400\n",
            "building tree 271 of 400\n",
            "building tree 272 of 400\n",
            "building tree 273 of 400\n",
            "building tree 274 of 400\n",
            "building tree 275 of 400\n",
            "building tree 276 of 400\n",
            "building tree 277 of 400\n",
            "building tree 278 of 400\n",
            "building tree 279 of 400\n",
            "building tree 280 of 400\n",
            "building tree 281 of 400\n",
            "building tree 282 of 400\n",
            "building tree 283 of 400\n",
            "building tree 284 of 400\n",
            "building tree 285 of 400\n",
            "building tree 286 of 400\n",
            "building tree 287 of 400\n",
            "building tree 288 of 400\n",
            "building tree 289 of 400\n",
            "building tree 290 of 400\n",
            "building tree 291 of 400\n",
            "building tree 292 of 400\n",
            "building tree 293 of 400\n",
            "building tree 294 of 400\n",
            "building tree 295 of 400\n",
            "building tree 296 of 400\n",
            "building tree 297 of 400\n",
            "building tree 298 of 400\n",
            "building tree 299 of 400\n",
            "building tree 300 of 400\n",
            "building tree 301 of 400\n",
            "building tree 302 of 400\n",
            "building tree 303 of 400\n",
            "building tree 304 of 400\n",
            "building tree 305 of 400\n",
            "building tree 306 of 400\n",
            "building tree 307 of 400\n",
            "building tree 308 of 400\n",
            "building tree 309 of 400\n",
            "building tree 310 of 400\n",
            "building tree 311 of 400\n",
            "building tree 312 of 400\n",
            "building tree 313 of 400\n",
            "building tree 314 of 400\n",
            "building tree 315 of 400\n",
            "building tree 316 of 400\n",
            "building tree 317 of 400\n",
            "building tree 318 of 400\n",
            "building tree 319 of 400\n",
            "building tree 320 of 400\n",
            "building tree 321 of 400\n",
            "building tree 322 of 400\n",
            "building tree 323 of 400\n",
            "building tree 324 of 400\n",
            "building tree 325 of 400\n",
            "building tree 326 of 400\n",
            "building tree 327 of 400\n",
            "building tree 328 of 400\n",
            "building tree 329 of 400\n",
            "building tree 330 of 400\n",
            "building tree 331 of 400\n",
            "building tree 332 of 400\n",
            "building tree 333 of 400\n",
            "building tree 334 of 400\n",
            "building tree 335 of 400\n",
            "building tree 336 of 400\n",
            "building tree 337 of 400\n",
            "building tree 338 of 400\n",
            "building tree 339 of 400\n",
            "building tree 340 of 400\n",
            "building tree 341 of 400\n",
            "building tree 342 of 400\n",
            "building tree 343 of 400\n",
            "building tree 344 of 400\n",
            "building tree 345 of 400\n",
            "building tree 346 of 400\n",
            "building tree 347 of 400\n",
            "building tree 348 of 400\n",
            "building tree 349 of 400\n",
            "building tree 350 of 400\n",
            "building tree 351 of 400\n",
            "building tree 352 of 400\n",
            "building tree 353 of 400\n",
            "building tree 354 of 400\n",
            "building tree 355 of 400\n",
            "building tree 356 of 400\n",
            "building tree 357 of 400\n",
            "building tree 358 of 400\n",
            "building tree 359 of 400\n",
            "building tree 360 of 400\n",
            "building tree 361 of 400\n",
            "building tree 362 of 400\n",
            "building tree 363 of 400\n",
            "building tree 364 of 400\n",
            "building tree 365 of 400\n",
            "building tree 366 of 400\n",
            "building tree 367 of 400\n",
            "building tree 368 of 400\n",
            "building tree 369 of 400\n",
            "building tree 370 of 400\n",
            "building tree 371 of 400\n",
            "building tree 372 of 400\n",
            "building tree 373 of 400\n",
            "building tree 374 of 400\n",
            "building tree 375 of 400\n",
            "building tree 376 of 400\n",
            "building tree 377 of 400\n",
            "building tree 378 of 400\n",
            "building tree 379 of 400\n",
            "building tree 380 of 400\n",
            "building tree 381 of 400\n",
            "building tree 382 of 400\n",
            "building tree 383 of 400\n",
            "building tree 384 of 400\n",
            "building tree 385 of 400\n",
            "building tree 386 of 400\n",
            "building tree 387 of 400\n",
            "building tree 388 of 400\n",
            "building tree 389 of 400\n",
            "building tree 390 of 400\n",
            "building tree 391 of 400\n",
            "building tree 392 of 400\n",
            "building tree 393 of 400\n",
            "building tree 394 of 400\n",
            "building tree 395 of 400\n",
            "building tree 396 of 400\n",
            "building tree 397 of 400\n",
            "building tree 398 of 400\n",
            "building tree 399 of 400\n",
            "building tree 400 of 400\n"
          ],
          "name": "stdout"
        },
        {
          "output_type": "stream",
          "text": [
            "[Parallel(n_jobs=1)]: Done 400 out of 400 | elapsed:   35.0s finished\n"
          ],
          "name": "stderr"
        },
        {
          "output_type": "execute_result",
          "data": {
            "text/plain": [
              "RandomForestRegressor(bootstrap=True, ccp_alpha=0.0, criterion='mse',\n",
              "                      max_depth=None, max_features='auto', max_leaf_nodes=None,\n",
              "                      max_samples=None, min_impurity_decrease=0.0,\n",
              "                      min_impurity_split=None, min_samples_leaf=1,\n",
              "                      min_samples_split=2, min_weight_fraction_leaf=0.0,\n",
              "                      n_estimators=400, n_jobs=None, oob_score=False,\n",
              "                      random_state=None, verbose=2, warm_start=False)"
            ]
          },
          "metadata": {
            "tags": []
          },
          "execution_count": 60
        }
      ]
    },
    {
      "cell_type": "code",
      "metadata": {
        "id": "MQHEhN4Y4_jE",
        "colab_type": "code",
        "colab": {
          "base_uri": "https://localhost:8080/",
          "height": 88
        },
        "outputId": "f595e808-2e87-471c-d902-d9836bb3591d"
      },
      "source": [
        "y_pred_rfr = rfr.predict(X_test)"
      ],
      "execution_count": 61,
      "outputs": [
        {
          "output_type": "stream",
          "text": [
            "[Parallel(n_jobs=1)]: Using backend SequentialBackend with 1 concurrent workers.\n",
            "[Parallel(n_jobs=1)]: Done   1 out of   1 | elapsed:    0.0s remaining:    0.0s\n",
            "[Parallel(n_jobs=1)]: Done 400 out of 400 | elapsed:    0.6s finished\n"
          ],
          "name": "stderr"
        }
      ]
    },
    {
      "cell_type": "code",
      "metadata": {
        "id": "hFl8kkzV5lun",
        "colab_type": "code",
        "colab": {}
      },
      "source": [
        "from sklearn.metrics import mean_squared_error\n",
        "rmse_rfr = np.sqrt(mean_squared_error(y_pred_rfr, y_test))"
      ],
      "execution_count": 62,
      "outputs": []
    },
    {
      "cell_type": "code",
      "metadata": {
        "id": "JRmVQZXD5rhk",
        "colab_type": "code",
        "colab": {
          "base_uri": "https://localhost:8080/",
          "height": 34
        },
        "outputId": "b2174e77-ce32-4a39-d003-1a91dba39b10"
      },
      "source": [
        "rmse_rfr"
      ],
      "execution_count": 63,
      "outputs": [
        {
          "output_type": "execute_result",
          "data": {
            "text/plain": [
              "138373.47273120293"
            ]
          },
          "metadata": {
            "tags": []
          },
          "execution_count": 63
        }
      ]
    },
    {
      "cell_type": "code",
      "metadata": {
        "id": "FhW4pFQm5ssB",
        "colab_type": "code",
        "colab": {
          "base_uri": "https://localhost:8080/",
          "height": 542
        },
        "outputId": "8e27aeac-081c-4c2a-c2d9-250613739959"
      },
      "source": [
        "fig = go.Figure()\n",
        "fig.add_scatter(y = y_pred_rfr[:24], name = 'y_pred_rfr')\n",
        "\n",
        "fig.add_scatter(y = y_test[:24], name = 'y_test')"
      ],
      "execution_count": 59,
      "outputs": [
        {
          "output_type": "display_data",
          "data": {
            "text/html": [
              "<html>\n",
              "<head><meta charset=\"utf-8\" /></head>\n",
              "<body>\n",
              "    <div>\n",
              "            <script src=\"https://cdnjs.cloudflare.com/ajax/libs/mathjax/2.7.5/MathJax.js?config=TeX-AMS-MML_SVG\"></script><script type=\"text/javascript\">if (window.MathJax) {MathJax.Hub.Config({SVG: {font: \"STIX-Web\"}});}</script>\n",
              "                <script type=\"text/javascript\">window.PlotlyConfig = {MathJaxConfig: 'local'};</script>\n",
              "        <script src=\"https://cdn.plot.ly/plotly-latest.min.js\"></script>    \n",
              "            <div id=\"b0d8584f-8994-42e7-bd2f-ae3a3835f07b\" class=\"plotly-graph-div\" style=\"height:525px; width:100%;\"></div>\n",
              "            <script type=\"text/javascript\">\n",
              "                \n",
              "                    window.PLOTLYENV=window.PLOTLYENV || {};\n",
              "                    \n",
              "                if (document.getElementById(\"b0d8584f-8994-42e7-bd2f-ae3a3835f07b\")) {\n",
              "                    Plotly.newPlot(\n",
              "                        'b0d8584f-8994-42e7-bd2f-ae3a3835f07b',\n",
              "                        [{\"name\": \"y_pred_rfr\", \"type\": \"scatter\", \"y\": [353853.04, 1042662.06, 419549.30222222226, 449214.85, 691661.0833333334, 610042.8733333333, 504176.4444444445, 707644.9, 662753.8266666667, 425047.6066666667, 605155.35, 694734.2033333334, 549775.7933333333, 235955.16666666666, 595761.9166666666, 540390.0966666667, 402705.6566666667, 601298.9533333334, 309056.9633333333, 546289.6433333333, 656311.2266666667, 497652.70666666667, 471724.0555555556, 455585.26666666666]}, {\"name\": \"y_test\", \"type\": \"scatter\", \"y\": [365000.0, 692500.0, 370000.0, 550000.0, 685000.0, 594950.0, 525000.0, 725000.0, 743000.0, 350000.0, 685000.0, 710000.0, 740000.0, 233000.0, 488000.0, 460000.0, 360000.0, 639000.0, 330000.0, 488250.0, 525000.0, 549950.0, 462600.0, 385000.0]}],\n",
              "                        {\"template\": {\"data\": {\"bar\": [{\"error_x\": {\"color\": \"#2a3f5f\"}, \"error_y\": {\"color\": \"#2a3f5f\"}, \"marker\": {\"line\": {\"color\": \"#E5ECF6\", \"width\": 0.5}}, \"type\": \"bar\"}], \"barpolar\": [{\"marker\": {\"line\": {\"color\": \"#E5ECF6\", \"width\": 0.5}}, \"type\": \"barpolar\"}], \"carpet\": [{\"aaxis\": {\"endlinecolor\": \"#2a3f5f\", \"gridcolor\": \"white\", \"linecolor\": \"white\", \"minorgridcolor\": \"white\", \"startlinecolor\": \"#2a3f5f\"}, \"baxis\": {\"endlinecolor\": \"#2a3f5f\", \"gridcolor\": \"white\", \"linecolor\": \"white\", \"minorgridcolor\": \"white\", \"startlinecolor\": \"#2a3f5f\"}, \"type\": \"carpet\"}], \"choropleth\": [{\"colorbar\": {\"outlinewidth\": 0, \"ticks\": \"\"}, \"type\": \"choropleth\"}], \"contour\": [{\"colorbar\": {\"outlinewidth\": 0, \"ticks\": \"\"}, \"colorscale\": [[0.0, \"#0d0887\"], [0.1111111111111111, \"#46039f\"], [0.2222222222222222, \"#7201a8\"], [0.3333333333333333, \"#9c179e\"], [0.4444444444444444, \"#bd3786\"], [0.5555555555555556, \"#d8576b\"], [0.6666666666666666, \"#ed7953\"], [0.7777777777777778, \"#fb9f3a\"], [0.8888888888888888, \"#fdca26\"], [1.0, \"#f0f921\"]], \"type\": \"contour\"}], \"contourcarpet\": [{\"colorbar\": {\"outlinewidth\": 0, \"ticks\": \"\"}, \"type\": \"contourcarpet\"}], \"heatmap\": [{\"colorbar\": {\"outlinewidth\": 0, \"ticks\": \"\"}, \"colorscale\": [[0.0, \"#0d0887\"], [0.1111111111111111, \"#46039f\"], [0.2222222222222222, \"#7201a8\"], [0.3333333333333333, \"#9c179e\"], [0.4444444444444444, \"#bd3786\"], [0.5555555555555556, \"#d8576b\"], [0.6666666666666666, \"#ed7953\"], [0.7777777777777778, \"#fb9f3a\"], [0.8888888888888888, \"#fdca26\"], [1.0, \"#f0f921\"]], \"type\": \"heatmap\"}], \"heatmapgl\": [{\"colorbar\": {\"outlinewidth\": 0, \"ticks\": \"\"}, \"colorscale\": [[0.0, \"#0d0887\"], [0.1111111111111111, \"#46039f\"], [0.2222222222222222, \"#7201a8\"], [0.3333333333333333, \"#9c179e\"], [0.4444444444444444, \"#bd3786\"], [0.5555555555555556, \"#d8576b\"], [0.6666666666666666, \"#ed7953\"], [0.7777777777777778, \"#fb9f3a\"], [0.8888888888888888, \"#fdca26\"], [1.0, \"#f0f921\"]], \"type\": \"heatmapgl\"}], \"histogram\": [{\"marker\": {\"colorbar\": {\"outlinewidth\": 0, \"ticks\": \"\"}}, \"type\": \"histogram\"}], \"histogram2d\": [{\"colorbar\": {\"outlinewidth\": 0, \"ticks\": \"\"}, \"colorscale\": [[0.0, \"#0d0887\"], [0.1111111111111111, \"#46039f\"], [0.2222222222222222, \"#7201a8\"], [0.3333333333333333, \"#9c179e\"], [0.4444444444444444, \"#bd3786\"], [0.5555555555555556, \"#d8576b\"], [0.6666666666666666, \"#ed7953\"], [0.7777777777777778, \"#fb9f3a\"], [0.8888888888888888, \"#fdca26\"], [1.0, \"#f0f921\"]], \"type\": \"histogram2d\"}], \"histogram2dcontour\": [{\"colorbar\": {\"outlinewidth\": 0, \"ticks\": \"\"}, \"colorscale\": [[0.0, \"#0d0887\"], [0.1111111111111111, \"#46039f\"], [0.2222222222222222, \"#7201a8\"], [0.3333333333333333, \"#9c179e\"], [0.4444444444444444, \"#bd3786\"], [0.5555555555555556, \"#d8576b\"], [0.6666666666666666, \"#ed7953\"], [0.7777777777777778, \"#fb9f3a\"], [0.8888888888888888, \"#fdca26\"], [1.0, \"#f0f921\"]], \"type\": \"histogram2dcontour\"}], \"mesh3d\": [{\"colorbar\": {\"outlinewidth\": 0, \"ticks\": \"\"}, \"type\": \"mesh3d\"}], \"parcoords\": [{\"line\": {\"colorbar\": {\"outlinewidth\": 0, \"ticks\": \"\"}}, \"type\": \"parcoords\"}], \"pie\": [{\"automargin\": true, \"type\": \"pie\"}], \"scatter\": [{\"marker\": {\"colorbar\": {\"outlinewidth\": 0, \"ticks\": \"\"}}, \"type\": \"scatter\"}], \"scatter3d\": [{\"line\": {\"colorbar\": {\"outlinewidth\": 0, \"ticks\": \"\"}}, \"marker\": {\"colorbar\": {\"outlinewidth\": 0, \"ticks\": \"\"}}, \"type\": \"scatter3d\"}], \"scattercarpet\": [{\"marker\": {\"colorbar\": {\"outlinewidth\": 0, \"ticks\": \"\"}}, \"type\": \"scattercarpet\"}], \"scattergeo\": [{\"marker\": {\"colorbar\": {\"outlinewidth\": 0, \"ticks\": \"\"}}, \"type\": \"scattergeo\"}], \"scattergl\": [{\"marker\": {\"colorbar\": {\"outlinewidth\": 0, \"ticks\": \"\"}}, \"type\": \"scattergl\"}], \"scattermapbox\": [{\"marker\": {\"colorbar\": {\"outlinewidth\": 0, \"ticks\": \"\"}}, \"type\": \"scattermapbox\"}], \"scatterpolar\": [{\"marker\": {\"colorbar\": {\"outlinewidth\": 0, \"ticks\": \"\"}}, \"type\": \"scatterpolar\"}], \"scatterpolargl\": [{\"marker\": {\"colorbar\": {\"outlinewidth\": 0, \"ticks\": \"\"}}, \"type\": \"scatterpolargl\"}], \"scatterternary\": [{\"marker\": {\"colorbar\": {\"outlinewidth\": 0, \"ticks\": \"\"}}, \"type\": \"scatterternary\"}], \"surface\": [{\"colorbar\": {\"outlinewidth\": 0, \"ticks\": \"\"}, \"colorscale\": [[0.0, \"#0d0887\"], [0.1111111111111111, \"#46039f\"], [0.2222222222222222, \"#7201a8\"], [0.3333333333333333, \"#9c179e\"], [0.4444444444444444, \"#bd3786\"], [0.5555555555555556, \"#d8576b\"], [0.6666666666666666, \"#ed7953\"], [0.7777777777777778, \"#fb9f3a\"], [0.8888888888888888, \"#fdca26\"], [1.0, \"#f0f921\"]], \"type\": \"surface\"}], \"table\": [{\"cells\": {\"fill\": {\"color\": \"#EBF0F8\"}, \"line\": {\"color\": \"white\"}}, \"header\": {\"fill\": {\"color\": \"#C8D4E3\"}, \"line\": {\"color\": \"white\"}}, \"type\": \"table\"}]}, \"layout\": {\"annotationdefaults\": {\"arrowcolor\": \"#2a3f5f\", \"arrowhead\": 0, \"arrowwidth\": 1}, \"coloraxis\": {\"colorbar\": {\"outlinewidth\": 0, \"ticks\": \"\"}}, \"colorscale\": {\"diverging\": [[0, \"#8e0152\"], [0.1, \"#c51b7d\"], [0.2, \"#de77ae\"], [0.3, \"#f1b6da\"], [0.4, \"#fde0ef\"], [0.5, \"#f7f7f7\"], [0.6, \"#e6f5d0\"], [0.7, \"#b8e186\"], [0.8, \"#7fbc41\"], [0.9, \"#4d9221\"], [1, \"#276419\"]], \"sequential\": [[0.0, \"#0d0887\"], [0.1111111111111111, \"#46039f\"], [0.2222222222222222, \"#7201a8\"], [0.3333333333333333, \"#9c179e\"], [0.4444444444444444, \"#bd3786\"], [0.5555555555555556, \"#d8576b\"], [0.6666666666666666, \"#ed7953\"], [0.7777777777777778, \"#fb9f3a\"], [0.8888888888888888, \"#fdca26\"], [1.0, \"#f0f921\"]], \"sequentialminus\": [[0.0, \"#0d0887\"], [0.1111111111111111, \"#46039f\"], [0.2222222222222222, \"#7201a8\"], [0.3333333333333333, \"#9c179e\"], [0.4444444444444444, \"#bd3786\"], [0.5555555555555556, \"#d8576b\"], [0.6666666666666666, \"#ed7953\"], [0.7777777777777778, \"#fb9f3a\"], [0.8888888888888888, \"#fdca26\"], [1.0, \"#f0f921\"]]}, \"colorway\": [\"#636efa\", \"#EF553B\", \"#00cc96\", \"#ab63fa\", \"#FFA15A\", \"#19d3f3\", \"#FF6692\", \"#B6E880\", \"#FF97FF\", \"#FECB52\"], \"font\": {\"color\": \"#2a3f5f\"}, \"geo\": {\"bgcolor\": \"white\", \"lakecolor\": \"white\", \"landcolor\": \"#E5ECF6\", \"showlakes\": true, \"showland\": true, \"subunitcolor\": \"white\"}, \"hoverlabel\": {\"align\": \"left\"}, \"hovermode\": \"closest\", \"mapbox\": {\"style\": \"light\"}, \"paper_bgcolor\": \"white\", \"plot_bgcolor\": \"#E5ECF6\", \"polar\": {\"angularaxis\": {\"gridcolor\": \"white\", \"linecolor\": \"white\", \"ticks\": \"\"}, \"bgcolor\": \"#E5ECF6\", \"radialaxis\": {\"gridcolor\": \"white\", \"linecolor\": \"white\", \"ticks\": \"\"}}, \"scene\": {\"xaxis\": {\"backgroundcolor\": \"#E5ECF6\", \"gridcolor\": \"white\", \"gridwidth\": 2, \"linecolor\": \"white\", \"showbackground\": true, \"ticks\": \"\", \"zerolinecolor\": \"white\"}, \"yaxis\": {\"backgroundcolor\": \"#E5ECF6\", \"gridcolor\": \"white\", \"gridwidth\": 2, \"linecolor\": \"white\", \"showbackground\": true, \"ticks\": \"\", \"zerolinecolor\": \"white\"}, \"zaxis\": {\"backgroundcolor\": \"#E5ECF6\", \"gridcolor\": \"white\", \"gridwidth\": 2, \"linecolor\": \"white\", \"showbackground\": true, \"ticks\": \"\", \"zerolinecolor\": \"white\"}}, \"shapedefaults\": {\"line\": {\"color\": \"#2a3f5f\"}}, \"ternary\": {\"aaxis\": {\"gridcolor\": \"white\", \"linecolor\": \"white\", \"ticks\": \"\"}, \"baxis\": {\"gridcolor\": \"white\", \"linecolor\": \"white\", \"ticks\": \"\"}, \"bgcolor\": \"#E5ECF6\", \"caxis\": {\"gridcolor\": \"white\", \"linecolor\": \"white\", \"ticks\": \"\"}}, \"title\": {\"x\": 0.05}, \"xaxis\": {\"automargin\": true, \"gridcolor\": \"white\", \"linecolor\": \"white\", \"ticks\": \"\", \"title\": {\"standoff\": 15}, \"zerolinecolor\": \"white\", \"zerolinewidth\": 2}, \"yaxis\": {\"automargin\": true, \"gridcolor\": \"white\", \"linecolor\": \"white\", \"ticks\": \"\", \"title\": {\"standoff\": 15}, \"zerolinecolor\": \"white\", \"zerolinewidth\": 2}}}},\n",
              "                        {\"responsive\": true}\n",
              "                    ).then(function(){\n",
              "                            \n",
              "var gd = document.getElementById('b0d8584f-8994-42e7-bd2f-ae3a3835f07b');\n",
              "var x = new MutationObserver(function (mutations, observer) {{\n",
              "        var display = window.getComputedStyle(gd).display;\n",
              "        if (!display || display === 'none') {{\n",
              "            console.log([gd, 'removed!']);\n",
              "            Plotly.purge(gd);\n",
              "            observer.disconnect();\n",
              "        }}\n",
              "}});\n",
              "\n",
              "// Listen for the removal of the full notebook cells\n",
              "var notebookContainer = gd.closest('#notebook-container');\n",
              "if (notebookContainer) {{\n",
              "    x.observe(notebookContainer, {childList: true});\n",
              "}}\n",
              "\n",
              "// Listen for the clearing of the current output cell\n",
              "var outputEl = gd.closest('.output');\n",
              "if (outputEl) {{\n",
              "    x.observe(outputEl, {childList: true});\n",
              "}}\n",
              "\n",
              "                        })\n",
              "                };\n",
              "                \n",
              "            </script>\n",
              "        </div>\n",
              "</body>\n",
              "</html>"
            ]
          },
          "metadata": {
            "tags": []
          }
        }
      ]
    },
    {
      "cell_type": "markdown",
      "metadata": {
        "id": "bnR7U1El6Cx3",
        "colab_type": "text"
      },
      "source": [
        "XGBOOST\n"
      ]
    },
    {
      "cell_type": "code",
      "metadata": {
        "id": "DFNp7fx37xZf",
        "colab_type": "code",
        "colab": {
          "base_uri": "https://localhost:8080/",
          "height": 1000
        },
        "outputId": "4f86f983-69d4-4ef3-bf24-8d3a9d741527"
      },
      "source": [
        "from sklearn import ensemble\n",
        "\n",
        "gbr = ensemble.GradientBoostingRegressor(n_estimators = 300, verbose=2)\n",
        "\n",
        "gbr.fit(X_train, y_train)"
      ],
      "execution_count": 71,
      "outputs": [
        {
          "output_type": "stream",
          "text": [
            "      Iter       Train Loss   Remaining Time \n",
            "         1 83439523811.9527            8.63s\n",
            "         2 74955081285.3530            7.62s\n",
            "         3 67732031136.3614            7.26s\n",
            "         4 61674914820.7551            7.04s\n",
            "         5 56605198947.2119            6.93s\n",
            "         6 52310665689.8888            6.84s\n",
            "         7 48576253226.1291            6.76s\n",
            "         8 45492531448.7532            6.70s\n",
            "         9 42792639753.0246            6.74s\n",
            "        10 40448574838.2782            6.82s\n",
            "        11 38371915648.1438            6.76s\n",
            "        12 36607372005.5549            6.69s\n",
            "        13 35127454958.8643            6.64s\n",
            "        14 33731265350.8624            6.60s\n",
            "        15 32543822974.7870            6.60s\n",
            "        16 31544294014.4409            6.56s\n",
            "        17 30591885401.5517            6.51s\n",
            "        18 29808994737.7042            6.52s\n",
            "        19 29057607299.2096            6.49s\n",
            "        20 28308819697.8515            6.46s\n",
            "        21 27749151685.0586            6.42s\n",
            "        22 27083043392.4736            6.39s\n",
            "        23 26544691159.4756            6.36s\n",
            "        24 26100865082.7684            6.32s\n",
            "        25 25594010435.5150            6.29s\n",
            "        26 25092997471.5343            6.26s\n",
            "        27 24723622152.7718            6.23s\n",
            "        28 24387178325.4936            6.22s\n",
            "        29 24050490128.7289            6.19s\n",
            "        30 23775139923.5731            6.16s\n",
            "        31 23437871769.4052            6.13s\n",
            "        32 23107845443.9028            6.12s\n",
            "        33 22866791931.4816            6.09s\n",
            "        34 22647963700.0207            6.07s\n",
            "        35 22433945428.6663            6.04s\n",
            "        36 22258594406.3849            6.01s\n",
            "        37 22055791062.8381            5.99s\n",
            "        38 21883349189.4570            5.97s\n",
            "        39 21736593358.9546            5.94s\n",
            "        40 21578124387.0169            5.92s\n",
            "        41 21381537468.3399            5.89s\n",
            "        42 21234717194.2228            5.86s\n",
            "        43 21080496457.1482            5.83s\n",
            "        44 20948733234.6059            5.81s\n",
            "        45 20858060006.3555            5.78s\n",
            "        46 20755232527.8280            5.77s\n",
            "        47 20647489429.2987            5.76s\n",
            "        48 20520852231.1877            5.73s\n",
            "        49 20407724437.1406            5.71s\n",
            "        50 20316856841.8285            5.69s\n",
            "        51 20239946784.3748            5.66s\n",
            "        52 20166145277.0768            5.64s\n",
            "        53 20088596545.6784            5.61s\n",
            "        54 20011898117.7317            5.58s\n",
            "        55 19921941208.9516            5.57s\n",
            "        56 19817445947.8571            5.55s\n",
            "        57 19731900004.8130            5.53s\n",
            "        58 19664348753.5449            5.50s\n",
            "        59 19595497307.9769            5.47s\n",
            "        60 19568814817.0158            5.45s\n",
            "        61 19493479644.0911            5.42s\n",
            "        62 19468679499.7523            5.40s\n",
            "        63 19411200441.7534            5.37s\n",
            "        64 19386016304.0131            5.35s\n",
            "        65 19344586492.9361            5.33s\n",
            "        66 19290576564.5020            5.31s\n",
            "        67 19213011297.0976            5.28s\n",
            "        68 19194310221.7090            5.26s\n",
            "        69 19162516208.1505            5.24s\n",
            "        70 19108256212.4561            5.21s\n",
            "        71 19079066491.1774            5.19s\n",
            "        72 18999974359.8024            5.16s\n",
            "        73 18924092923.6674            5.14s\n",
            "        74 18884181310.2961            5.11s\n",
            "        75 18856635185.3921            5.09s\n",
            "        76 18776142129.3964            5.07s\n",
            "        77 18756148655.9489            5.04s\n",
            "        78 18720781965.4326            5.02s\n",
            "        79 18699007410.4247            4.99s\n",
            "        80 18666248975.9927            4.97s\n",
            "        81 18620643597.3309            4.95s\n",
            "        82 18579069262.8646            4.93s\n",
            "        83 18512609664.8418            4.90s\n",
            "        84 18484810864.6646            4.88s\n",
            "        85 18470809844.3583            4.86s\n",
            "        86 18424804824.7456            4.84s\n",
            "        87 18389037229.4053            4.82s\n",
            "        88 18373646382.8616            4.79s\n",
            "        89 18350731971.3920            4.77s\n",
            "        90 18338819121.9300            4.74s\n",
            "        91 18320692577.9022            4.72s\n",
            "        92 18312700733.7509            4.69s\n",
            "        93 18277815026.0653            4.67s\n",
            "        94 18245248820.6556            4.65s\n",
            "        95 18216348531.3017            4.63s\n",
            "        96 18178297452.9576            4.60s\n",
            "        97 18160264829.9319            4.58s\n",
            "        98 18095585595.9395            4.56s\n",
            "        99 18068554664.3305            4.55s\n",
            "       100 18049488020.6319            4.53s\n",
            "       101 18041289702.3966            4.51s\n",
            "       102 18003418353.5993            4.48s\n",
            "       103 17986239734.0150            4.46s\n",
            "       104 17972155496.0708            4.44s\n",
            "       105 17949151508.3541            4.42s\n",
            "       106 17916643711.7067            4.39s\n",
            "       107 17873912653.6832            4.37s\n",
            "       108 17860959856.6638            4.35s\n",
            "       109 17833239767.7447            4.32s\n",
            "       110 17809073883.4386            4.30s\n",
            "       111 17770015111.6286            4.27s\n",
            "       112 17746067240.0858            4.25s\n",
            "       113 17728530336.5180            4.23s\n",
            "       114 17716438026.9902            4.21s\n",
            "       115 17694574628.7680            4.18s\n",
            "       116 17689655293.4820            4.16s\n",
            "       117 17659752024.3668            4.14s\n",
            "       118 17642111589.6675            4.11s\n",
            "       119 17625188991.8606            4.09s\n",
            "       120 17614763058.0970            4.07s\n",
            "       121 17601022709.7504            4.04s\n",
            "       122 17562608597.7922            4.02s\n",
            "       123 17536578929.9505            4.00s\n",
            "       124 17529044867.8468            3.98s\n",
            "       125 17516983254.8608            3.95s\n",
            "       126 17498888321.2421            3.93s\n",
            "       127 17478153146.0628            3.91s\n",
            "       128 17469116317.8370            3.88s\n",
            "       129 17445515513.4315            3.86s\n",
            "       130 17430788580.3247            3.84s\n",
            "       131 17409400740.1070            3.82s\n",
            "       132 17406870436.3599            3.79s\n",
            "       133 17400080882.3326            3.77s\n",
            "       134 17389128679.8386            3.75s\n",
            "       135 17375831321.5642            3.73s\n",
            "       136 17359941291.4713            3.70s\n",
            "       137 17342502154.3995            3.68s\n",
            "       138 17334136334.8607            3.65s\n",
            "       139 17269567265.3847            3.63s\n",
            "       140 17245488030.3760            3.61s\n",
            "       141 17232164962.4110            3.59s\n",
            "       142 17208541880.3732            3.57s\n",
            "       143 17197635676.1708            3.54s\n",
            "       144 17188655973.2048            3.52s\n",
            "       145 17159800909.7865            3.50s\n",
            "       146 17118936331.1851            3.48s\n",
            "       147 17115700442.8585            3.46s\n",
            "       148 17108639118.2082            3.44s\n",
            "       149 17084537410.8867            3.42s\n",
            "       150 17064625148.5094            3.39s\n",
            "       151 17037750572.7380            3.37s\n",
            "       152 17017744415.2993            3.35s\n",
            "       153 17003940593.7765            3.32s\n",
            "       154 16977011973.3096            3.30s\n",
            "       155 16946068800.6712            3.28s\n",
            "       156 16942477578.5013            3.25s\n",
            "       157 16939587209.0231            3.23s\n",
            "       158 16919985067.5632            3.21s\n",
            "       159 16893230572.7039            3.19s\n",
            "       160 16869716527.5091            3.16s\n",
            "       161 16863209512.4693            3.14s\n",
            "       162 16849839855.5352            3.12s\n",
            "       163 16831818821.8541            3.09s\n",
            "       164 16809725001.7717            3.07s\n",
            "       165 16808099396.3377            3.05s\n",
            "       166 16801053538.4585            3.02s\n",
            "       167 16771960556.2536            3.00s\n",
            "       168 16729254045.7493            2.98s\n",
            "       169 16711003012.9758            2.96s\n",
            "       170 16691448512.0759            2.93s\n",
            "       171 16686528898.2334            2.91s\n",
            "       172 16665391187.9840            2.89s\n",
            "       173 16645802400.4695            2.86s\n",
            "       174 16643377189.3330            2.84s\n",
            "       175 16641109533.2885            2.82s\n",
            "       176 16609710201.3382            2.79s\n",
            "       177 16556692531.4611            2.77s\n",
            "       178 16544621449.4403            2.75s\n",
            "       179 16511191116.2197            2.73s\n",
            "       180 16500664917.2248            2.70s\n",
            "       181 16484773190.2461            2.68s\n",
            "       182 16469620336.6517            2.66s\n",
            "       183 16459275345.3841            2.64s\n",
            "       184 16449130205.4050            2.61s\n",
            "       185 16442900004.0989            2.59s\n",
            "       186 16440664794.6013            2.57s\n",
            "       187 16435762221.3031            2.55s\n",
            "       188 16429840772.2673            2.52s\n",
            "       189 16423774581.8746            2.50s\n",
            "       190 16413949052.1192            2.48s\n",
            "       191 16391155345.4127            2.46s\n",
            "       192 16385825854.3586            2.44s\n",
            "       193 16370836154.9202            2.41s\n",
            "       194 16362499008.4567            2.39s\n",
            "       195 16354321167.4166            2.37s\n",
            "       196 16329983599.9970            2.34s\n",
            "       197 16318152904.3358            2.32s\n",
            "       198 16305300613.6972            2.30s\n",
            "       199 16298011399.8251            2.28s\n",
            "       200 16275771808.8930            2.25s\n",
            "       201 16257580731.3167            2.23s\n",
            "       202 16247627131.4419            2.21s\n",
            "       203 16237640864.9634            2.19s\n",
            "       204 16230272059.8843            2.16s\n",
            "       205 16206941361.4911            2.14s\n",
            "       206 16161641130.5530            2.12s\n",
            "       207 16145226465.0882            2.10s\n",
            "       208 16133348209.3669            2.07s\n",
            "       209 16108288049.8451            2.05s\n",
            "       210 16100124905.3113            2.03s\n",
            "       211 16098389566.1401            2.01s\n",
            "       212 16080387515.9537            1.98s\n",
            "       213 16078613748.6678            1.96s\n",
            "       214 16064759434.3710            1.94s\n",
            "       215 16058332269.3119            1.91s\n",
            "       216 16047080392.1869            1.89s\n",
            "       217 16034488562.6198            1.87s\n",
            "       218 16013818159.4711            1.85s\n",
            "       219 16006028627.6208            1.82s\n",
            "       220 16003901076.9005            1.80s\n",
            "       221 15985293617.7674            1.78s\n",
            "       222 15967234310.2314            1.76s\n",
            "       223 15944635129.7774            1.73s\n",
            "       224 15930978127.2978            1.71s\n",
            "       225 15913311574.2765            1.69s\n",
            "       226 15895296608.8295            1.67s\n",
            "       227 15872053650.4567            1.64s\n",
            "       228 15855633999.4666            1.62s\n",
            "       229 15842932687.0030            1.60s\n",
            "       230 15838993186.6183            1.58s\n",
            "       231 15831486747.8549            1.55s\n",
            "       232 15821680054.0042            1.53s\n",
            "       233 15817412210.5642            1.51s\n",
            "       234 15803399715.9503            1.48s\n",
            "       235 15787999199.2985            1.46s\n",
            "       236 15771248156.3936            1.44s\n",
            "       237 15764763225.5966            1.42s\n",
            "       238 15751158524.7152            1.40s\n",
            "       239 15746981157.9094            1.37s\n",
            "       240 15739770231.7410            1.35s\n",
            "       241 15735752305.4517            1.33s\n",
            "       242 15712697282.3980            1.31s\n",
            "       243 15699143367.0800            1.28s\n",
            "       244 15694184773.8831            1.26s\n",
            "       245 15687006316.1303            1.24s\n",
            "       246 15668596243.0467            1.22s\n",
            "       247 15653824780.0719            1.19s\n",
            "       248 15646183727.2226            1.17s\n",
            "       249 15638121525.7897            1.15s\n",
            "       250 15608978364.6616            1.13s\n",
            "       251 15560486147.9785            1.10s\n",
            "       252 15533469368.8689            1.08s\n",
            "       253 15519626815.0653            1.06s\n",
            "       254 15499407908.4652            1.03s\n",
            "       255 15489854240.5894            1.01s\n",
            "       256 15484161138.9353            0.99s\n",
            "       257 15478162078.1067            0.97s\n",
            "       258 15475561728.2525            0.94s\n",
            "       259 15464347058.9279            0.92s\n",
            "       260 15456860693.5961            0.90s\n",
            "       261 15439623042.2294            0.88s\n",
            "       262 15417231572.3937            0.86s\n",
            "       263 15394797251.0290            0.83s\n",
            "       264 15351392227.8605            0.81s\n",
            "       265 15313508703.8705            0.79s\n",
            "       266 15308970955.5511            0.77s\n",
            "       267 15289899915.5232            0.74s\n",
            "       268 15278878227.4018            0.72s\n",
            "       269 15264963324.1363            0.70s\n",
            "       270 15251989327.1425            0.68s\n",
            "       271 15243144003.4576            0.65s\n",
            "       272 15221790667.2886            0.63s\n",
            "       273 15205873649.3076            0.61s\n",
            "       274 15196346626.6008            0.59s\n",
            "       275 15192912307.2291            0.56s\n",
            "       276 15178514000.8252            0.54s\n",
            "       277 15173245723.5106            0.52s\n",
            "       278 15169652164.2146            0.50s\n",
            "       279 15161096248.9858            0.47s\n",
            "       280 15158380473.3979            0.45s\n",
            "       281 15154828005.3572            0.43s\n",
            "       282 15149940792.0294            0.41s\n",
            "       283 15135135147.8067            0.38s\n",
            "       284 15122099086.7802            0.36s\n",
            "       285 15096160281.2739            0.34s\n",
            "       286 15087972025.0940            0.32s\n",
            "       287 15081057346.8137            0.29s\n",
            "       288 15072228842.1693            0.27s\n",
            "       289 15062348830.8199            0.25s\n",
            "       290 15056469331.9468            0.23s\n",
            "       291 15050482833.7329            0.20s\n",
            "       292 15048666824.5730            0.18s\n",
            "       293 15031346021.5448            0.16s\n",
            "       294 15019250435.2157            0.14s\n",
            "       295 15005974653.7050            0.11s\n",
            "       296 15001249288.9041            0.09s\n",
            "       297 14995644405.5928            0.07s\n",
            "       298 14982758546.4320            0.05s\n",
            "       299 14965980423.8228            0.02s\n",
            "       300 14942700135.3380            0.00s\n"
          ],
          "name": "stdout"
        },
        {
          "output_type": "execute_result",
          "data": {
            "text/plain": [
              "GradientBoostingRegressor(alpha=0.9, ccp_alpha=0.0, criterion='friedman_mse',\n",
              "                          init=None, learning_rate=0.1, loss='ls', max_depth=3,\n",
              "                          max_features=None, max_leaf_nodes=None,\n",
              "                          min_impurity_decrease=0.0, min_impurity_split=None,\n",
              "                          min_samples_leaf=1, min_samples_split=2,\n",
              "                          min_weight_fraction_leaf=0.0, n_estimators=300,\n",
              "                          n_iter_no_change=None, presort='deprecated',\n",
              "                          random_state=None, subsample=1.0, tol=0.0001,\n",
              "                          validation_fraction=0.1, verbose=2, warm_start=False)"
            ]
          },
          "metadata": {
            "tags": []
          },
          "execution_count": 71
        }
      ]
    },
    {
      "cell_type": "code",
      "metadata": {
        "id": "IrTe2fCm8ovT",
        "colab_type": "code",
        "colab": {}
      },
      "source": [
        "y_pred_gbr = gbr.predict(X_test)"
      ],
      "execution_count": 73,
      "outputs": []
    },
    {
      "cell_type": "code",
      "metadata": {
        "id": "VsH3XhbM8uQ7",
        "colab_type": "code",
        "colab": {}
      },
      "source": [
        "from sklearn.metrics import mean_squared_error\n",
        "rmse_gbr = np.sqrt(mean_squared_error(y_pred_gbr, y_test))"
      ],
      "execution_count": 74,
      "outputs": []
    },
    {
      "cell_type": "code",
      "metadata": {
        "id": "JRdmfye386m0",
        "colab_type": "code",
        "colab": {
          "base_uri": "https://localhost:8080/",
          "height": 34
        },
        "outputId": "925b3e41-04d9-4497-cf6e-4a79e00e87b6"
      },
      "source": [
        "rmse_gbr"
      ],
      "execution_count": 75,
      "outputs": [
        {
          "output_type": "execute_result",
          "data": {
            "text/plain": [
              "139925.4723651188"
            ]
          },
          "metadata": {
            "tags": []
          },
          "execution_count": 75
        }
      ]
    },
    {
      "cell_type": "markdown",
      "metadata": {
        "id": "cmJ4EKtW6cID",
        "colab_type": "text"
      },
      "source": [
        "Save model"
      ]
    },
    {
      "cell_type": "code",
      "metadata": {
        "id": "n7M2X2GQ5zxc",
        "colab_type": "code",
        "colab": {}
      },
      "source": [
        "import joblib"
      ],
      "execution_count": 64,
      "outputs": []
    },
    {
      "cell_type": "code",
      "metadata": {
        "id": "yK9BV4C56fWE",
        "colab_type": "code",
        "colab": {
          "base_uri": "https://localhost:8080/",
          "height": 34
        },
        "outputId": "47c8b006-cbd4-48c4-bccb-5f0c7a733905"
      },
      "source": [
        "joblib.dump(rfr, 'model.pkl')"
      ],
      "execution_count": 65,
      "outputs": [
        {
          "output_type": "execute_result",
          "data": {
            "text/plain": [
              "['model.pkl']"
            ]
          },
          "metadata": {
            "tags": []
          },
          "execution_count": 65
        }
      ]
    },
    {
      "cell_type": "code",
      "metadata": {
        "id": "vSGAZ4PP6lYj",
        "colab_type": "code",
        "colab": {}
      },
      "source": [
        "rfr_new = joblib.load('model.pkl')"
      ],
      "execution_count": 66,
      "outputs": []
    },
    {
      "cell_type": "code",
      "metadata": {
        "id": "5V4frfyH7CFX",
        "colab_type": "code",
        "colab": {}
      },
      "source": [
        "important.to_csv('king_important.csv')"
      ],
      "execution_count": 67,
      "outputs": []
    },
    {
      "cell_type": "markdown",
      "metadata": {
        "id": "2HrUz3w17A_Q",
        "colab_type": "text"
      },
      "source": [
        ""
      ]
    },
    {
      "cell_type": "code",
      "metadata": {
        "id": "nf55-0ap6vl_",
        "colab_type": "code",
        "colab": {}
      },
      "source": [
        "rfr_new.predict"
      ],
      "execution_count": null,
      "outputs": []
    }
  ]
}