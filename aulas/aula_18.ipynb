{
 "cells": [
  {
   "cell_type": "markdown",
   "metadata": {},
   "source": [
    "# Monitoramento da cotação de dolar"
   ]
  },
  {
   "cell_type": "code",
   "execution_count": 3,
   "metadata": {},
   "outputs": [],
   "source": [
    "import pandas as pd\n",
    "\n",
    "from alpha_vantage.foreignexchange import ForeignExchange\n",
    "import time\n",
    "import plotly.graph_objects as go\n",
    "\n",
    "api_key = 'RNZPXZ6Q9FEFMEHM'  \n",
    "\n",
    "cc = ForeignExchange(key = api_key, output_format= 'pandas')\n",
    "\n",
    "data, meta_data = cc.get_currency_exchange_rate(from_currency = \"USD\", to_currency= \"BRL\") "
   ]
  },
  {
   "cell_type": "code",
   "execution_count": 5,
   "metadata": {},
   "outputs": [
    {
     "data": {
      "text/plain": [
       "NoneType"
      ]
     },
     "execution_count": 5,
     "metadata": {},
     "output_type": "execute_result"
    }
   ],
   "source": [
    "type(meta_data)"
   ]
  },
  {
   "cell_type": "code",
   "execution_count": 6,
   "metadata": {},
   "outputs": [
    {
     "data": {
      "text/html": [
       "<div>\n",
       "<style scoped>\n",
       "    .dataframe tbody tr th:only-of-type {\n",
       "        vertical-align: middle;\n",
       "    }\n",
       "\n",
       "    .dataframe tbody tr th {\n",
       "        vertical-align: top;\n",
       "    }\n",
       "\n",
       "    .dataframe thead th {\n",
       "        text-align: right;\n",
       "    }\n",
       "</style>\n",
       "<table border=\"1\" class=\"dataframe\">\n",
       "  <thead>\n",
       "    <tr style=\"text-align: right;\">\n",
       "      <th></th>\n",
       "      <th>1. From_Currency Code</th>\n",
       "      <th>2. From_Currency Name</th>\n",
       "      <th>3. To_Currency Code</th>\n",
       "      <th>4. To_Currency Name</th>\n",
       "      <th>5. Exchange Rate</th>\n",
       "      <th>6. Last Refreshed</th>\n",
       "      <th>7. Time Zone</th>\n",
       "      <th>8. Bid Price</th>\n",
       "      <th>9. Ask Price</th>\n",
       "    </tr>\n",
       "  </thead>\n",
       "  <tbody>\n",
       "    <tr>\n",
       "      <th>Realtime Currency Exchange Rate</th>\n",
       "      <td>USD</td>\n",
       "      <td>United States Dollar</td>\n",
       "      <td>BRL</td>\n",
       "      <td>Brazilian Real</td>\n",
       "      <td>5.44710000</td>\n",
       "      <td>2020-06-26 17:09:31</td>\n",
       "      <td>UTC</td>\n",
       "      <td>-</td>\n",
       "      <td>-</td>\n",
       "    </tr>\n",
       "  </tbody>\n",
       "</table>\n",
       "</div>"
      ],
      "text/plain": [
       "                                1. From_Currency Code 2. From_Currency Name  \\\n",
       "Realtime Currency Exchange Rate                   USD  United States Dollar   \n",
       "\n",
       "                                3. To_Currency Code 4. To_Currency Name  \\\n",
       "Realtime Currency Exchange Rate                 BRL      Brazilian Real   \n",
       "\n",
       "                                5. Exchange Rate    6. Last Refreshed  \\\n",
       "Realtime Currency Exchange Rate       5.44710000  2020-06-26 17:09:31   \n",
       "\n",
       "                                7. Time Zone 8. Bid Price 9. Ask Price  \n",
       "Realtime Currency Exchange Rate          UTC            -            -  "
      ]
     },
     "execution_count": 6,
     "metadata": {},
     "output_type": "execute_result"
    }
   ],
   "source": [
    "data"
   ]
  },
  {
   "cell_type": "code",
   "execution_count": 7,
   "metadata": {},
   "outputs": [
    {
     "data": {
      "text/plain": [
       "Realtime Currency Exchange Rate    2020-06-26 17:09:31\n",
       "Name: 6. Last Refreshed, dtype: object"
      ]
     },
     "execution_count": 7,
     "metadata": {},
     "output_type": "execute_result"
    }
   ],
   "source": [
    "data['6. Last Refreshed']"
   ]
  },
  {
   "cell_type": "code",
   "execution_count": 8,
   "metadata": {},
   "outputs": [],
   "source": [
    "data['6. Last Refreshed'] = pd.to_datetime(data['6. Last Refreshed'])"
   ]
  },
  {
   "cell_type": "code",
   "execution_count": 9,
   "metadata": {
    "scrolled": true
   },
   "outputs": [
    {
     "data": {
      "text/plain": [
       "Realtime Currency Exchange Rate   2020-06-26 17:09:31\n",
       "Name: 6. Last Refreshed, dtype: datetime64[ns]"
      ]
     },
     "execution_count": 9,
     "metadata": {},
     "output_type": "execute_result"
    }
   ],
   "source": [
    "data['6. Last Refreshed']"
   ]
  },
  {
   "cell_type": "code",
   "execution_count": 10,
   "metadata": {},
   "outputs": [],
   "source": [
    "data['horario'] = pd.to_datetime(data['6. Last Refreshed'])"
   ]
  },
  {
   "cell_type": "code",
   "execution_count": 11,
   "metadata": {},
   "outputs": [
    {
     "data": {
      "text/html": [
       "<div>\n",
       "<style scoped>\n",
       "    .dataframe tbody tr th:only-of-type {\n",
       "        vertical-align: middle;\n",
       "    }\n",
       "\n",
       "    .dataframe tbody tr th {\n",
       "        vertical-align: top;\n",
       "    }\n",
       "\n",
       "    .dataframe thead th {\n",
       "        text-align: right;\n",
       "    }\n",
       "</style>\n",
       "<table border=\"1\" class=\"dataframe\">\n",
       "  <thead>\n",
       "    <tr style=\"text-align: right;\">\n",
       "      <th></th>\n",
       "      <th>1. From_Currency Code</th>\n",
       "      <th>2. From_Currency Name</th>\n",
       "      <th>3. To_Currency Code</th>\n",
       "      <th>4. To_Currency Name</th>\n",
       "      <th>5. Exchange Rate</th>\n",
       "      <th>6. Last Refreshed</th>\n",
       "      <th>7. Time Zone</th>\n",
       "      <th>8. Bid Price</th>\n",
       "      <th>9. Ask Price</th>\n",
       "      <th>horario</th>\n",
       "    </tr>\n",
       "  </thead>\n",
       "  <tbody>\n",
       "    <tr>\n",
       "      <th>Realtime Currency Exchange Rate</th>\n",
       "      <td>USD</td>\n",
       "      <td>United States Dollar</td>\n",
       "      <td>BRL</td>\n",
       "      <td>Brazilian Real</td>\n",
       "      <td>5.44710000</td>\n",
       "      <td>2020-06-26 17:09:31</td>\n",
       "      <td>UTC</td>\n",
       "      <td>-</td>\n",
       "      <td>-</td>\n",
       "      <td>2020-06-26 17:09:31</td>\n",
       "    </tr>\n",
       "  </tbody>\n",
       "</table>\n",
       "</div>"
      ],
      "text/plain": [
       "                                1. From_Currency Code 2. From_Currency Name  \\\n",
       "Realtime Currency Exchange Rate                   USD  United States Dollar   \n",
       "\n",
       "                                3. To_Currency Code 4. To_Currency Name  \\\n",
       "Realtime Currency Exchange Rate                 BRL      Brazilian Real   \n",
       "\n",
       "                                5. Exchange Rate   6. Last Refreshed  \\\n",
       "Realtime Currency Exchange Rate       5.44710000 2020-06-26 17:09:31   \n",
       "\n",
       "                                7. Time Zone 8. Bid Price 9. Ask Price  \\\n",
       "Realtime Currency Exchange Rate          UTC            -            -   \n",
       "\n",
       "                                            horario  \n",
       "Realtime Currency Exchange Rate 2020-06-26 17:09:31  "
      ]
     },
     "execution_count": 11,
     "metadata": {},
     "output_type": "execute_result"
    }
   ],
   "source": [
    "data"
   ]
  },
  {
   "cell_type": "code",
   "execution_count": 12,
   "metadata": {
    "scrolled": true
   },
   "outputs": [
    {
     "data": {
      "text/plain": [
       "Index(['Realtime Currency Exchange Rate'], dtype='object')"
      ]
     },
     "execution_count": 12,
     "metadata": {},
     "output_type": "execute_result"
    }
   ],
   "source": [
    "data.index"
   ]
  },
  {
   "cell_type": "code",
   "execution_count": 13,
   "metadata": {},
   "outputs": [],
   "source": [
    "data.set_index(data['6. Last Refreshed'], inplace=True)"
   ]
  },
  {
   "cell_type": "code",
   "execution_count": 14,
   "metadata": {},
   "outputs": [
    {
     "data": {
      "text/html": [
       "<div>\n",
       "<style scoped>\n",
       "    .dataframe tbody tr th:only-of-type {\n",
       "        vertical-align: middle;\n",
       "    }\n",
       "\n",
       "    .dataframe tbody tr th {\n",
       "        vertical-align: top;\n",
       "    }\n",
       "\n",
       "    .dataframe thead th {\n",
       "        text-align: right;\n",
       "    }\n",
       "</style>\n",
       "<table border=\"1\" class=\"dataframe\">\n",
       "  <thead>\n",
       "    <tr style=\"text-align: right;\">\n",
       "      <th></th>\n",
       "      <th>1. From_Currency Code</th>\n",
       "      <th>2. From_Currency Name</th>\n",
       "      <th>3. To_Currency Code</th>\n",
       "      <th>4. To_Currency Name</th>\n",
       "      <th>5. Exchange Rate</th>\n",
       "      <th>6. Last Refreshed</th>\n",
       "      <th>7. Time Zone</th>\n",
       "      <th>8. Bid Price</th>\n",
       "      <th>9. Ask Price</th>\n",
       "      <th>horario</th>\n",
       "    </tr>\n",
       "    <tr>\n",
       "      <th>6. Last Refreshed</th>\n",
       "      <th></th>\n",
       "      <th></th>\n",
       "      <th></th>\n",
       "      <th></th>\n",
       "      <th></th>\n",
       "      <th></th>\n",
       "      <th></th>\n",
       "      <th></th>\n",
       "      <th></th>\n",
       "      <th></th>\n",
       "    </tr>\n",
       "  </thead>\n",
       "  <tbody>\n",
       "    <tr>\n",
       "      <th>2020-06-26 17:09:31</th>\n",
       "      <td>USD</td>\n",
       "      <td>United States Dollar</td>\n",
       "      <td>BRL</td>\n",
       "      <td>Brazilian Real</td>\n",
       "      <td>5.44710000</td>\n",
       "      <td>2020-06-26 17:09:31</td>\n",
       "      <td>UTC</td>\n",
       "      <td>-</td>\n",
       "      <td>-</td>\n",
       "      <td>2020-06-26 17:09:31</td>\n",
       "    </tr>\n",
       "  </tbody>\n",
       "</table>\n",
       "</div>"
      ],
      "text/plain": [
       "                    1. From_Currency Code 2. From_Currency Name  \\\n",
       "6. Last Refreshed                                                 \n",
       "2020-06-26 17:09:31                   USD  United States Dollar   \n",
       "\n",
       "                    3. To_Currency Code 4. To_Currency Name 5. Exchange Rate  \\\n",
       "6. Last Refreshed                                                              \n",
       "2020-06-26 17:09:31                 BRL      Brazilian Real       5.44710000   \n",
       "\n",
       "                      6. Last Refreshed 7. Time Zone 8. Bid Price  \\\n",
       "6. Last Refreshed                                                   \n",
       "2020-06-26 17:09:31 2020-06-26 17:09:31          UTC            -   \n",
       "\n",
       "                    9. Ask Price             horario  \n",
       "6. Last Refreshed                                     \n",
       "2020-06-26 17:09:31            - 2020-06-26 17:09:31  "
      ]
     },
     "execution_count": 14,
     "metadata": {},
     "output_type": "execute_result"
    }
   ],
   "source": [
    "data"
   ]
  },
  {
   "cell_type": "code",
   "execution_count": 16,
   "metadata": {},
   "outputs": [],
   "source": [
    "data.index = data.index.tz_localize(tz = \"UTC\").tz_convert(tz = \"America/Sao_Paulo\")\n"
   ]
  },
  {
   "cell_type": "code",
   "execution_count": 17,
   "metadata": {},
   "outputs": [
    {
     "data": {
      "text/plain": [
       "DatetimeIndex(['2020-06-26 14:09:31-03:00'], dtype='datetime64[ns, America/Sao_Paulo]', name='6. Last Refreshed', freq=None)"
      ]
     },
     "execution_count": 17,
     "metadata": {},
     "output_type": "execute_result"
    }
   ],
   "source": [
    "data.index"
   ]
  },
  {
   "cell_type": "code",
   "execution_count": 23,
   "metadata": {},
   "outputs": [
    {
     "data": {
      "application/vnd.jupyter.widget-view+json": {
       "model_id": "d7be30d9357444e4a6e704b6b42cd5eb",
       "version_major": 2,
       "version_minor": 0
      },
      "text/plain": [
       "FigureWidget({\n",
       "    'data': [{'type': 'scatter',\n",
       "              'uid': '00400f05-e770-49e1-b734-3e09ae357b5b',\n",
       " …"
      ]
     },
     "metadata": {},
     "output_type": "display_data"
    }
   ],
   "source": [
    "import pandas as pd\n",
    "import cv2\n",
    "from alpha_vantage.foreignexchange import ForeignExchange\n",
    "import time\n",
    "import plotly.graph_objects as go\n",
    "\n",
    "api_key = 'RNZPXZ6Q9FEFMEHM'  \n",
    "\n",
    "cc = ForeignExchange(key = api_key, output_format= 'pandas')\n",
    "\n",
    "data, meta_data = cc.get_currency_exchange_rate(from_currency = \"USD\", to_currency= \"BRL\") \n",
    "data['6. Last Refreshed'] = pd.to_datetime(data['6. Last Refreshed'])\n",
    "\n",
    "data.set_index(data['6. Last Refreshed'], inplace=True)\n",
    "data.index = data.index.tz_localize(tz = \"UTC\").tz_convert(tz = \"America/Sao_Paulo\")\n",
    "\n",
    "fig = go.FigureWidget()\n",
    "\n",
    "fig.add_scatter(x = data.index, y = data['5. Exchange Rate'])\n",
    "\n",
    "fig"
   ]
  },
  {
   "cell_type": "code",
   "execution_count": 29,
   "metadata": {},
   "outputs": [
    {
     "ename": "KeyboardInterrupt",
     "evalue": "",
     "output_type": "error",
     "traceback": [
      "\u001b[0;31m---------------------------------------------------------------------------\u001b[0m",
      "\u001b[0;31mKeyboardInterrupt\u001b[0m                         Traceback (most recent call last)",
      "\u001b[0;32m<ipython-input-29-e257a617ef48>\u001b[0m in \u001b[0;36m<module>\u001b[0;34m\u001b[0m\n\u001b[1;32m     17\u001b[0m         \u001b[0;32mbreak\u001b[0m\u001b[0;34m\u001b[0m\u001b[0;34m\u001b[0m\u001b[0m\n\u001b[1;32m     18\u001b[0m \u001b[0;34m\u001b[0m\u001b[0m\n\u001b[0;32m---> 19\u001b[0;31m     \u001b[0mtime\u001b[0m\u001b[0;34m.\u001b[0m\u001b[0msleep\u001b[0m\u001b[0;34m(\u001b[0m\u001b[0;36m60\u001b[0m\u001b[0;34m)\u001b[0m\u001b[0;34m\u001b[0m\u001b[0;34m\u001b[0m\u001b[0m\n\u001b[0m",
      "\u001b[0;31mKeyboardInterrupt\u001b[0m: "
     ]
    }
   ],
   "source": [
    "while True:  \n",
    "    tmp, _ = cc.get_currency_exchange_rate(from_currency = \"USD\", to_currency= \"BRL\") \n",
    "    tmp['6. Last Refreshed'] = pd.to_datetime(tmp['6. Last Refreshed'])\n",
    "\n",
    "    tmp.set_index(tmp['6. Last Refreshed'], inplace=True)\n",
    "    tmp.index = tmp.index.tz_localize(tz = \"UTC\").tz_convert(tz = \"America/Sao_Paulo\")\n",
    "\n",
    "    data = pd.concat([data,tmp])\n",
    "    data.to_csv('../data/brl.csv')\n",
    "    \n",
    "    with fig.batch_update():\n",
    "        fig.data[0].x = data.index\n",
    "        fig.data[0].y = data['5. Exchange Rate']\n",
    "        \n",
    "    k = cv2.waitKey(0)\n",
    "    if k == 27 & 0xFF:         # wait for ESC key to exit\n",
    "        break\n",
    "        \n",
    "    time.sleep(60)"
   ]
  },
  {
   "cell_type": "code",
   "execution_count": 27,
   "metadata": {},
   "outputs": [],
   "source": [
    "import cv2"
   ]
  },
  {
   "cell_type": "code",
   "execution_count": 20,
   "metadata": {},
   "outputs": [
    {
     "data": {
      "text/plain": [
       "(Scatter({\n",
       "     'uid': '10e285fd-dcb0-48bd-8c52-f5377634fd25',\n",
       "     'x': array([datetime.datetime(2020, 6, 26, 14, 34, 42, tzinfo=<DstTzInfo 'America/Sao_Paulo' -03-1 day, 21:00:00 STD>)],\n",
       "                dtype=object),\n",
       "     'y': array(['5.44420000'], dtype=object)\n",
       " }),)"
      ]
     },
     "execution_count": 20,
     "metadata": {},
     "output_type": "execute_result"
    }
   ],
   "source": [
    "fig.data"
   ]
  },
  {
   "cell_type": "code",
   "execution_count": 22,
   "metadata": {},
   "outputs": [
    {
     "data": {
      "text/plain": [
       "array([datetime.datetime(2020, 6, 26, 14, 34, 42, tzinfo=<DstTzInfo 'America/Sao_Paulo' -03-1 day, 21:00:00 STD>)],\n",
       "      dtype=object)"
      ]
     },
     "execution_count": 22,
     "metadata": {},
     "output_type": "execute_result"
    }
   ],
   "source": [
    "fig.data[0].x"
   ]
  },
  {
   "cell_type": "markdown",
   "metadata": {},
   "source": [
    "# Monitoramento de uma ação"
   ]
  },
  {
   "cell_type": "code",
   "execution_count": 39,
   "metadata": {},
   "outputs": [
    {
     "data": {
      "application/vnd.jupyter.widget-view+json": {
       "model_id": "b97804515b2648138a9d659d0823574f",
       "version_major": 2,
       "version_minor": 0
      },
      "text/plain": [
       "FigureWidget({\n",
       "    'data': [{'type': 'scatter', 'uid': 'b40fe210-92a1-4a21-9366-42e6765d08f1'}], 'layout': {'t…"
      ]
     },
     "metadata": {},
     "output_type": "display_data"
    }
   ],
   "source": [
    "import pandas as pd\n",
    "import cv2\n",
    "from alpha_vantage.timeseries import TimeSeries\n",
    "import time\n",
    "import plotly.graph_objects as go\n",
    "\n",
    "api_key = 'RNZPXZ6Q9FEFMEHM'  \n",
    "\n",
    "ts = TimeSeries(key = api_key, output_format= 'pandas')\n",
    "\n",
    "\n",
    "fig = go.FigureWidget()\n",
    "\n",
    "fig.add_scatter()\n",
    "\n",
    "fig"
   ]
  },
  {
   "cell_type": "code",
   "execution_count": 40,
   "metadata": {},
   "outputs": [
    {
     "ename": "KeyboardInterrupt",
     "evalue": "",
     "output_type": "error",
     "traceback": [
      "\u001b[0;31m---------------------------------------------------------------------------\u001b[0m",
      "\u001b[0;31mKeyboardInterrupt\u001b[0m                         Traceback (most recent call last)",
      "\u001b[0;32m<ipython-input-40-ccaa9db08e3d>\u001b[0m in \u001b[0;36m<module>\u001b[0;34m\u001b[0m\n\u001b[1;32m     11\u001b[0m         \u001b[0mfig\u001b[0m\u001b[0;34m.\u001b[0m\u001b[0mdata\u001b[0m\u001b[0;34m[\u001b[0m\u001b[0;36m0\u001b[0m\u001b[0;34m]\u001b[0m\u001b[0;34m.\u001b[0m\u001b[0my\u001b[0m \u001b[0;34m=\u001b[0m \u001b[0mhoje\u001b[0m\u001b[0;34m[\u001b[0m\u001b[0;34m'4. close'\u001b[0m\u001b[0;34m]\u001b[0m\u001b[0;34m\u001b[0m\u001b[0;34m\u001b[0m\u001b[0m\n\u001b[1;32m     12\u001b[0m \u001b[0;34m\u001b[0m\u001b[0m\n\u001b[0;32m---> 13\u001b[0;31m     \u001b[0mtime\u001b[0m\u001b[0;34m.\u001b[0m\u001b[0msleep\u001b[0m\u001b[0;34m(\u001b[0m\u001b[0;36m60\u001b[0m\u001b[0;34m)\u001b[0m\u001b[0;34m\u001b[0m\u001b[0;34m\u001b[0m\u001b[0m\n\u001b[0m\u001b[1;32m     14\u001b[0m \u001b[0;34m\u001b[0m\u001b[0m\n",
      "\u001b[0;31mKeyboardInterrupt\u001b[0m: "
     ]
    }
   ],
   "source": [
    "while True:\n",
    "    data, meta_data = ts.get_intraday('PETR4.SAO', interval='1min', outputsize='full') \n",
    "    data.index = data.index.tz_localize('US/Eastern').tz_convert(\"America/Sao_Paulo\")\n",
    "    \n",
    "    hoje = data[data.index > '2020-06-26']\n",
    "    \n",
    "    hoje.to_csv('../data/petr4.csv')\n",
    "    \n",
    "    with fig.batch_update():\n",
    "        fig.data[0].x = hoje.index\n",
    "        fig.data[0].y = hoje['4. close']\n",
    "        \n",
    "    time.sleep(60)\n",
    "    "
   ]
  },
  {
   "cell_type": "code",
   "execution_count": 31,
   "metadata": {},
   "outputs": [],
   "source": [
    "data, meta_data = ts.get_intraday('PETR4.SAO', interval='1min', outputsize='full') "
   ]
  },
  {
   "cell_type": "code",
   "execution_count": 32,
   "metadata": {},
   "outputs": [
    {
     "data": {
      "text/plain": [
       "{'1. Information': 'Intraday (1min) open, high, low, close prices and volume',\n",
       " '2. Symbol': 'PETR4.SAO',\n",
       " '3. Last Refreshed': '2020-06-26 13:59:06',\n",
       " '4. Interval': '1min',\n",
       " '5. Output Size': 'Full size',\n",
       " '6. Time Zone': 'US/Eastern'}"
      ]
     },
     "execution_count": 32,
     "metadata": {},
     "output_type": "execute_result"
    }
   ],
   "source": [
    "meta_data"
   ]
  },
  {
   "cell_type": "code",
   "execution_count": 33,
   "metadata": {},
   "outputs": [
    {
     "data": {
      "text/html": [
       "<div>\n",
       "<style scoped>\n",
       "    .dataframe tbody tr th:only-of-type {\n",
       "        vertical-align: middle;\n",
       "    }\n",
       "\n",
       "    .dataframe tbody tr th {\n",
       "        vertical-align: top;\n",
       "    }\n",
       "\n",
       "    .dataframe thead th {\n",
       "        text-align: right;\n",
       "    }\n",
       "</style>\n",
       "<table border=\"1\" class=\"dataframe\">\n",
       "  <thead>\n",
       "    <tr style=\"text-align: right;\">\n",
       "      <th></th>\n",
       "      <th>1. open</th>\n",
       "      <th>2. high</th>\n",
       "      <th>3. low</th>\n",
       "      <th>4. close</th>\n",
       "      <th>5. volume</th>\n",
       "    </tr>\n",
       "    <tr>\n",
       "      <th>date</th>\n",
       "      <th></th>\n",
       "      <th></th>\n",
       "      <th></th>\n",
       "      <th></th>\n",
       "      <th></th>\n",
       "    </tr>\n",
       "  </thead>\n",
       "  <tbody>\n",
       "    <tr>\n",
       "      <th>2020-06-26 13:59:06</th>\n",
       "      <td>21.02</td>\n",
       "      <td>21.02</td>\n",
       "      <td>21.02</td>\n",
       "      <td>21.02</td>\n",
       "      <td>0.0</td>\n",
       "    </tr>\n",
       "    <tr>\n",
       "      <th>2020-06-26 13:57:00</th>\n",
       "      <td>21.01</td>\n",
       "      <td>21.03</td>\n",
       "      <td>20.99</td>\n",
       "      <td>21.03</td>\n",
       "      <td>53465.0</td>\n",
       "    </tr>\n",
       "    <tr>\n",
       "      <th>2020-06-26 13:56:00</th>\n",
       "      <td>21.00</td>\n",
       "      <td>21.03</td>\n",
       "      <td>21.00</td>\n",
       "      <td>21.01</td>\n",
       "      <td>86190.0</td>\n",
       "    </tr>\n",
       "    <tr>\n",
       "      <th>2020-06-26 13:55:00</th>\n",
       "      <td>21.00</td>\n",
       "      <td>21.01</td>\n",
       "      <td>20.99</td>\n",
       "      <td>21.00</td>\n",
       "      <td>36550.0</td>\n",
       "    </tr>\n",
       "    <tr>\n",
       "      <th>2020-06-26 13:54:00</th>\n",
       "      <td>20.99</td>\n",
       "      <td>21.01</td>\n",
       "      <td>20.98</td>\n",
       "      <td>20.99</td>\n",
       "      <td>20485.0</td>\n",
       "    </tr>\n",
       "    <tr>\n",
       "      <th>...</th>\n",
       "      <td>...</td>\n",
       "      <td>...</td>\n",
       "      <td>...</td>\n",
       "      <td>...</td>\n",
       "      <td>...</td>\n",
       "    </tr>\n",
       "    <tr>\n",
       "      <th>2020-06-22 09:15:00</th>\n",
       "      <td>21.38</td>\n",
       "      <td>21.45</td>\n",
       "      <td>21.38</td>\n",
       "      <td>21.42</td>\n",
       "      <td>81005.0</td>\n",
       "    </tr>\n",
       "    <tr>\n",
       "      <th>2020-06-22 09:14:00</th>\n",
       "      <td>21.45</td>\n",
       "      <td>21.46</td>\n",
       "      <td>21.37</td>\n",
       "      <td>21.39</td>\n",
       "      <td>119680.0</td>\n",
       "    </tr>\n",
       "    <tr>\n",
       "      <th>2020-06-22 09:13:00</th>\n",
       "      <td>21.47</td>\n",
       "      <td>21.51</td>\n",
       "      <td>21.45</td>\n",
       "      <td>21.45</td>\n",
       "      <td>95200.0</td>\n",
       "    </tr>\n",
       "    <tr>\n",
       "      <th>2020-06-22 09:12:00</th>\n",
       "      <td>21.50</td>\n",
       "      <td>21.56</td>\n",
       "      <td>21.43</td>\n",
       "      <td>21.47</td>\n",
       "      <td>159290.0</td>\n",
       "    </tr>\n",
       "    <tr>\n",
       "      <th>2020-06-22 09:11:00</th>\n",
       "      <td>21.60</td>\n",
       "      <td>21.60</td>\n",
       "      <td>21.49</td>\n",
       "      <td>21.51</td>\n",
       "      <td>0.0</td>\n",
       "    </tr>\n",
       "  </tbody>\n",
       "</table>\n",
       "<p>1909 rows × 5 columns</p>\n",
       "</div>"
      ],
      "text/plain": [
       "                     1. open  2. high  3. low  4. close  5. volume\n",
       "date                                                              \n",
       "2020-06-26 13:59:06    21.02    21.02   21.02     21.02        0.0\n",
       "2020-06-26 13:57:00    21.01    21.03   20.99     21.03    53465.0\n",
       "2020-06-26 13:56:00    21.00    21.03   21.00     21.01    86190.0\n",
       "2020-06-26 13:55:00    21.00    21.01   20.99     21.00    36550.0\n",
       "2020-06-26 13:54:00    20.99    21.01   20.98     20.99    20485.0\n",
       "...                      ...      ...     ...       ...        ...\n",
       "2020-06-22 09:15:00    21.38    21.45   21.38     21.42    81005.0\n",
       "2020-06-22 09:14:00    21.45    21.46   21.37     21.39   119680.0\n",
       "2020-06-22 09:13:00    21.47    21.51   21.45     21.45    95200.0\n",
       "2020-06-22 09:12:00    21.50    21.56   21.43     21.47   159290.0\n",
       "2020-06-22 09:11:00    21.60    21.60   21.49     21.51        0.0\n",
       "\n",
       "[1909 rows x 5 columns]"
      ]
     },
     "execution_count": 33,
     "metadata": {},
     "output_type": "execute_result"
    }
   ],
   "source": [
    "data"
   ]
  },
  {
   "cell_type": "code",
   "execution_count": 34,
   "metadata": {},
   "outputs": [
    {
     "data": {
      "text/plain": [
       "DatetimeIndex(['2020-06-26 13:59:06', '2020-06-26 13:57:00',\n",
       "               '2020-06-26 13:56:00', '2020-06-26 13:55:00',\n",
       "               '2020-06-26 13:54:00', '2020-06-26 13:53:00',\n",
       "               '2020-06-26 13:52:00', '2020-06-26 13:51:00',\n",
       "               '2020-06-26 13:50:00', '2020-06-26 13:49:00',\n",
       "               ...\n",
       "               '2020-06-22 09:20:00', '2020-06-22 09:19:00',\n",
       "               '2020-06-22 09:18:00', '2020-06-22 09:17:00',\n",
       "               '2020-06-22 09:16:00', '2020-06-22 09:15:00',\n",
       "               '2020-06-22 09:14:00', '2020-06-22 09:13:00',\n",
       "               '2020-06-22 09:12:00', '2020-06-22 09:11:00'],\n",
       "              dtype='datetime64[ns]', name='date', length=1909, freq=None)"
      ]
     },
     "execution_count": 34,
     "metadata": {},
     "output_type": "execute_result"
    }
   ],
   "source": [
    "data.index"
   ]
  },
  {
   "cell_type": "code",
   "execution_count": 35,
   "metadata": {},
   "outputs": [],
   "source": [
    "hoje = data[data.index > '2020-06-26']"
   ]
  },
  {
   "cell_type": "code",
   "execution_count": 36,
   "metadata": {},
   "outputs": [
    {
     "data": {
      "text/html": [
       "<div>\n",
       "<style scoped>\n",
       "    .dataframe tbody tr th:only-of-type {\n",
       "        vertical-align: middle;\n",
       "    }\n",
       "\n",
       "    .dataframe tbody tr th {\n",
       "        vertical-align: top;\n",
       "    }\n",
       "\n",
       "    .dataframe thead th {\n",
       "        text-align: right;\n",
       "    }\n",
       "</style>\n",
       "<table border=\"1\" class=\"dataframe\">\n",
       "  <thead>\n",
       "    <tr style=\"text-align: right;\">\n",
       "      <th></th>\n",
       "      <th>1. open</th>\n",
       "      <th>2. high</th>\n",
       "      <th>3. low</th>\n",
       "      <th>4. close</th>\n",
       "      <th>5. volume</th>\n",
       "    </tr>\n",
       "    <tr>\n",
       "      <th>date</th>\n",
       "      <th></th>\n",
       "      <th></th>\n",
       "      <th></th>\n",
       "      <th></th>\n",
       "      <th></th>\n",
       "    </tr>\n",
       "  </thead>\n",
       "  <tbody>\n",
       "    <tr>\n",
       "      <th>2020-06-26 13:59:06</th>\n",
       "      <td>21.02</td>\n",
       "      <td>21.02</td>\n",
       "      <td>21.02</td>\n",
       "      <td>21.02</td>\n",
       "      <td>0.0</td>\n",
       "    </tr>\n",
       "    <tr>\n",
       "      <th>2020-06-26 13:57:00</th>\n",
       "      <td>21.01</td>\n",
       "      <td>21.03</td>\n",
       "      <td>20.99</td>\n",
       "      <td>21.03</td>\n",
       "      <td>53465.0</td>\n",
       "    </tr>\n",
       "    <tr>\n",
       "      <th>2020-06-26 13:56:00</th>\n",
       "      <td>21.00</td>\n",
       "      <td>21.03</td>\n",
       "      <td>21.00</td>\n",
       "      <td>21.01</td>\n",
       "      <td>86190.0</td>\n",
       "    </tr>\n",
       "    <tr>\n",
       "      <th>2020-06-26 13:55:00</th>\n",
       "      <td>21.00</td>\n",
       "      <td>21.01</td>\n",
       "      <td>20.99</td>\n",
       "      <td>21.00</td>\n",
       "      <td>36550.0</td>\n",
       "    </tr>\n",
       "    <tr>\n",
       "      <th>2020-06-26 13:54:00</th>\n",
       "      <td>20.99</td>\n",
       "      <td>21.01</td>\n",
       "      <td>20.98</td>\n",
       "      <td>20.99</td>\n",
       "      <td>20485.0</td>\n",
       "    </tr>\n",
       "    <tr>\n",
       "      <th>...</th>\n",
       "      <td>...</td>\n",
       "      <td>...</td>\n",
       "      <td>...</td>\n",
       "      <td>...</td>\n",
       "      <td>...</td>\n",
       "    </tr>\n",
       "    <tr>\n",
       "      <th>2020-06-26 09:13:00</th>\n",
       "      <td>21.33</td>\n",
       "      <td>21.35</td>\n",
       "      <td>21.30</td>\n",
       "      <td>21.32</td>\n",
       "      <td>162180.0</td>\n",
       "    </tr>\n",
       "    <tr>\n",
       "      <th>2020-06-26 09:12:00</th>\n",
       "      <td>21.33</td>\n",
       "      <td>21.35</td>\n",
       "      <td>21.31</td>\n",
       "      <td>21.34</td>\n",
       "      <td>95625.0</td>\n",
       "    </tr>\n",
       "    <tr>\n",
       "      <th>2020-06-26 09:11:00</th>\n",
       "      <td>21.34</td>\n",
       "      <td>21.36</td>\n",
       "      <td>21.31</td>\n",
       "      <td>21.35</td>\n",
       "      <td>98855.0</td>\n",
       "    </tr>\n",
       "    <tr>\n",
       "      <th>2020-06-26 09:10:00</th>\n",
       "      <td>21.27</td>\n",
       "      <td>21.35</td>\n",
       "      <td>21.24</td>\n",
       "      <td>21.33</td>\n",
       "      <td>319175.0</td>\n",
       "    </tr>\n",
       "    <tr>\n",
       "      <th>2020-06-26 09:09:00</th>\n",
       "      <td>21.21</td>\n",
       "      <td>21.29</td>\n",
       "      <td>21.18</td>\n",
       "      <td>21.28</td>\n",
       "      <td>0.0</td>\n",
       "    </tr>\n",
       "  </tbody>\n",
       "</table>\n",
       "<p>289 rows × 5 columns</p>\n",
       "</div>"
      ],
      "text/plain": [
       "                     1. open  2. high  3. low  4. close  5. volume\n",
       "date                                                              \n",
       "2020-06-26 13:59:06    21.02    21.02   21.02     21.02        0.0\n",
       "2020-06-26 13:57:00    21.01    21.03   20.99     21.03    53465.0\n",
       "2020-06-26 13:56:00    21.00    21.03   21.00     21.01    86190.0\n",
       "2020-06-26 13:55:00    21.00    21.01   20.99     21.00    36550.0\n",
       "2020-06-26 13:54:00    20.99    21.01   20.98     20.99    20485.0\n",
       "...                      ...      ...     ...       ...        ...\n",
       "2020-06-26 09:13:00    21.33    21.35   21.30     21.32   162180.0\n",
       "2020-06-26 09:12:00    21.33    21.35   21.31     21.34    95625.0\n",
       "2020-06-26 09:11:00    21.34    21.36   21.31     21.35    98855.0\n",
       "2020-06-26 09:10:00    21.27    21.35   21.24     21.33   319175.0\n",
       "2020-06-26 09:09:00    21.21    21.29   21.18     21.28        0.0\n",
       "\n",
       "[289 rows x 5 columns]"
      ]
     },
     "execution_count": 36,
     "metadata": {},
     "output_type": "execute_result"
    }
   ],
   "source": [
    "hoje"
   ]
  },
  {
   "cell_type": "markdown",
   "metadata": {},
   "source": [
    "# candlestick"
   ]
  },
  {
   "cell_type": "code",
   "execution_count": 42,
   "metadata": {},
   "outputs": [
    {
     "data": {
      "application/vnd.jupyter.widget-view+json": {
       "model_id": "bfedf2412fa3467b9957dc473cc540cd",
       "version_major": 2,
       "version_minor": 0
      },
      "text/plain": [
       "FigureWidget({\n",
       "    'data': [{'type': 'candlestick', 'uid': '576ef1f4-d91e-4d11-bd2b-53249df4a6f4'}], 'layout':…"
      ]
     },
     "metadata": {},
     "output_type": "display_data"
    }
   ],
   "source": [
    "import pandas as pd\n",
    "import cv2\n",
    "from alpha_vantage.timeseries import TimeSeries\n",
    "import time\n",
    "import plotly.graph_objects as go\n",
    "\n",
    "api_key = 'RNZPXZ6Q9FEFMEHM'  \n",
    "\n",
    "ts = TimeSeries(key = api_key, output_format= 'pandas')\n",
    "\n",
    "\n",
    "fig = go.FigureWidget()\n",
    "\n",
    "fig.add_candlestick()\n",
    "\n",
    "fig"
   ]
  },
  {
   "cell_type": "code",
   "execution_count": 44,
   "metadata": {},
   "outputs": [
    {
     "ename": "KeyboardInterrupt",
     "evalue": "",
     "output_type": "error",
     "traceback": [
      "\u001b[0;31m---------------------------------------------------------------------------\u001b[0m",
      "\u001b[0;31mKeyboardInterrupt\u001b[0m                         Traceback (most recent call last)",
      "\u001b[0;32m<ipython-input-44-e62ce4946a3e>\u001b[0m in \u001b[0;36m<module>\u001b[0;34m\u001b[0m\n\u001b[1;32m     14\u001b[0m         \u001b[0mfig\u001b[0m\u001b[0;34m.\u001b[0m\u001b[0mdata\u001b[0m\u001b[0;34m[\u001b[0m\u001b[0;36m0\u001b[0m\u001b[0;34m]\u001b[0m\u001b[0;34m.\u001b[0m\u001b[0mhigh\u001b[0m \u001b[0;34m=\u001b[0m \u001b[0mhoje\u001b[0m\u001b[0;34m[\u001b[0m\u001b[0;34m'2. high'\u001b[0m\u001b[0;34m]\u001b[0m\u001b[0;34m\u001b[0m\u001b[0;34m\u001b[0m\u001b[0m\n\u001b[1;32m     15\u001b[0m \u001b[0;34m\u001b[0m\u001b[0m\n\u001b[0;32m---> 16\u001b[0;31m     \u001b[0mtime\u001b[0m\u001b[0;34m.\u001b[0m\u001b[0msleep\u001b[0m\u001b[0;34m(\u001b[0m\u001b[0;36m60\u001b[0m\u001b[0;34m)\u001b[0m\u001b[0;34m\u001b[0m\u001b[0;34m\u001b[0m\u001b[0m\n\u001b[0m\u001b[1;32m     17\u001b[0m \u001b[0;34m\u001b[0m\u001b[0m\n",
      "\u001b[0;31mKeyboardInterrupt\u001b[0m: "
     ]
    }
   ],
   "source": [
    "while True:\n",
    "    data, meta_data = ts.get_intraday('PETR4.SAO', interval='1min', outputsize='full') \n",
    "    data.index = data.index.tz_localize('US/Eastern').tz_convert(\"America/Sao_Paulo\")\n",
    "    \n",
    "    hoje = data[data.index > '2020-06-26']\n",
    "    \n",
    "    hoje.to_csv('../data/petr4.csv')\n",
    "    \n",
    "    with fig.batch_update():\n",
    "        fig.data[0].x = hoje.index\n",
    "        fig.data[0].close = hoje['4. close']\n",
    "        fig.data[0].open = hoje['1. open']\n",
    "        fig.data[0].low = hoje['3. low']\n",
    "        fig.data[0].high = hoje['2. high']\n",
    "        \n",
    "    time.sleep(60)\n",
    "    "
   ]
  },
  {
   "cell_type": "code",
   "execution_count": null,
   "metadata": {},
   "outputs": [],
   "source": []
  }
 ],
 "metadata": {
  "kernelspec": {
   "display_name": "Python 3",
   "language": "python",
   "name": "python3"
  },
  "language_info": {
   "codemirror_mode": {
    "name": "ipython",
    "version": 3
   },
   "file_extension": ".py",
   "mimetype": "text/x-python",
   "name": "python",
   "nbconvert_exporter": "python",
   "pygments_lexer": "ipython3",
   "version": "3.7.6"
  },
  "toc": {
   "base_numbering": 1,
   "nav_menu": {},
   "number_sections": true,
   "sideBar": true,
   "skip_h1_title": false,
   "title_cell": "Table of Contents",
   "title_sidebar": "Contents",
   "toc_cell": false,
   "toc_position": {},
   "toc_section_display": true,
   "toc_window_display": false
  },
  "varInspector": {
   "cols": {
    "lenName": 16,
    "lenType": 16,
    "lenVar": 40
   },
   "kernels_config": {
    "python": {
     "delete_cmd_postfix": "",
     "delete_cmd_prefix": "del ",
     "library": "var_list.py",
     "varRefreshCmd": "print(var_dic_list())"
    },
    "r": {
     "delete_cmd_postfix": ") ",
     "delete_cmd_prefix": "rm(",
     "library": "var_list.r",
     "varRefreshCmd": "cat(var_dic_list()) "
    }
   },
   "types_to_exclude": [
    "module",
    "function",
    "builtin_function_or_method",
    "instance",
    "_Feature"
   ],
   "window_display": false
  }
 },
 "nbformat": 4,
 "nbformat_minor": 4
}
