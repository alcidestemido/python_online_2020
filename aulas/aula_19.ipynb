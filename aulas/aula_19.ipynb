{
 "cells": [
  {
   "cell_type": "markdown",
   "metadata": {},
   "source": [
    "# Revisão"
   ]
  },
  {
   "cell_type": "code",
   "execution_count": 1,
   "metadata": {},
   "outputs": [
    {
     "data": {
      "application/vnd.jupyter.widget-view+json": {
       "model_id": "ded83f2207ed46b285130f29491f3128",
       "version_major": 2,
       "version_minor": 0
      },
      "text/plain": [
       "FigureWidget({\n",
       "    'data': [{'type': 'scatter', 'uid': 'e91ce36a-0e30-40cd-8504-1d0c5039669e'}], 'layout': {'t…"
      ]
     },
     "metadata": {},
     "output_type": "display_data"
    }
   ],
   "source": [
    "import pandas as pd\n",
    "from alpha_vantage.timeseries import TimeSeries\n",
    "import time\n",
    "import plotly.graph_objects as go\n",
    "\n",
    "api_key = 'RNZPXZ6Q9FEFMEHM'  \n",
    "\n",
    "ts = TimeSeries(key=api_key, output_format='pandas')\n",
    "\n",
    "\n",
    "fig = go.FigureWidget()\n",
    "fig.add_scatter()\n",
    "fig"
   ]
  },
  {
   "cell_type": "code",
   "execution_count": 12,
   "metadata": {},
   "outputs": [
    {
     "ename": "KeyboardInterrupt",
     "evalue": "",
     "output_type": "error",
     "traceback": [
      "\u001b[0;31m---------------------------------------------------------------------------\u001b[0m",
      "\u001b[0;31mKeyboardInterrupt\u001b[0m                         Traceback (most recent call last)",
      "\u001b[0;32m<ipython-input-12-cadb841fe65f>\u001b[0m in \u001b[0;36m<module>\u001b[0;34m\u001b[0m\n\u001b[1;32m     10\u001b[0m         \u001b[0mfig\u001b[0m\u001b[0;34m.\u001b[0m\u001b[0mdata\u001b[0m\u001b[0;34m[\u001b[0m\u001b[0;36m0\u001b[0m\u001b[0;34m]\u001b[0m\u001b[0;34m.\u001b[0m\u001b[0my\u001b[0m \u001b[0;34m=\u001b[0m \u001b[0mhoje\u001b[0m\u001b[0;34m[\u001b[0m\u001b[0;34m'4. close'\u001b[0m\u001b[0;34m]\u001b[0m\u001b[0;34m\u001b[0m\u001b[0;34m\u001b[0m\u001b[0m\n\u001b[1;32m     11\u001b[0m \u001b[0;34m\u001b[0m\u001b[0m\n\u001b[0;32m---> 12\u001b[0;31m     \u001b[0mtime\u001b[0m\u001b[0;34m.\u001b[0m\u001b[0msleep\u001b[0m\u001b[0;34m(\u001b[0m\u001b[0;36m60\u001b[0m\u001b[0;34m)\u001b[0m\u001b[0;34m\u001b[0m\u001b[0;34m\u001b[0m\u001b[0m\n\u001b[0m",
      "\u001b[0;31mKeyboardInterrupt\u001b[0m: "
     ]
    }
   ],
   "source": [
    "while True:\n",
    "    data, meta_data = ts.get_intraday('PETR4.SAO', interval='1min', outputsize='full')\n",
    "    data.index = data.index.tz_localize(tz = 'US/Eastern').tz_convert(tz = 'America/Sao_Paulo')\n",
    "    hoje = data[data.index> '2020-06-30']\n",
    "\n",
    "    #hoje.to_csv(\"petr4.csv\")\n",
    "    \n",
    "    with fig.batch_update():\n",
    "        fig.data[0].x = hoje.index\n",
    "        fig.data[0].y = hoje['4. close']\n",
    "    \n",
    "    time.sleep(60)"
   ]
  },
  {
   "cell_type": "code",
   "execution_count": 2,
   "metadata": {},
   "outputs": [],
   "source": [
    "    data, meta_data = ts.get_intraday('PETR4.SAO', interval='1min', outputsize='full')\n"
   ]
  },
  {
   "cell_type": "code",
   "execution_count": 3,
   "metadata": {},
   "outputs": [
    {
     "data": {
      "text/plain": [
       "{'1. Information': 'Intraday (1min) open, high, low, close prices and volume',\n",
       " '2. Symbol': 'PETR4.SAO',\n",
       " '3. Last Refreshed': '2020-06-30 12:59:36',\n",
       " '4. Interval': '1min',\n",
       " '5. Output Size': 'Full size',\n",
       " '6. Time Zone': 'US/Eastern'}"
      ]
     },
     "execution_count": 3,
     "metadata": {},
     "output_type": "execute_result"
    }
   ],
   "source": [
    "meta_data"
   ]
  },
  {
   "cell_type": "code",
   "execution_count": 4,
   "metadata": {},
   "outputs": [
    {
     "data": {
      "text/html": [
       "<div>\n",
       "<style scoped>\n",
       "    .dataframe tbody tr th:only-of-type {\n",
       "        vertical-align: middle;\n",
       "    }\n",
       "\n",
       "    .dataframe tbody tr th {\n",
       "        vertical-align: top;\n",
       "    }\n",
       "\n",
       "    .dataframe thead th {\n",
       "        text-align: right;\n",
       "    }\n",
       "</style>\n",
       "<table border=\"1\" class=\"dataframe\">\n",
       "  <thead>\n",
       "    <tr style=\"text-align: right;\">\n",
       "      <th></th>\n",
       "      <th>1. open</th>\n",
       "      <th>2. high</th>\n",
       "      <th>3. low</th>\n",
       "      <th>4. close</th>\n",
       "      <th>5. volume</th>\n",
       "    </tr>\n",
       "    <tr>\n",
       "      <th>date</th>\n",
       "      <th></th>\n",
       "      <th></th>\n",
       "      <th></th>\n",
       "      <th></th>\n",
       "      <th></th>\n",
       "    </tr>\n",
       "  </thead>\n",
       "  <tbody>\n",
       "    <tr>\n",
       "      <th>2020-06-30 12:59:36</th>\n",
       "      <td>21.60</td>\n",
       "      <td>21.60</td>\n",
       "      <td>21.60</td>\n",
       "      <td>21.60</td>\n",
       "      <td>0.0</td>\n",
       "    </tr>\n",
       "    <tr>\n",
       "      <th>2020-06-30 12:58:00</th>\n",
       "      <td>21.61</td>\n",
       "      <td>21.61</td>\n",
       "      <td>21.60</td>\n",
       "      <td>21.60</td>\n",
       "      <td>10965.0</td>\n",
       "    </tr>\n",
       "    <tr>\n",
       "      <th>2020-06-30 12:57:00</th>\n",
       "      <td>21.61</td>\n",
       "      <td>21.62</td>\n",
       "      <td>21.59</td>\n",
       "      <td>21.59</td>\n",
       "      <td>35870.0</td>\n",
       "    </tr>\n",
       "    <tr>\n",
       "      <th>2020-06-30 12:56:00</th>\n",
       "      <td>21.61</td>\n",
       "      <td>21.62</td>\n",
       "      <td>21.61</td>\n",
       "      <td>21.62</td>\n",
       "      <td>22695.0</td>\n",
       "    </tr>\n",
       "    <tr>\n",
       "      <th>2020-06-30 12:55:00</th>\n",
       "      <td>21.60</td>\n",
       "      <td>21.61</td>\n",
       "      <td>21.60</td>\n",
       "      <td>21.60</td>\n",
       "      <td>36380.0</td>\n",
       "    </tr>\n",
       "  </tbody>\n",
       "</table>\n",
       "</div>"
      ],
      "text/plain": [
       "                     1. open  2. high  3. low  4. close  5. volume\n",
       "date                                                              \n",
       "2020-06-30 12:59:36    21.60    21.60   21.60     21.60        0.0\n",
       "2020-06-30 12:58:00    21.61    21.61   21.60     21.60    10965.0\n",
       "2020-06-30 12:57:00    21.61    21.62   21.59     21.59    35870.0\n",
       "2020-06-30 12:56:00    21.61    21.62   21.61     21.62    22695.0\n",
       "2020-06-30 12:55:00    21.60    21.61   21.60     21.60    36380.0"
      ]
     },
     "execution_count": 4,
     "metadata": {},
     "output_type": "execute_result"
    }
   ],
   "source": [
    "data.head()"
   ]
  },
  {
   "cell_type": "code",
   "execution_count": 7,
   "metadata": {},
   "outputs": [
    {
     "data": {
      "text/plain": [
       "Timestamp('2020-06-30 12:59:36')"
      ]
     },
     "execution_count": 7,
     "metadata": {},
     "output_type": "execute_result"
    }
   ],
   "source": [
    "data.index[0]"
   ]
  },
  {
   "cell_type": "code",
   "execution_count": 11,
   "metadata": {},
   "outputs": [],
   "source": [
    "fig.data[0].x"
   ]
  },
  {
   "cell_type": "markdown",
   "metadata": {},
   "source": [
    "# monitoramento da variação de uma ação"
   ]
  },
  {
   "cell_type": "code",
   "execution_count": 25,
   "metadata": {},
   "outputs": [
    {
     "data": {
      "application/vnd.jupyter.widget-view+json": {
       "model_id": "1e13085dc1ff48eea03e9f4f50bc4d6b",
       "version_major": 2,
       "version_minor": 0
      },
      "text/plain": [
       "FigureWidget({\n",
       "    'data': [{'type': 'scatter', 'uid': '88ab7117-2fbc-4571-aec9-5f35872e3da9'}], 'layout': {'t…"
      ]
     },
     "metadata": {},
     "output_type": "display_data"
    }
   ],
   "source": [
    "import pandas as pd\n",
    "from alpha_vantage.timeseries import TimeSeries\n",
    "import time\n",
    "import plotly.graph_objects as go\n",
    "from pydub import AudioSegment\n",
    "from pydub.playback import play\n",
    "\n",
    "api_key = 'RNZPXZ6Q9FEFMEHM'  \n",
    "\n",
    "ts = TimeSeries(key=api_key, output_format='pandas')\n",
    "\n",
    "\n",
    "fig = go.FigureWidget()\n",
    "fig.add_scatter()\n",
    "fig"
   ]
  },
  {
   "cell_type": "code",
   "execution_count": 26,
   "metadata": {},
   "outputs": [
    {
     "ename": "KeyboardInterrupt",
     "evalue": "",
     "output_type": "error",
     "traceback": [
      "\u001b[0;31m---------------------------------------------------------------------------\u001b[0m",
      "\u001b[0;31mKeyboardInterrupt\u001b[0m                         Traceback (most recent call last)",
      "\u001b[0;32m<ipython-input-26-5304362b4b42>\u001b[0m in \u001b[0;36m<module>\u001b[0;34m\u001b[0m\n\u001b[1;32m      1\u001b[0m \u001b[0;32mwhile\u001b[0m \u001b[0;32mTrue\u001b[0m\u001b[0;34m:\u001b[0m\u001b[0;34m\u001b[0m\u001b[0;34m\u001b[0m\u001b[0m\n\u001b[0;32m----> 2\u001b[0;31m     \u001b[0mdata\u001b[0m\u001b[0;34m,\u001b[0m \u001b[0mmeta_data\u001b[0m \u001b[0;34m=\u001b[0m \u001b[0mts\u001b[0m\u001b[0;34m.\u001b[0m\u001b[0mget_intraday\u001b[0m\u001b[0;34m(\u001b[0m\u001b[0;34m'PETR4.SAO'\u001b[0m\u001b[0;34m,\u001b[0m \u001b[0minterval\u001b[0m\u001b[0;34m=\u001b[0m\u001b[0;34m'1min'\u001b[0m\u001b[0;34m,\u001b[0m \u001b[0moutputsize\u001b[0m\u001b[0;34m=\u001b[0m\u001b[0;34m'full'\u001b[0m\u001b[0;34m)\u001b[0m\u001b[0;34m\u001b[0m\u001b[0;34m\u001b[0m\u001b[0m\n\u001b[0m\u001b[1;32m      3\u001b[0m     \u001b[0mdata\u001b[0m\u001b[0;34m.\u001b[0m\u001b[0mindex\u001b[0m \u001b[0;34m=\u001b[0m \u001b[0mdata\u001b[0m\u001b[0;34m.\u001b[0m\u001b[0mindex\u001b[0m\u001b[0;34m.\u001b[0m\u001b[0mtz_localize\u001b[0m\u001b[0;34m(\u001b[0m\u001b[0mtz\u001b[0m \u001b[0;34m=\u001b[0m \u001b[0;34m'US/Eastern'\u001b[0m\u001b[0;34m)\u001b[0m\u001b[0;34m.\u001b[0m\u001b[0mtz_convert\u001b[0m\u001b[0;34m(\u001b[0m\u001b[0mtz\u001b[0m \u001b[0;34m=\u001b[0m \u001b[0;34m'America/Sao_Paulo'\u001b[0m\u001b[0;34m)\u001b[0m\u001b[0;34m\u001b[0m\u001b[0;34m\u001b[0m\u001b[0m\n\u001b[1;32m      4\u001b[0m     \u001b[0mhoje\u001b[0m \u001b[0;34m=\u001b[0m \u001b[0mdata\u001b[0m\u001b[0;34m[\u001b[0m\u001b[0mdata\u001b[0m\u001b[0;34m.\u001b[0m\u001b[0mindex\u001b[0m\u001b[0;34m>\u001b[0m \u001b[0;34m'2020-06-30'\u001b[0m\u001b[0;34m]\u001b[0m\u001b[0;34m\u001b[0m\u001b[0;34m\u001b[0m\u001b[0m\n\u001b[1;32m      5\u001b[0m \u001b[0;34m\u001b[0m\u001b[0m\n",
      "\u001b[0;32m~/miniconda3/lib/python3.7/site-packages/alpha_vantage/alphavantage.py\u001b[0m in \u001b[0;36m_format_wrapper\u001b[0;34m(self, *args, **kwargs)\u001b[0m\n\u001b[1;32m    217\u001b[0m         \u001b[0;32mdef\u001b[0m \u001b[0m_format_wrapper\u001b[0m\u001b[0;34m(\u001b[0m\u001b[0mself\u001b[0m\u001b[0;34m,\u001b[0m \u001b[0;34m*\u001b[0m\u001b[0margs\u001b[0m\u001b[0;34m,\u001b[0m \u001b[0;34m**\u001b[0m\u001b[0mkwargs\u001b[0m\u001b[0;34m)\u001b[0m\u001b[0;34m:\u001b[0m\u001b[0;34m\u001b[0m\u001b[0;34m\u001b[0m\u001b[0m\n\u001b[1;32m    218\u001b[0m             call_response, data_key, meta_data_key = func(\n\u001b[0;32m--> 219\u001b[0;31m                 self, *args, **kwargs)\n\u001b[0m\u001b[1;32m    220\u001b[0m             \u001b[0;32mif\u001b[0m \u001b[0;34m'json'\u001b[0m \u001b[0;32min\u001b[0m \u001b[0mself\u001b[0m\u001b[0;34m.\u001b[0m\u001b[0moutput_format\u001b[0m\u001b[0;34m.\u001b[0m\u001b[0mlower\u001b[0m\u001b[0;34m(\u001b[0m\u001b[0;34m)\u001b[0m \u001b[0;32mor\u001b[0m \u001b[0;34m'pandas'\u001b[0m\u001b[0;31m \u001b[0m\u001b[0;31m\\\u001b[0m\u001b[0;34m\u001b[0m\u001b[0;34m\u001b[0m\u001b[0m\n\u001b[1;32m    221\u001b[0m                     \u001b[0;32min\u001b[0m \u001b[0mself\u001b[0m\u001b[0;34m.\u001b[0m\u001b[0moutput_format\u001b[0m\u001b[0;34m.\u001b[0m\u001b[0mlower\u001b[0m\u001b[0;34m(\u001b[0m\u001b[0;34m)\u001b[0m\u001b[0;34m:\u001b[0m\u001b[0;34m\u001b[0m\u001b[0;34m\u001b[0m\u001b[0m\n",
      "\u001b[0;32m~/miniconda3/lib/python3.7/site-packages/alpha_vantage/alphavantage.py\u001b[0m in \u001b[0;36m_call_wrapper\u001b[0;34m(self, *args, **kwargs)\u001b[0m\n\u001b[1;32m    158\u001b[0m             \u001b[0;32melse\u001b[0m\u001b[0;34m:\u001b[0m\u001b[0;34m\u001b[0m\u001b[0;34m\u001b[0m\u001b[0m\n\u001b[1;32m    159\u001b[0m                 \u001b[0murl\u001b[0m \u001b[0;34m=\u001b[0m \u001b[0;34m'{}{}'\u001b[0m\u001b[0;34m.\u001b[0m\u001b[0mformat\u001b[0m\u001b[0;34m(\u001b[0m\u001b[0murl\u001b[0m\u001b[0;34m,\u001b[0m \u001b[0mapikey_parameter\u001b[0m\u001b[0;34m)\u001b[0m\u001b[0;34m\u001b[0m\u001b[0;34m\u001b[0m\u001b[0m\n\u001b[0;32m--> 160\u001b[0;31m             \u001b[0;32mreturn\u001b[0m \u001b[0mself\u001b[0m\u001b[0;34m.\u001b[0m\u001b[0m_handle_api_call\u001b[0m\u001b[0;34m(\u001b[0m\u001b[0murl\u001b[0m\u001b[0;34m)\u001b[0m\u001b[0;34m,\u001b[0m \u001b[0mdata_key\u001b[0m\u001b[0;34m,\u001b[0m \u001b[0mmeta_data_key\u001b[0m\u001b[0;34m\u001b[0m\u001b[0;34m\u001b[0m\u001b[0m\n\u001b[0m\u001b[1;32m    161\u001b[0m         \u001b[0;32mreturn\u001b[0m \u001b[0m_call_wrapper\u001b[0m\u001b[0;34m\u001b[0m\u001b[0;34m\u001b[0m\u001b[0m\n\u001b[1;32m    162\u001b[0m \u001b[0;34m\u001b[0m\u001b[0m\n",
      "\u001b[0;32m~/miniconda3/lib/python3.7/site-packages/alpha_vantage/alphavantage.py\u001b[0m in \u001b[0;36m_handle_api_call\u001b[0;34m(self, url)\u001b[0m\n\u001b[1;32m    327\u001b[0m             \u001b[0mof\u001b[0m \u001b[0mthe\u001b[0m \u001b[0mjson\u001b[0m \u001b[0mobject\u001b[0m\u001b[0;34m\u001b[0m\u001b[0;34m\u001b[0m\u001b[0m\n\u001b[1;32m    328\u001b[0m         \"\"\"\n\u001b[0;32m--> 329\u001b[0;31m         \u001b[0mresponse\u001b[0m \u001b[0;34m=\u001b[0m \u001b[0mrequests\u001b[0m\u001b[0;34m.\u001b[0m\u001b[0mget\u001b[0m\u001b[0;34m(\u001b[0m\u001b[0murl\u001b[0m\u001b[0;34m,\u001b[0m \u001b[0mproxies\u001b[0m\u001b[0;34m=\u001b[0m\u001b[0mself\u001b[0m\u001b[0;34m.\u001b[0m\u001b[0mproxy\u001b[0m\u001b[0;34m,\u001b[0m \u001b[0mheaders\u001b[0m\u001b[0;34m=\u001b[0m\u001b[0mself\u001b[0m\u001b[0;34m.\u001b[0m\u001b[0mheaders\u001b[0m\u001b[0;34m)\u001b[0m\u001b[0;34m\u001b[0m\u001b[0;34m\u001b[0m\u001b[0m\n\u001b[0m\u001b[1;32m    330\u001b[0m         \u001b[0;32mif\u001b[0m \u001b[0;34m'json'\u001b[0m \u001b[0;32min\u001b[0m \u001b[0mself\u001b[0m\u001b[0;34m.\u001b[0m\u001b[0moutput_format\u001b[0m\u001b[0;34m.\u001b[0m\u001b[0mlower\u001b[0m\u001b[0;34m(\u001b[0m\u001b[0;34m)\u001b[0m \u001b[0;32mor\u001b[0m \u001b[0;34m'pandas'\u001b[0m \u001b[0;32min\u001b[0m\u001b[0;31m \u001b[0m\u001b[0;31m\\\u001b[0m\u001b[0;34m\u001b[0m\u001b[0;34m\u001b[0m\u001b[0m\n\u001b[1;32m    331\u001b[0m                 \u001b[0mself\u001b[0m\u001b[0;34m.\u001b[0m\u001b[0moutput_format\u001b[0m\u001b[0;34m.\u001b[0m\u001b[0mlower\u001b[0m\u001b[0;34m(\u001b[0m\u001b[0;34m)\u001b[0m\u001b[0;34m:\u001b[0m\u001b[0;34m\u001b[0m\u001b[0;34m\u001b[0m\u001b[0m\n",
      "\u001b[0;32m~/miniconda3/lib/python3.7/site-packages/requests/api.py\u001b[0m in \u001b[0;36mget\u001b[0;34m(url, params, **kwargs)\u001b[0m\n\u001b[1;32m     74\u001b[0m \u001b[0;34m\u001b[0m\u001b[0m\n\u001b[1;32m     75\u001b[0m     \u001b[0mkwargs\u001b[0m\u001b[0;34m.\u001b[0m\u001b[0msetdefault\u001b[0m\u001b[0;34m(\u001b[0m\u001b[0;34m'allow_redirects'\u001b[0m\u001b[0;34m,\u001b[0m \u001b[0;32mTrue\u001b[0m\u001b[0;34m)\u001b[0m\u001b[0;34m\u001b[0m\u001b[0;34m\u001b[0m\u001b[0m\n\u001b[0;32m---> 76\u001b[0;31m     \u001b[0;32mreturn\u001b[0m \u001b[0mrequest\u001b[0m\u001b[0;34m(\u001b[0m\u001b[0;34m'get'\u001b[0m\u001b[0;34m,\u001b[0m \u001b[0murl\u001b[0m\u001b[0;34m,\u001b[0m \u001b[0mparams\u001b[0m\u001b[0;34m=\u001b[0m\u001b[0mparams\u001b[0m\u001b[0;34m,\u001b[0m \u001b[0;34m**\u001b[0m\u001b[0mkwargs\u001b[0m\u001b[0;34m)\u001b[0m\u001b[0;34m\u001b[0m\u001b[0;34m\u001b[0m\u001b[0m\n\u001b[0m\u001b[1;32m     77\u001b[0m \u001b[0;34m\u001b[0m\u001b[0m\n\u001b[1;32m     78\u001b[0m \u001b[0;34m\u001b[0m\u001b[0m\n",
      "\u001b[0;32m~/miniconda3/lib/python3.7/site-packages/requests/api.py\u001b[0m in \u001b[0;36mrequest\u001b[0;34m(method, url, **kwargs)\u001b[0m\n\u001b[1;32m     59\u001b[0m     \u001b[0;31m# cases, and look like a memory leak in others.\u001b[0m\u001b[0;34m\u001b[0m\u001b[0;34m\u001b[0m\u001b[0;34m\u001b[0m\u001b[0m\n\u001b[1;32m     60\u001b[0m     \u001b[0;32mwith\u001b[0m \u001b[0msessions\u001b[0m\u001b[0;34m.\u001b[0m\u001b[0mSession\u001b[0m\u001b[0;34m(\u001b[0m\u001b[0;34m)\u001b[0m \u001b[0;32mas\u001b[0m \u001b[0msession\u001b[0m\u001b[0;34m:\u001b[0m\u001b[0;34m\u001b[0m\u001b[0;34m\u001b[0m\u001b[0m\n\u001b[0;32m---> 61\u001b[0;31m         \u001b[0;32mreturn\u001b[0m \u001b[0msession\u001b[0m\u001b[0;34m.\u001b[0m\u001b[0mrequest\u001b[0m\u001b[0;34m(\u001b[0m\u001b[0mmethod\u001b[0m\u001b[0;34m=\u001b[0m\u001b[0mmethod\u001b[0m\u001b[0;34m,\u001b[0m \u001b[0murl\u001b[0m\u001b[0;34m=\u001b[0m\u001b[0murl\u001b[0m\u001b[0;34m,\u001b[0m \u001b[0;34m**\u001b[0m\u001b[0mkwargs\u001b[0m\u001b[0;34m)\u001b[0m\u001b[0;34m\u001b[0m\u001b[0;34m\u001b[0m\u001b[0m\n\u001b[0m\u001b[1;32m     62\u001b[0m \u001b[0;34m\u001b[0m\u001b[0m\n\u001b[1;32m     63\u001b[0m \u001b[0;34m\u001b[0m\u001b[0m\n",
      "\u001b[0;32m~/miniconda3/lib/python3.7/site-packages/requests/sessions.py\u001b[0m in \u001b[0;36mrequest\u001b[0;34m(self, method, url, params, data, headers, cookies, files, auth, timeout, allow_redirects, proxies, hooks, stream, verify, cert, json)\u001b[0m\n\u001b[1;32m    528\u001b[0m         }\n\u001b[1;32m    529\u001b[0m         \u001b[0msend_kwargs\u001b[0m\u001b[0;34m.\u001b[0m\u001b[0mupdate\u001b[0m\u001b[0;34m(\u001b[0m\u001b[0msettings\u001b[0m\u001b[0;34m)\u001b[0m\u001b[0;34m\u001b[0m\u001b[0;34m\u001b[0m\u001b[0m\n\u001b[0;32m--> 530\u001b[0;31m         \u001b[0mresp\u001b[0m \u001b[0;34m=\u001b[0m \u001b[0mself\u001b[0m\u001b[0;34m.\u001b[0m\u001b[0msend\u001b[0m\u001b[0;34m(\u001b[0m\u001b[0mprep\u001b[0m\u001b[0;34m,\u001b[0m \u001b[0;34m**\u001b[0m\u001b[0msend_kwargs\u001b[0m\u001b[0;34m)\u001b[0m\u001b[0;34m\u001b[0m\u001b[0;34m\u001b[0m\u001b[0m\n\u001b[0m\u001b[1;32m    531\u001b[0m \u001b[0;34m\u001b[0m\u001b[0m\n\u001b[1;32m    532\u001b[0m         \u001b[0;32mreturn\u001b[0m \u001b[0mresp\u001b[0m\u001b[0;34m\u001b[0m\u001b[0;34m\u001b[0m\u001b[0m\n",
      "\u001b[0;32m~/miniconda3/lib/python3.7/site-packages/requests/sessions.py\u001b[0m in \u001b[0;36msend\u001b[0;34m(self, request, **kwargs)\u001b[0m\n\u001b[1;32m    641\u001b[0m \u001b[0;34m\u001b[0m\u001b[0m\n\u001b[1;32m    642\u001b[0m         \u001b[0;31m# Send the request\u001b[0m\u001b[0;34m\u001b[0m\u001b[0;34m\u001b[0m\u001b[0;34m\u001b[0m\u001b[0m\n\u001b[0;32m--> 643\u001b[0;31m         \u001b[0mr\u001b[0m \u001b[0;34m=\u001b[0m \u001b[0madapter\u001b[0m\u001b[0;34m.\u001b[0m\u001b[0msend\u001b[0m\u001b[0;34m(\u001b[0m\u001b[0mrequest\u001b[0m\u001b[0;34m,\u001b[0m \u001b[0;34m**\u001b[0m\u001b[0mkwargs\u001b[0m\u001b[0;34m)\u001b[0m\u001b[0;34m\u001b[0m\u001b[0;34m\u001b[0m\u001b[0m\n\u001b[0m\u001b[1;32m    644\u001b[0m \u001b[0;34m\u001b[0m\u001b[0m\n\u001b[1;32m    645\u001b[0m         \u001b[0;31m# Total elapsed time of the request (approximately)\u001b[0m\u001b[0;34m\u001b[0m\u001b[0;34m\u001b[0m\u001b[0;34m\u001b[0m\u001b[0m\n",
      "\u001b[0;32m~/miniconda3/lib/python3.7/site-packages/requests/adapters.py\u001b[0m in \u001b[0;36msend\u001b[0;34m(self, request, stream, timeout, verify, cert, proxies)\u001b[0m\n\u001b[1;32m    447\u001b[0m                     \u001b[0mdecode_content\u001b[0m\u001b[0;34m=\u001b[0m\u001b[0;32mFalse\u001b[0m\u001b[0;34m,\u001b[0m\u001b[0;34m\u001b[0m\u001b[0;34m\u001b[0m\u001b[0m\n\u001b[1;32m    448\u001b[0m                     \u001b[0mretries\u001b[0m\u001b[0;34m=\u001b[0m\u001b[0mself\u001b[0m\u001b[0;34m.\u001b[0m\u001b[0mmax_retries\u001b[0m\u001b[0;34m,\u001b[0m\u001b[0;34m\u001b[0m\u001b[0;34m\u001b[0m\u001b[0m\n\u001b[0;32m--> 449\u001b[0;31m                     \u001b[0mtimeout\u001b[0m\u001b[0;34m=\u001b[0m\u001b[0mtimeout\u001b[0m\u001b[0;34m\u001b[0m\u001b[0;34m\u001b[0m\u001b[0m\n\u001b[0m\u001b[1;32m    450\u001b[0m                 )\n\u001b[1;32m    451\u001b[0m \u001b[0;34m\u001b[0m\u001b[0m\n",
      "\u001b[0;32m~/miniconda3/lib/python3.7/site-packages/urllib3/connectionpool.py\u001b[0m in \u001b[0;36murlopen\u001b[0;34m(self, method, url, body, headers, retries, redirect, assert_same_host, timeout, pool_timeout, release_conn, chunked, body_pos, **response_kw)\u001b[0m\n\u001b[1;32m    675\u001b[0m                 \u001b[0mbody\u001b[0m\u001b[0;34m=\u001b[0m\u001b[0mbody\u001b[0m\u001b[0;34m,\u001b[0m\u001b[0;34m\u001b[0m\u001b[0;34m\u001b[0m\u001b[0m\n\u001b[1;32m    676\u001b[0m                 \u001b[0mheaders\u001b[0m\u001b[0;34m=\u001b[0m\u001b[0mheaders\u001b[0m\u001b[0;34m,\u001b[0m\u001b[0;34m\u001b[0m\u001b[0;34m\u001b[0m\u001b[0m\n\u001b[0;32m--> 677\u001b[0;31m                 \u001b[0mchunked\u001b[0m\u001b[0;34m=\u001b[0m\u001b[0mchunked\u001b[0m\u001b[0;34m,\u001b[0m\u001b[0;34m\u001b[0m\u001b[0;34m\u001b[0m\u001b[0m\n\u001b[0m\u001b[1;32m    678\u001b[0m             )\n\u001b[1;32m    679\u001b[0m \u001b[0;34m\u001b[0m\u001b[0m\n",
      "\u001b[0;32m~/miniconda3/lib/python3.7/site-packages/urllib3/connectionpool.py\u001b[0m in \u001b[0;36m_make_request\u001b[0;34m(self, conn, method, url, timeout, chunked, **httplib_request_kw)\u001b[0m\n\u001b[1;32m    424\u001b[0m                     \u001b[0;31m# Python 3 (including for exceptions like SystemExit).\u001b[0m\u001b[0;34m\u001b[0m\u001b[0;34m\u001b[0m\u001b[0;34m\u001b[0m\u001b[0m\n\u001b[1;32m    425\u001b[0m                     \u001b[0;31m# Otherwise it looks like a bug in the code.\u001b[0m\u001b[0;34m\u001b[0m\u001b[0;34m\u001b[0m\u001b[0;34m\u001b[0m\u001b[0m\n\u001b[0;32m--> 426\u001b[0;31m                     \u001b[0msix\u001b[0m\u001b[0;34m.\u001b[0m\u001b[0mraise_from\u001b[0m\u001b[0;34m(\u001b[0m\u001b[0me\u001b[0m\u001b[0;34m,\u001b[0m \u001b[0;32mNone\u001b[0m\u001b[0;34m)\u001b[0m\u001b[0;34m\u001b[0m\u001b[0;34m\u001b[0m\u001b[0m\n\u001b[0m\u001b[1;32m    427\u001b[0m         \u001b[0;32mexcept\u001b[0m \u001b[0;34m(\u001b[0m\u001b[0mSocketTimeout\u001b[0m\u001b[0;34m,\u001b[0m \u001b[0mBaseSSLError\u001b[0m\u001b[0;34m,\u001b[0m \u001b[0mSocketError\u001b[0m\u001b[0;34m)\u001b[0m \u001b[0;32mas\u001b[0m \u001b[0me\u001b[0m\u001b[0;34m:\u001b[0m\u001b[0;34m\u001b[0m\u001b[0;34m\u001b[0m\u001b[0m\n\u001b[1;32m    428\u001b[0m             \u001b[0mself\u001b[0m\u001b[0;34m.\u001b[0m\u001b[0m_raise_timeout\u001b[0m\u001b[0;34m(\u001b[0m\u001b[0merr\u001b[0m\u001b[0;34m=\u001b[0m\u001b[0me\u001b[0m\u001b[0;34m,\u001b[0m \u001b[0murl\u001b[0m\u001b[0;34m=\u001b[0m\u001b[0murl\u001b[0m\u001b[0;34m,\u001b[0m \u001b[0mtimeout_value\u001b[0m\u001b[0;34m=\u001b[0m\u001b[0mread_timeout\u001b[0m\u001b[0;34m)\u001b[0m\u001b[0;34m\u001b[0m\u001b[0;34m\u001b[0m\u001b[0m\n",
      "\u001b[0;32m~/miniconda3/lib/python3.7/site-packages/urllib3/packages/six.py\u001b[0m in \u001b[0;36mraise_from\u001b[0;34m(value, from_value)\u001b[0m\n",
      "\u001b[0;32m~/miniconda3/lib/python3.7/site-packages/urllib3/connectionpool.py\u001b[0m in \u001b[0;36m_make_request\u001b[0;34m(self, conn, method, url, timeout, chunked, **httplib_request_kw)\u001b[0m\n\u001b[1;32m    419\u001b[0m                 \u001b[0;31m# Python 3\u001b[0m\u001b[0;34m\u001b[0m\u001b[0;34m\u001b[0m\u001b[0;34m\u001b[0m\u001b[0m\n\u001b[1;32m    420\u001b[0m                 \u001b[0;32mtry\u001b[0m\u001b[0;34m:\u001b[0m\u001b[0;34m\u001b[0m\u001b[0;34m\u001b[0m\u001b[0m\n\u001b[0;32m--> 421\u001b[0;31m                     \u001b[0mhttplib_response\u001b[0m \u001b[0;34m=\u001b[0m \u001b[0mconn\u001b[0m\u001b[0;34m.\u001b[0m\u001b[0mgetresponse\u001b[0m\u001b[0;34m(\u001b[0m\u001b[0;34m)\u001b[0m\u001b[0;34m\u001b[0m\u001b[0;34m\u001b[0m\u001b[0m\n\u001b[0m\u001b[1;32m    422\u001b[0m                 \u001b[0;32mexcept\u001b[0m \u001b[0mBaseException\u001b[0m \u001b[0;32mas\u001b[0m \u001b[0me\u001b[0m\u001b[0;34m:\u001b[0m\u001b[0;34m\u001b[0m\u001b[0;34m\u001b[0m\u001b[0m\n\u001b[1;32m    423\u001b[0m                     \u001b[0;31m# Remove the TypeError from the exception chain in\u001b[0m\u001b[0;34m\u001b[0m\u001b[0;34m\u001b[0m\u001b[0;34m\u001b[0m\u001b[0m\n",
      "\u001b[0;32m~/miniconda3/lib/python3.7/http/client.py\u001b[0m in \u001b[0;36mgetresponse\u001b[0;34m(self)\u001b[0m\n\u001b[1;32m   1342\u001b[0m         \u001b[0;32mtry\u001b[0m\u001b[0;34m:\u001b[0m\u001b[0;34m\u001b[0m\u001b[0;34m\u001b[0m\u001b[0m\n\u001b[1;32m   1343\u001b[0m             \u001b[0;32mtry\u001b[0m\u001b[0;34m:\u001b[0m\u001b[0;34m\u001b[0m\u001b[0;34m\u001b[0m\u001b[0m\n\u001b[0;32m-> 1344\u001b[0;31m                 \u001b[0mresponse\u001b[0m\u001b[0;34m.\u001b[0m\u001b[0mbegin\u001b[0m\u001b[0;34m(\u001b[0m\u001b[0;34m)\u001b[0m\u001b[0;34m\u001b[0m\u001b[0;34m\u001b[0m\u001b[0m\n\u001b[0m\u001b[1;32m   1345\u001b[0m             \u001b[0;32mexcept\u001b[0m \u001b[0mConnectionError\u001b[0m\u001b[0;34m:\u001b[0m\u001b[0;34m\u001b[0m\u001b[0;34m\u001b[0m\u001b[0m\n\u001b[1;32m   1346\u001b[0m                 \u001b[0mself\u001b[0m\u001b[0;34m.\u001b[0m\u001b[0mclose\u001b[0m\u001b[0;34m(\u001b[0m\u001b[0;34m)\u001b[0m\u001b[0;34m\u001b[0m\u001b[0;34m\u001b[0m\u001b[0m\n",
      "\u001b[0;32m~/miniconda3/lib/python3.7/http/client.py\u001b[0m in \u001b[0;36mbegin\u001b[0;34m(self)\u001b[0m\n\u001b[1;32m    304\u001b[0m         \u001b[0;31m# read until we get a non-100 response\u001b[0m\u001b[0;34m\u001b[0m\u001b[0;34m\u001b[0m\u001b[0;34m\u001b[0m\u001b[0m\n\u001b[1;32m    305\u001b[0m         \u001b[0;32mwhile\u001b[0m \u001b[0;32mTrue\u001b[0m\u001b[0;34m:\u001b[0m\u001b[0;34m\u001b[0m\u001b[0;34m\u001b[0m\u001b[0m\n\u001b[0;32m--> 306\u001b[0;31m             \u001b[0mversion\u001b[0m\u001b[0;34m,\u001b[0m \u001b[0mstatus\u001b[0m\u001b[0;34m,\u001b[0m \u001b[0mreason\u001b[0m \u001b[0;34m=\u001b[0m \u001b[0mself\u001b[0m\u001b[0;34m.\u001b[0m\u001b[0m_read_status\u001b[0m\u001b[0;34m(\u001b[0m\u001b[0;34m)\u001b[0m\u001b[0;34m\u001b[0m\u001b[0;34m\u001b[0m\u001b[0m\n\u001b[0m\u001b[1;32m    307\u001b[0m             \u001b[0;32mif\u001b[0m \u001b[0mstatus\u001b[0m \u001b[0;34m!=\u001b[0m \u001b[0mCONTINUE\u001b[0m\u001b[0;34m:\u001b[0m\u001b[0;34m\u001b[0m\u001b[0;34m\u001b[0m\u001b[0m\n\u001b[1;32m    308\u001b[0m                 \u001b[0;32mbreak\u001b[0m\u001b[0;34m\u001b[0m\u001b[0;34m\u001b[0m\u001b[0m\n",
      "\u001b[0;32m~/miniconda3/lib/python3.7/http/client.py\u001b[0m in \u001b[0;36m_read_status\u001b[0;34m(self)\u001b[0m\n\u001b[1;32m    265\u001b[0m \u001b[0;34m\u001b[0m\u001b[0m\n\u001b[1;32m    266\u001b[0m     \u001b[0;32mdef\u001b[0m \u001b[0m_read_status\u001b[0m\u001b[0;34m(\u001b[0m\u001b[0mself\u001b[0m\u001b[0;34m)\u001b[0m\u001b[0;34m:\u001b[0m\u001b[0;34m\u001b[0m\u001b[0;34m\u001b[0m\u001b[0m\n\u001b[0;32m--> 267\u001b[0;31m         \u001b[0mline\u001b[0m \u001b[0;34m=\u001b[0m \u001b[0mstr\u001b[0m\u001b[0;34m(\u001b[0m\u001b[0mself\u001b[0m\u001b[0;34m.\u001b[0m\u001b[0mfp\u001b[0m\u001b[0;34m.\u001b[0m\u001b[0mreadline\u001b[0m\u001b[0;34m(\u001b[0m\u001b[0m_MAXLINE\u001b[0m \u001b[0;34m+\u001b[0m \u001b[0;36m1\u001b[0m\u001b[0;34m)\u001b[0m\u001b[0;34m,\u001b[0m \u001b[0;34m\"iso-8859-1\"\u001b[0m\u001b[0;34m)\u001b[0m\u001b[0;34m\u001b[0m\u001b[0;34m\u001b[0m\u001b[0m\n\u001b[0m\u001b[1;32m    268\u001b[0m         \u001b[0;32mif\u001b[0m \u001b[0mlen\u001b[0m\u001b[0;34m(\u001b[0m\u001b[0mline\u001b[0m\u001b[0;34m)\u001b[0m \u001b[0;34m>\u001b[0m \u001b[0m_MAXLINE\u001b[0m\u001b[0;34m:\u001b[0m\u001b[0;34m\u001b[0m\u001b[0;34m\u001b[0m\u001b[0m\n\u001b[1;32m    269\u001b[0m             \u001b[0;32mraise\u001b[0m \u001b[0mLineTooLong\u001b[0m\u001b[0;34m(\u001b[0m\u001b[0;34m\"status line\"\u001b[0m\u001b[0;34m)\u001b[0m\u001b[0;34m\u001b[0m\u001b[0;34m\u001b[0m\u001b[0m\n",
      "\u001b[0;32m~/miniconda3/lib/python3.7/socket.py\u001b[0m in \u001b[0;36mreadinto\u001b[0;34m(self, b)\u001b[0m\n\u001b[1;32m    587\u001b[0m         \u001b[0;32mwhile\u001b[0m \u001b[0;32mTrue\u001b[0m\u001b[0;34m:\u001b[0m\u001b[0;34m\u001b[0m\u001b[0;34m\u001b[0m\u001b[0m\n\u001b[1;32m    588\u001b[0m             \u001b[0;32mtry\u001b[0m\u001b[0;34m:\u001b[0m\u001b[0;34m\u001b[0m\u001b[0;34m\u001b[0m\u001b[0m\n\u001b[0;32m--> 589\u001b[0;31m                 \u001b[0;32mreturn\u001b[0m \u001b[0mself\u001b[0m\u001b[0;34m.\u001b[0m\u001b[0m_sock\u001b[0m\u001b[0;34m.\u001b[0m\u001b[0mrecv_into\u001b[0m\u001b[0;34m(\u001b[0m\u001b[0mb\u001b[0m\u001b[0;34m)\u001b[0m\u001b[0;34m\u001b[0m\u001b[0;34m\u001b[0m\u001b[0m\n\u001b[0m\u001b[1;32m    590\u001b[0m             \u001b[0;32mexcept\u001b[0m \u001b[0mtimeout\u001b[0m\u001b[0;34m:\u001b[0m\u001b[0;34m\u001b[0m\u001b[0;34m\u001b[0m\u001b[0m\n\u001b[1;32m    591\u001b[0m                 \u001b[0mself\u001b[0m\u001b[0;34m.\u001b[0m\u001b[0m_timeout_occurred\u001b[0m \u001b[0;34m=\u001b[0m \u001b[0;32mTrue\u001b[0m\u001b[0;34m\u001b[0m\u001b[0;34m\u001b[0m\u001b[0m\n",
      "\u001b[0;32m~/miniconda3/lib/python3.7/ssl.py\u001b[0m in \u001b[0;36mrecv_into\u001b[0;34m(self, buffer, nbytes, flags)\u001b[0m\n\u001b[1;32m   1069\u001b[0m                   \u001b[0;34m\"non-zero flags not allowed in calls to recv_into() on %s\"\u001b[0m \u001b[0;34m%\u001b[0m\u001b[0;34m\u001b[0m\u001b[0;34m\u001b[0m\u001b[0m\n\u001b[1;32m   1070\u001b[0m                   self.__class__)\n\u001b[0;32m-> 1071\u001b[0;31m             \u001b[0;32mreturn\u001b[0m \u001b[0mself\u001b[0m\u001b[0;34m.\u001b[0m\u001b[0mread\u001b[0m\u001b[0;34m(\u001b[0m\u001b[0mnbytes\u001b[0m\u001b[0;34m,\u001b[0m \u001b[0mbuffer\u001b[0m\u001b[0;34m)\u001b[0m\u001b[0;34m\u001b[0m\u001b[0;34m\u001b[0m\u001b[0m\n\u001b[0m\u001b[1;32m   1072\u001b[0m         \u001b[0;32melse\u001b[0m\u001b[0;34m:\u001b[0m\u001b[0;34m\u001b[0m\u001b[0;34m\u001b[0m\u001b[0m\n\u001b[1;32m   1073\u001b[0m             \u001b[0;32mreturn\u001b[0m \u001b[0msuper\u001b[0m\u001b[0;34m(\u001b[0m\u001b[0;34m)\u001b[0m\u001b[0;34m.\u001b[0m\u001b[0mrecv_into\u001b[0m\u001b[0;34m(\u001b[0m\u001b[0mbuffer\u001b[0m\u001b[0;34m,\u001b[0m \u001b[0mnbytes\u001b[0m\u001b[0;34m,\u001b[0m \u001b[0mflags\u001b[0m\u001b[0;34m)\u001b[0m\u001b[0;34m\u001b[0m\u001b[0;34m\u001b[0m\u001b[0m\n",
      "\u001b[0;32m~/miniconda3/lib/python3.7/ssl.py\u001b[0m in \u001b[0;36mread\u001b[0;34m(self, len, buffer)\u001b[0m\n\u001b[1;32m    927\u001b[0m         \u001b[0;32mtry\u001b[0m\u001b[0;34m:\u001b[0m\u001b[0;34m\u001b[0m\u001b[0;34m\u001b[0m\u001b[0m\n\u001b[1;32m    928\u001b[0m             \u001b[0;32mif\u001b[0m \u001b[0mbuffer\u001b[0m \u001b[0;32mis\u001b[0m \u001b[0;32mnot\u001b[0m \u001b[0;32mNone\u001b[0m\u001b[0;34m:\u001b[0m\u001b[0;34m\u001b[0m\u001b[0;34m\u001b[0m\u001b[0m\n\u001b[0;32m--> 929\u001b[0;31m                 \u001b[0;32mreturn\u001b[0m \u001b[0mself\u001b[0m\u001b[0;34m.\u001b[0m\u001b[0m_sslobj\u001b[0m\u001b[0;34m.\u001b[0m\u001b[0mread\u001b[0m\u001b[0;34m(\u001b[0m\u001b[0mlen\u001b[0m\u001b[0;34m,\u001b[0m \u001b[0mbuffer\u001b[0m\u001b[0;34m)\u001b[0m\u001b[0;34m\u001b[0m\u001b[0;34m\u001b[0m\u001b[0m\n\u001b[0m\u001b[1;32m    930\u001b[0m             \u001b[0;32melse\u001b[0m\u001b[0;34m:\u001b[0m\u001b[0;34m\u001b[0m\u001b[0;34m\u001b[0m\u001b[0m\n\u001b[1;32m    931\u001b[0m                 \u001b[0;32mreturn\u001b[0m \u001b[0mself\u001b[0m\u001b[0;34m.\u001b[0m\u001b[0m_sslobj\u001b[0m\u001b[0;34m.\u001b[0m\u001b[0mread\u001b[0m\u001b[0;34m(\u001b[0m\u001b[0mlen\u001b[0m\u001b[0;34m)\u001b[0m\u001b[0;34m\u001b[0m\u001b[0;34m\u001b[0m\u001b[0m\n",
      "\u001b[0;31mKeyboardInterrupt\u001b[0m: "
     ]
    }
   ],
   "source": [
    "while True:\n",
    "    data, meta_data = ts.get_intraday('PETR4.SAO', interval='1min', outputsize='full')\n",
    "    data.index = data.index.tz_localize(tz = 'US/Eastern').tz_convert(tz = 'America/Sao_Paulo')\n",
    "    hoje = data[data.index> '2020-06-30']\n",
    "\n",
    "    #hoje.to_csv(\"petr4.csv\")\n",
    "    close_data = hoje['4. close']\n",
    "    percentage_change = close_data.pct_change()\n",
    "    \n",
    "    fig.add_scatter(x = hoje.index, y = percentage_change)\n",
    "    \n",
    "    \n",
    "    with fig.batch_update():\n",
    "        fig.data[0].x = hoje.index\n",
    "        fig.data[0].y = percentage_change\n",
    "        \n",
    "    last_change = percentage_change[-1]\n",
    "    \n",
    "    if abs(last_change)> 0.0004:\n",
    "        sound = AudioSegment.from_wav(\"../data/alert.wav\")\n",
    "        play(sound)\n",
    "    \n",
    "    time.sleep(60)"
   ]
  },
  {
   "cell_type": "code",
   "execution_count": 15,
   "metadata": {},
   "outputs": [],
   "source": [
    "close_data = hoje['4. close']"
   ]
  },
  {
   "cell_type": "code",
   "execution_count": 16,
   "metadata": {},
   "outputs": [
    {
     "data": {
      "text/plain": [
       "date\n",
       "2020-06-30 14:01:00-03:00    21.61\n",
       "2020-06-30 14:00:00-03:00    21.58\n",
       "2020-06-30 13:59:00-03:00    21.60\n",
       "2020-06-30 13:58:00-03:00    21.60\n",
       "2020-06-30 13:57:00-03:00    21.59\n",
       "Name: 4. close, dtype: float64"
      ]
     },
     "execution_count": 16,
     "metadata": {},
     "output_type": "execute_result"
    }
   ],
   "source": [
    "close_data.head()"
   ]
  },
  {
   "cell_type": "code",
   "execution_count": 24,
   "metadata": {},
   "outputs": [
    {
     "data": {
      "text/plain": [
       "date\n",
       "2020-06-30 14:01:00-03:00         NaN\n",
       "2020-06-30 14:00:00-03:00   -0.001388\n",
       "2020-06-30 13:59:00-03:00    0.000927\n",
       "2020-06-30 13:58:00-03:00    0.000000\n",
       "2020-06-30 13:57:00-03:00   -0.000463\n",
       "                               ...   \n",
       "2020-06-30 10:15:00-03:00    0.001410\n",
       "2020-06-30 10:14:00-03:00    0.001877\n",
       "2020-06-30 10:13:00-03:00   -0.001405\n",
       "2020-06-30 10:12:00-03:00   -0.000469\n",
       "2020-06-30 10:11:00-03:00    0.000469\n",
       "Name: 4. close, Length: 229, dtype: float64"
      ]
     },
     "execution_count": 24,
     "metadata": {},
     "output_type": "execute_result"
    }
   ],
   "source": [
    "close_data.pct_change()"
   ]
  },
  {
   "cell_type": "code",
   "execution_count": 22,
   "metadata": {},
   "outputs": [
    {
     "data": {
      "text/plain": [
       "21.32"
      ]
     },
     "execution_count": 22,
     "metadata": {},
     "output_type": "execute_result"
    }
   ],
   "source": [
    "close_data[-1]"
   ]
  },
  {
   "cell_type": "code",
   "execution_count": 23,
   "metadata": {},
   "outputs": [
    {
     "data": {
      "text/plain": [
       "Timestamp('2020-06-30 10:11:00-0300', tz='America/Sao_Paulo')"
      ]
     },
     "execution_count": 23,
     "metadata": {},
     "output_type": "execute_result"
    }
   ],
   "source": [
    "close_data.index[-1]"
   ]
  },
  {
   "cell_type": "code",
   "execution_count": 27,
   "metadata": {},
   "outputs": [
    {
     "data": {
      "text/html": [
       "<div>\n",
       "<style scoped>\n",
       "    .dataframe tbody tr th:only-of-type {\n",
       "        vertical-align: middle;\n",
       "    }\n",
       "\n",
       "    .dataframe tbody tr th {\n",
       "        vertical-align: top;\n",
       "    }\n",
       "\n",
       "    .dataframe thead th {\n",
       "        text-align: right;\n",
       "    }\n",
       "</style>\n",
       "<table border=\"1\" class=\"dataframe\">\n",
       "  <thead>\n",
       "    <tr style=\"text-align: right;\">\n",
       "      <th></th>\n",
       "      <th>1. open</th>\n",
       "      <th>2. high</th>\n",
       "      <th>3. low</th>\n",
       "      <th>4. close</th>\n",
       "      <th>5. volume</th>\n",
       "    </tr>\n",
       "    <tr>\n",
       "      <th>date</th>\n",
       "      <th></th>\n",
       "      <th></th>\n",
       "      <th></th>\n",
       "      <th></th>\n",
       "      <th></th>\n",
       "    </tr>\n",
       "  </thead>\n",
       "  <tbody>\n",
       "    <tr>\n",
       "      <th>2020-06-30 14:01:00-03:00</th>\n",
       "      <td>NaN</td>\n",
       "      <td>NaN</td>\n",
       "      <td>NaN</td>\n",
       "      <td>NaN</td>\n",
       "      <td>NaN</td>\n",
       "    </tr>\n",
       "    <tr>\n",
       "      <th>2020-06-30 14:00:00-03:00</th>\n",
       "      <td>0.001390</td>\n",
       "      <td>0.000000</td>\n",
       "      <td>0.000000</td>\n",
       "      <td>-0.001388</td>\n",
       "      <td>0.237991</td>\n",
       "    </tr>\n",
       "    <tr>\n",
       "      <th>2020-06-30 13:59:00-03:00</th>\n",
       "      <td>0.000000</td>\n",
       "      <td>0.000000</td>\n",
       "      <td>0.000000</td>\n",
       "      <td>0.000927</td>\n",
       "      <td>0.000000</td>\n",
       "    </tr>\n",
       "    <tr>\n",
       "      <th>2020-06-30 13:58:00-03:00</th>\n",
       "      <td>0.000000</td>\n",
       "      <td>0.000000</td>\n",
       "      <td>0.000927</td>\n",
       "      <td>0.000000</td>\n",
       "      <td>-0.772487</td>\n",
       "    </tr>\n",
       "    <tr>\n",
       "      <th>2020-06-30 13:57:00-03:00</th>\n",
       "      <td>0.000000</td>\n",
       "      <td>0.000463</td>\n",
       "      <td>-0.000463</td>\n",
       "      <td>-0.000463</td>\n",
       "      <td>2.271318</td>\n",
       "    </tr>\n",
       "    <tr>\n",
       "      <th>...</th>\n",
       "      <td>...</td>\n",
       "      <td>...</td>\n",
       "      <td>...</td>\n",
       "      <td>...</td>\n",
       "      <td>...</td>\n",
       "    </tr>\n",
       "    <tr>\n",
       "      <th>2020-06-30 10:15:00-03:00</th>\n",
       "      <td>0.001407</td>\n",
       "      <td>0.002812</td>\n",
       "      <td>0.000940</td>\n",
       "      <td>0.001410</td>\n",
       "      <td>0.113482</td>\n",
       "    </tr>\n",
       "    <tr>\n",
       "      <th>2020-06-30 10:14:00-03:00</th>\n",
       "      <td>-0.001405</td>\n",
       "      <td>-0.001869</td>\n",
       "      <td>0.001409</td>\n",
       "      <td>0.001877</td>\n",
       "      <td>-0.256533</td>\n",
       "    </tr>\n",
       "    <tr>\n",
       "      <th>2020-06-30 10:13:00-03:00</th>\n",
       "      <td>-0.000469</td>\n",
       "      <td>-0.001873</td>\n",
       "      <td>-0.002345</td>\n",
       "      <td>-0.001405</td>\n",
       "      <td>0.111892</td>\n",
       "    </tr>\n",
       "    <tr>\n",
       "      <th>2020-06-30 10:12:00-03:00</th>\n",
       "      <td>0.000000</td>\n",
       "      <td>0.001407</td>\n",
       "      <td>0.000940</td>\n",
       "      <td>-0.000469</td>\n",
       "      <td>-0.366175</td>\n",
       "    </tr>\n",
       "    <tr>\n",
       "      <th>2020-06-30 10:11:00-03:00</th>\n",
       "      <td>0.001408</td>\n",
       "      <td>0.000937</td>\n",
       "      <td>-0.004227</td>\n",
       "      <td>0.000469</td>\n",
       "      <td>-1.000000</td>\n",
       "    </tr>\n",
       "  </tbody>\n",
       "</table>\n",
       "<p>229 rows × 5 columns</p>\n",
       "</div>"
      ],
      "text/plain": [
       "                            1. open   2. high    3. low  4. close  5. volume\n",
       "date                                                                        \n",
       "2020-06-30 14:01:00-03:00       NaN       NaN       NaN       NaN        NaN\n",
       "2020-06-30 14:00:00-03:00  0.001390  0.000000  0.000000 -0.001388   0.237991\n",
       "2020-06-30 13:59:00-03:00  0.000000  0.000000  0.000000  0.000927   0.000000\n",
       "2020-06-30 13:58:00-03:00  0.000000  0.000000  0.000927  0.000000  -0.772487\n",
       "2020-06-30 13:57:00-03:00  0.000000  0.000463 -0.000463 -0.000463   2.271318\n",
       "...                             ...       ...       ...       ...        ...\n",
       "2020-06-30 10:15:00-03:00  0.001407  0.002812  0.000940  0.001410   0.113482\n",
       "2020-06-30 10:14:00-03:00 -0.001405 -0.001869  0.001409  0.001877  -0.256533\n",
       "2020-06-30 10:13:00-03:00 -0.000469 -0.001873 -0.002345 -0.001405   0.111892\n",
       "2020-06-30 10:12:00-03:00  0.000000  0.001407  0.000940 -0.000469  -0.366175\n",
       "2020-06-30 10:11:00-03:00  0.001408  0.000937 -0.004227  0.000469  -1.000000\n",
       "\n",
       "[229 rows x 5 columns]"
      ]
     },
     "execution_count": 27,
     "metadata": {},
     "output_type": "execute_result"
    }
   ],
   "source": [
    "hoje.pct_change()"
   ]
  },
  {
   "cell_type": "markdown",
   "metadata": {},
   "source": [
    "# Monitorar a media da variação"
   ]
  },
  {
   "cell_type": "code",
   "execution_count": 29,
   "metadata": {},
   "outputs": [
    {
     "data": {
      "text/plain": [
       "date\n",
       "2020-06-30 14:01:00-03:00    21.61\n",
       "2020-06-30 14:00:00-03:00    21.58\n",
       "2020-06-30 13:59:00-03:00    21.60\n",
       "2020-06-30 13:58:00-03:00    21.60\n",
       "2020-06-30 13:57:00-03:00    21.59\n",
       "2020-06-30 13:56:00-03:00    21.62\n",
       "2020-06-30 13:55:00-03:00    21.60\n",
       "2020-06-30 13:54:00-03:00    21.59\n",
       "2020-06-30 13:53:00-03:00    21.59\n",
       "2020-06-30 13:52:00-03:00    21.62\n",
       "2020-06-30 13:51:00-03:00    21.60\n",
       "2020-06-30 13:50:00-03:00    21.60\n",
       "2020-06-30 13:49:00-03:00    21.60\n",
       "2020-06-30 13:48:00-03:00    21.61\n",
       "2020-06-30 13:47:00-03:00    21.60\n",
       "2020-06-30 13:46:00-03:00    21.62\n",
       "2020-06-30 13:45:00-03:00    21.61\n",
       "2020-06-30 13:44:00-03:00    21.62\n",
       "2020-06-30 13:43:00-03:00    21.65\n",
       "2020-06-30 13:42:00-03:00    21.61\n",
       "Name: 4. close, dtype: float64"
      ]
     },
     "execution_count": 29,
     "metadata": {},
     "output_type": "execute_result"
    }
   ],
   "source": [
    "close_data.head(20)"
   ]
  },
  {
   "cell_type": "code",
   "execution_count": 33,
   "metadata": {},
   "outputs": [
    {
     "data": {
      "text/plain": [
       "date\n",
       "2020-06-30 10:31:00-03:00    21.200667\n",
       "2020-06-30 10:30:00-03:00    21.207333\n",
       "2020-06-30 10:29:00-03:00    21.220000\n",
       "2020-06-30 10:28:00-03:00    21.235333\n",
       "2020-06-30 10:27:00-03:00    21.249333\n",
       "2020-06-30 10:26:00-03:00    21.260667\n",
       "2020-06-30 10:24:00-03:00    21.272667\n",
       "2020-06-30 10:23:00-03:00    21.279333\n",
       "2020-06-30 10:22:00-03:00    21.286667\n",
       "2020-06-30 10:21:00-03:00    21.290000\n",
       "2020-06-30 10:20:00-03:00    21.289333\n",
       "2020-06-30 10:19:00-03:00    21.290667\n",
       "2020-06-30 10:18:00-03:00    21.293333\n",
       "2020-06-30 10:17:00-03:00    21.292667\n",
       "2020-06-30 10:16:00-03:00    21.292667\n",
       "2020-06-30 10:15:00-03:00    21.296000\n",
       "2020-06-30 10:14:00-03:00    21.300667\n",
       "2020-06-30 10:13:00-03:00    21.300000\n",
       "2020-06-30 10:12:00-03:00    21.298000\n",
       "2020-06-30 10:11:00-03:00    21.296667\n",
       "Name: 4. close, dtype: float64"
      ]
     },
     "execution_count": 33,
     "metadata": {},
     "output_type": "execute_result"
    }
   ],
   "source": [
    "close_data.rolling(window=15).mean().tail(20)"
   ]
  },
  {
   "cell_type": "code",
   "execution_count": 35,
   "metadata": {},
   "outputs": [
    {
     "data": {
      "application/vnd.plotly.v1+json": {
       "config": {
        "plotlyServerURL": "https://plot.ly"
       },
       "data": [
        {
         "type": "scatter",
         "x": [
          "2020-06-30T14:01:00-03:00",
          "2020-06-30T14:00:00-03:00",
          "2020-06-30T13:59:00-03:00",
          "2020-06-30T13:58:00-03:00",
          "2020-06-30T13:57:00-03:00",
          "2020-06-30T13:56:00-03:00",
          "2020-06-30T13:55:00-03:00",
          "2020-06-30T13:54:00-03:00",
          "2020-06-30T13:53:00-03:00",
          "2020-06-30T13:52:00-03:00",
          "2020-06-30T13:51:00-03:00",
          "2020-06-30T13:50:00-03:00",
          "2020-06-30T13:49:00-03:00",
          "2020-06-30T13:48:00-03:00",
          "2020-06-30T13:47:00-03:00",
          "2020-06-30T13:46:00-03:00",
          "2020-06-30T13:45:00-03:00",
          "2020-06-30T13:44:00-03:00",
          "2020-06-30T13:43:00-03:00",
          "2020-06-30T13:42:00-03:00",
          "2020-06-30T13:41:00-03:00",
          "2020-06-30T13:40:00-03:00",
          "2020-06-30T13:39:00-03:00",
          "2020-06-30T13:38:00-03:00",
          "2020-06-30T13:37:00-03:00",
          "2020-06-30T13:36:00-03:00",
          "2020-06-30T13:35:00-03:00",
          "2020-06-30T13:34:00-03:00",
          "2020-06-30T13:33:00-03:00",
          "2020-06-30T13:32:00-03:00",
          "2020-06-30T13:31:00-03:00",
          "2020-06-30T13:30:00-03:00",
          "2020-06-30T13:29:00-03:00",
          "2020-06-30T13:28:00-03:00",
          "2020-06-30T13:27:00-03:00",
          "2020-06-30T13:26:00-03:00",
          "2020-06-30T13:25:00-03:00",
          "2020-06-30T13:24:00-03:00",
          "2020-06-30T13:23:00-03:00",
          "2020-06-30T13:22:00-03:00",
          "2020-06-30T13:21:00-03:00",
          "2020-06-30T13:20:00-03:00",
          "2020-06-30T13:19:00-03:00",
          "2020-06-30T13:18:00-03:00",
          "2020-06-30T13:17:00-03:00",
          "2020-06-30T13:16:00-03:00",
          "2020-06-30T13:15:00-03:00",
          "2020-06-30T13:14:00-03:00",
          "2020-06-30T13:13:00-03:00",
          "2020-06-30T13:12:00-03:00",
          "2020-06-30T13:11:00-03:00",
          "2020-06-30T13:10:00-03:00",
          "2020-06-30T13:09:00-03:00",
          "2020-06-30T13:08:00-03:00",
          "2020-06-30T13:07:00-03:00",
          "2020-06-30T13:06:00-03:00",
          "2020-06-30T13:05:00-03:00",
          "2020-06-30T13:04:00-03:00",
          "2020-06-30T13:03:00-03:00",
          "2020-06-30T13:02:00-03:00",
          "2020-06-30T13:01:00-03:00",
          "2020-06-30T13:00:00-03:00",
          "2020-06-30T12:59:00-03:00",
          "2020-06-30T12:58:00-03:00",
          "2020-06-30T12:57:00-03:00",
          "2020-06-30T12:56:00-03:00",
          "2020-06-30T12:55:00-03:00",
          "2020-06-30T12:54:00-03:00",
          "2020-06-30T12:53:00-03:00",
          "2020-06-30T12:52:00-03:00",
          "2020-06-30T12:51:00-03:00",
          "2020-06-30T12:50:00-03:00",
          "2020-06-30T12:49:00-03:00",
          "2020-06-30T12:48:00-03:00",
          "2020-06-30T12:47:00-03:00",
          "2020-06-30T12:46:00-03:00",
          "2020-06-30T12:45:00-03:00",
          "2020-06-30T12:44:00-03:00",
          "2020-06-30T12:43:00-03:00",
          "2020-06-30T12:42:00-03:00",
          "2020-06-30T12:41:00-03:00",
          "2020-06-30T12:40:00-03:00",
          "2020-06-30T12:39:00-03:00",
          "2020-06-30T12:38:00-03:00",
          "2020-06-30T12:37:00-03:00",
          "2020-06-30T12:36:00-03:00",
          "2020-06-30T12:35:00-03:00",
          "2020-06-30T12:34:00-03:00",
          "2020-06-30T12:33:00-03:00",
          "2020-06-30T12:32:00-03:00",
          "2020-06-30T12:31:00-03:00",
          "2020-06-30T12:30:00-03:00",
          "2020-06-30T12:29:00-03:00",
          "2020-06-30T12:28:00-03:00",
          "2020-06-30T12:27:00-03:00",
          "2020-06-30T12:26:00-03:00",
          "2020-06-30T12:25:00-03:00",
          "2020-06-30T12:24:00-03:00",
          "2020-06-30T12:23:00-03:00",
          "2020-06-30T12:22:00-03:00",
          "2020-06-30T12:21:00-03:00",
          "2020-06-30T12:20:00-03:00",
          "2020-06-30T12:19:00-03:00",
          "2020-06-30T12:18:00-03:00",
          "2020-06-30T12:17:00-03:00",
          "2020-06-30T12:16:00-03:00",
          "2020-06-30T12:15:00-03:00",
          "2020-06-30T12:14:00-03:00",
          "2020-06-30T12:13:00-03:00",
          "2020-06-30T12:12:00-03:00",
          "2020-06-30T12:11:00-03:00",
          "2020-06-30T12:10:00-03:00",
          "2020-06-30T12:09:00-03:00",
          "2020-06-30T12:08:00-03:00",
          "2020-06-30T12:07:00-03:00",
          "2020-06-30T12:06:00-03:00",
          "2020-06-30T12:05:00-03:00",
          "2020-06-30T12:04:00-03:00",
          "2020-06-30T12:03:00-03:00",
          "2020-06-30T12:02:00-03:00",
          "2020-06-30T12:01:00-03:00",
          "2020-06-30T12:00:00-03:00",
          "2020-06-30T11:59:00-03:00",
          "2020-06-30T11:58:00-03:00",
          "2020-06-30T11:57:00-03:00",
          "2020-06-30T11:56:00-03:00",
          "2020-06-30T11:55:00-03:00",
          "2020-06-30T11:54:00-03:00",
          "2020-06-30T11:53:00-03:00",
          "2020-06-30T11:52:00-03:00",
          "2020-06-30T11:51:00-03:00",
          "2020-06-30T11:50:00-03:00",
          "2020-06-30T11:48:00-03:00",
          "2020-06-30T11:47:00-03:00",
          "2020-06-30T11:46:00-03:00",
          "2020-06-30T11:45:00-03:00",
          "2020-06-30T11:44:00-03:00",
          "2020-06-30T11:43:00-03:00",
          "2020-06-30T11:42:00-03:00",
          "2020-06-30T11:41:00-03:00",
          "2020-06-30T11:40:00-03:00",
          "2020-06-30T11:39:00-03:00",
          "2020-06-30T11:38:00-03:00",
          "2020-06-30T11:37:00-03:00",
          "2020-06-30T11:36:00-03:00",
          "2020-06-30T11:35:00-03:00",
          "2020-06-30T11:34:00-03:00",
          "2020-06-30T11:33:00-03:00",
          "2020-06-30T11:32:00-03:00",
          "2020-06-30T11:31:00-03:00",
          "2020-06-30T11:30:00-03:00",
          "2020-06-30T11:29:00-03:00",
          "2020-06-30T11:28:00-03:00",
          "2020-06-30T11:27:00-03:00",
          "2020-06-30T11:26:00-03:00",
          "2020-06-30T11:25:00-03:00",
          "2020-06-30T11:24:00-03:00",
          "2020-06-30T11:23:00-03:00",
          "2020-06-30T11:22:00-03:00",
          "2020-06-30T11:21:00-03:00",
          "2020-06-30T11:20:00-03:00",
          "2020-06-30T11:19:00-03:00",
          "2020-06-30T11:18:00-03:00",
          "2020-06-30T11:17:00-03:00",
          "2020-06-30T11:16:00-03:00",
          "2020-06-30T11:15:00-03:00",
          "2020-06-30T11:14:00-03:00",
          "2020-06-30T11:13:00-03:00",
          "2020-06-30T11:12:00-03:00",
          "2020-06-30T11:11:00-03:00",
          "2020-06-30T11:10:00-03:00",
          "2020-06-30T11:09:00-03:00",
          "2020-06-30T11:08:00-03:00",
          "2020-06-30T11:07:00-03:00",
          "2020-06-30T11:06:00-03:00",
          "2020-06-30T11:05:00-03:00",
          "2020-06-30T11:04:00-03:00",
          "2020-06-30T11:03:00-03:00",
          "2020-06-30T11:02:00-03:00",
          "2020-06-30T11:01:00-03:00",
          "2020-06-30T11:00:00-03:00",
          "2020-06-30T10:59:00-03:00",
          "2020-06-30T10:58:00-03:00",
          "2020-06-30T10:57:00-03:00",
          "2020-06-30T10:56:00-03:00",
          "2020-06-30T10:55:00-03:00",
          "2020-06-30T10:54:00-03:00",
          "2020-06-30T10:53:00-03:00",
          "2020-06-30T10:52:00-03:00",
          "2020-06-30T10:51:00-03:00",
          "2020-06-30T10:50:00-03:00",
          "2020-06-30T10:49:00-03:00",
          "2020-06-30T10:48:00-03:00",
          "2020-06-30T10:47:00-03:00",
          "2020-06-30T10:46:00-03:00",
          "2020-06-30T10:45:00-03:00",
          "2020-06-30T10:44:00-03:00",
          "2020-06-30T10:43:00-03:00",
          "2020-06-30T10:42:00-03:00",
          "2020-06-30T10:41:00-03:00",
          "2020-06-30T10:40:00-03:00",
          "2020-06-30T10:39:00-03:00",
          "2020-06-30T10:38:00-03:00",
          "2020-06-30T10:37:00-03:00",
          "2020-06-30T10:36:00-03:00",
          "2020-06-30T10:35:00-03:00",
          "2020-06-30T10:34:00-03:00",
          "2020-06-30T10:33:00-03:00",
          "2020-06-30T10:32:00-03:00",
          "2020-06-30T10:31:00-03:00",
          "2020-06-30T10:30:00-03:00",
          "2020-06-30T10:29:00-03:00",
          "2020-06-30T10:28:00-03:00",
          "2020-06-30T10:27:00-03:00",
          "2020-06-30T10:26:00-03:00",
          "2020-06-30T10:24:00-03:00",
          "2020-06-30T10:23:00-03:00",
          "2020-06-30T10:22:00-03:00",
          "2020-06-30T10:21:00-03:00",
          "2020-06-30T10:20:00-03:00",
          "2020-06-30T10:19:00-03:00",
          "2020-06-30T10:18:00-03:00",
          "2020-06-30T10:17:00-03:00",
          "2020-06-30T10:16:00-03:00",
          "2020-06-30T10:15:00-03:00",
          "2020-06-30T10:14:00-03:00",
          "2020-06-30T10:13:00-03:00",
          "2020-06-30T10:12:00-03:00",
          "2020-06-30T10:11:00-03:00"
         ],
         "y": [
          21.61,
          21.58,
          21.6,
          21.6,
          21.59,
          21.62,
          21.6,
          21.59,
          21.59,
          21.62,
          21.6,
          21.6,
          21.6,
          21.61,
          21.6,
          21.62,
          21.61,
          21.62,
          21.65,
          21.61,
          21.62,
          21.64,
          21.64,
          21.66,
          21.64,
          21.64,
          21.64,
          21.62,
          21.63,
          21.64,
          21.61,
          21.6,
          21.61,
          21.57,
          21.57,
          21.57,
          21.57,
          21.59,
          21.6,
          21.59,
          21.62,
          21.61,
          21.63,
          21.63,
          21.64,
          21.65,
          21.65,
          21.63,
          21.63,
          21.63,
          21.64,
          21.64,
          21.61,
          21.6,
          21.58,
          21.58,
          21.54,
          21.54,
          21.52,
          21.51,
          21.5,
          21.51,
          21.51,
          21.53,
          21.54,
          21.53,
          21.54,
          21.53,
          21.52,
          21.52,
          21.52,
          21.53,
          21.53,
          21.54,
          21.55,
          21.54,
          21.54,
          21.52,
          21.52,
          21.52,
          21.51,
          21.51,
          21.51,
          21.53,
          21.51,
          21.5,
          21.52,
          21.49,
          21.51,
          21.51,
          21.49,
          21.5,
          21.5,
          21.52,
          21.53,
          21.5,
          21.53,
          21.51,
          21.48,
          21.48,
          21.54,
          21.54,
          21.55,
          21.54,
          21.54,
          21.54,
          21.53,
          21.58,
          21.57,
          21.58,
          21.57,
          21.61,
          21.65,
          21.63,
          21.64,
          21.65,
          21.68,
          21.66,
          21.66,
          21.65,
          21.65,
          21.63,
          21.65,
          21.65,
          21.67,
          21.63,
          21.67,
          21.66,
          21.68,
          21.63,
          21.6,
          21.6,
          21.52,
          21.53,
          21.52,
          21.5,
          21.46,
          21.49,
          21.46,
          21.48,
          21.45,
          21.43,
          21.43,
          21.4,
          21.41,
          21.42,
          21.41,
          21.39,
          21.37,
          21.38,
          21.36,
          21.38,
          21.34,
          21.34,
          21.37,
          21.38,
          21.35,
          21.29,
          21.28,
          21.32,
          21.28,
          21.27,
          21.25,
          21.25,
          21.24,
          21.27,
          21.26,
          21.24,
          21.24,
          21.23,
          21.25,
          21.29,
          21.29,
          21.31,
          21.26,
          21.26,
          21.24,
          21.24,
          21.25,
          21.25,
          21.24,
          21.22,
          21.21,
          21.2,
          21.19,
          21.2,
          21.2,
          21.15,
          21.15,
          21.13,
          21.12,
          21.12,
          21.12,
          21.16,
          21.15,
          21.18,
          21.14,
          21.11,
          21.13,
          21.15,
          21.13,
          21.18,
          21.17,
          21.22,
          21.28,
          21.25,
          21.25,
          21.28,
          21.28,
          21.26,
          21.28,
          21.33,
          21.34,
          21.34,
          21.32,
          21.31,
          21.28,
          21.28,
          21.27,
          21.27,
          21.27,
          21.29,
          21.27,
          21.28,
          21.31,
          21.35,
          21.32,
          21.31,
          21.32
         ]
        },
        {
         "type": "scatter",
         "x": [
          "2020-06-30T14:01:00-03:00",
          "2020-06-30T14:00:00-03:00",
          "2020-06-30T13:59:00-03:00",
          "2020-06-30T13:58:00-03:00",
          "2020-06-30T13:57:00-03:00",
          "2020-06-30T13:56:00-03:00",
          "2020-06-30T13:55:00-03:00",
          "2020-06-30T13:54:00-03:00",
          "2020-06-30T13:53:00-03:00",
          "2020-06-30T13:52:00-03:00",
          "2020-06-30T13:51:00-03:00",
          "2020-06-30T13:50:00-03:00",
          "2020-06-30T13:49:00-03:00",
          "2020-06-30T13:48:00-03:00",
          "2020-06-30T13:47:00-03:00",
          "2020-06-30T13:46:00-03:00",
          "2020-06-30T13:45:00-03:00",
          "2020-06-30T13:44:00-03:00",
          "2020-06-30T13:43:00-03:00",
          "2020-06-30T13:42:00-03:00",
          "2020-06-30T13:41:00-03:00",
          "2020-06-30T13:40:00-03:00",
          "2020-06-30T13:39:00-03:00",
          "2020-06-30T13:38:00-03:00",
          "2020-06-30T13:37:00-03:00",
          "2020-06-30T13:36:00-03:00",
          "2020-06-30T13:35:00-03:00",
          "2020-06-30T13:34:00-03:00",
          "2020-06-30T13:33:00-03:00",
          "2020-06-30T13:32:00-03:00",
          "2020-06-30T13:31:00-03:00",
          "2020-06-30T13:30:00-03:00",
          "2020-06-30T13:29:00-03:00",
          "2020-06-30T13:28:00-03:00",
          "2020-06-30T13:27:00-03:00",
          "2020-06-30T13:26:00-03:00",
          "2020-06-30T13:25:00-03:00",
          "2020-06-30T13:24:00-03:00",
          "2020-06-30T13:23:00-03:00",
          "2020-06-30T13:22:00-03:00",
          "2020-06-30T13:21:00-03:00",
          "2020-06-30T13:20:00-03:00",
          "2020-06-30T13:19:00-03:00",
          "2020-06-30T13:18:00-03:00",
          "2020-06-30T13:17:00-03:00",
          "2020-06-30T13:16:00-03:00",
          "2020-06-30T13:15:00-03:00",
          "2020-06-30T13:14:00-03:00",
          "2020-06-30T13:13:00-03:00",
          "2020-06-30T13:12:00-03:00",
          "2020-06-30T13:11:00-03:00",
          "2020-06-30T13:10:00-03:00",
          "2020-06-30T13:09:00-03:00",
          "2020-06-30T13:08:00-03:00",
          "2020-06-30T13:07:00-03:00",
          "2020-06-30T13:06:00-03:00",
          "2020-06-30T13:05:00-03:00",
          "2020-06-30T13:04:00-03:00",
          "2020-06-30T13:03:00-03:00",
          "2020-06-30T13:02:00-03:00",
          "2020-06-30T13:01:00-03:00",
          "2020-06-30T13:00:00-03:00",
          "2020-06-30T12:59:00-03:00",
          "2020-06-30T12:58:00-03:00",
          "2020-06-30T12:57:00-03:00",
          "2020-06-30T12:56:00-03:00",
          "2020-06-30T12:55:00-03:00",
          "2020-06-30T12:54:00-03:00",
          "2020-06-30T12:53:00-03:00",
          "2020-06-30T12:52:00-03:00",
          "2020-06-30T12:51:00-03:00",
          "2020-06-30T12:50:00-03:00",
          "2020-06-30T12:49:00-03:00",
          "2020-06-30T12:48:00-03:00",
          "2020-06-30T12:47:00-03:00",
          "2020-06-30T12:46:00-03:00",
          "2020-06-30T12:45:00-03:00",
          "2020-06-30T12:44:00-03:00",
          "2020-06-30T12:43:00-03:00",
          "2020-06-30T12:42:00-03:00",
          "2020-06-30T12:41:00-03:00",
          "2020-06-30T12:40:00-03:00",
          "2020-06-30T12:39:00-03:00",
          "2020-06-30T12:38:00-03:00",
          "2020-06-30T12:37:00-03:00",
          "2020-06-30T12:36:00-03:00",
          "2020-06-30T12:35:00-03:00",
          "2020-06-30T12:34:00-03:00",
          "2020-06-30T12:33:00-03:00",
          "2020-06-30T12:32:00-03:00",
          "2020-06-30T12:31:00-03:00",
          "2020-06-30T12:30:00-03:00",
          "2020-06-30T12:29:00-03:00",
          "2020-06-30T12:28:00-03:00",
          "2020-06-30T12:27:00-03:00",
          "2020-06-30T12:26:00-03:00",
          "2020-06-30T12:25:00-03:00",
          "2020-06-30T12:24:00-03:00",
          "2020-06-30T12:23:00-03:00",
          "2020-06-30T12:22:00-03:00",
          "2020-06-30T12:21:00-03:00",
          "2020-06-30T12:20:00-03:00",
          "2020-06-30T12:19:00-03:00",
          "2020-06-30T12:18:00-03:00",
          "2020-06-30T12:17:00-03:00",
          "2020-06-30T12:16:00-03:00",
          "2020-06-30T12:15:00-03:00",
          "2020-06-30T12:14:00-03:00",
          "2020-06-30T12:13:00-03:00",
          "2020-06-30T12:12:00-03:00",
          "2020-06-30T12:11:00-03:00",
          "2020-06-30T12:10:00-03:00",
          "2020-06-30T12:09:00-03:00",
          "2020-06-30T12:08:00-03:00",
          "2020-06-30T12:07:00-03:00",
          "2020-06-30T12:06:00-03:00",
          "2020-06-30T12:05:00-03:00",
          "2020-06-30T12:04:00-03:00",
          "2020-06-30T12:03:00-03:00",
          "2020-06-30T12:02:00-03:00",
          "2020-06-30T12:01:00-03:00",
          "2020-06-30T12:00:00-03:00",
          "2020-06-30T11:59:00-03:00",
          "2020-06-30T11:58:00-03:00",
          "2020-06-30T11:57:00-03:00",
          "2020-06-30T11:56:00-03:00",
          "2020-06-30T11:55:00-03:00",
          "2020-06-30T11:54:00-03:00",
          "2020-06-30T11:53:00-03:00",
          "2020-06-30T11:52:00-03:00",
          "2020-06-30T11:51:00-03:00",
          "2020-06-30T11:50:00-03:00",
          "2020-06-30T11:48:00-03:00",
          "2020-06-30T11:47:00-03:00",
          "2020-06-30T11:46:00-03:00",
          "2020-06-30T11:45:00-03:00",
          "2020-06-30T11:44:00-03:00",
          "2020-06-30T11:43:00-03:00",
          "2020-06-30T11:42:00-03:00",
          "2020-06-30T11:41:00-03:00",
          "2020-06-30T11:40:00-03:00",
          "2020-06-30T11:39:00-03:00",
          "2020-06-30T11:38:00-03:00",
          "2020-06-30T11:37:00-03:00",
          "2020-06-30T11:36:00-03:00",
          "2020-06-30T11:35:00-03:00",
          "2020-06-30T11:34:00-03:00",
          "2020-06-30T11:33:00-03:00",
          "2020-06-30T11:32:00-03:00",
          "2020-06-30T11:31:00-03:00",
          "2020-06-30T11:30:00-03:00",
          "2020-06-30T11:29:00-03:00",
          "2020-06-30T11:28:00-03:00",
          "2020-06-30T11:27:00-03:00",
          "2020-06-30T11:26:00-03:00",
          "2020-06-30T11:25:00-03:00",
          "2020-06-30T11:24:00-03:00",
          "2020-06-30T11:23:00-03:00",
          "2020-06-30T11:22:00-03:00",
          "2020-06-30T11:21:00-03:00",
          "2020-06-30T11:20:00-03:00",
          "2020-06-30T11:19:00-03:00",
          "2020-06-30T11:18:00-03:00",
          "2020-06-30T11:17:00-03:00",
          "2020-06-30T11:16:00-03:00",
          "2020-06-30T11:15:00-03:00",
          "2020-06-30T11:14:00-03:00",
          "2020-06-30T11:13:00-03:00",
          "2020-06-30T11:12:00-03:00",
          "2020-06-30T11:11:00-03:00",
          "2020-06-30T11:10:00-03:00",
          "2020-06-30T11:09:00-03:00",
          "2020-06-30T11:08:00-03:00",
          "2020-06-30T11:07:00-03:00",
          "2020-06-30T11:06:00-03:00",
          "2020-06-30T11:05:00-03:00",
          "2020-06-30T11:04:00-03:00",
          "2020-06-30T11:03:00-03:00",
          "2020-06-30T11:02:00-03:00",
          "2020-06-30T11:01:00-03:00",
          "2020-06-30T11:00:00-03:00",
          "2020-06-30T10:59:00-03:00",
          "2020-06-30T10:58:00-03:00",
          "2020-06-30T10:57:00-03:00",
          "2020-06-30T10:56:00-03:00",
          "2020-06-30T10:55:00-03:00",
          "2020-06-30T10:54:00-03:00",
          "2020-06-30T10:53:00-03:00",
          "2020-06-30T10:52:00-03:00",
          "2020-06-30T10:51:00-03:00",
          "2020-06-30T10:50:00-03:00",
          "2020-06-30T10:49:00-03:00",
          "2020-06-30T10:48:00-03:00",
          "2020-06-30T10:47:00-03:00",
          "2020-06-30T10:46:00-03:00",
          "2020-06-30T10:45:00-03:00",
          "2020-06-30T10:44:00-03:00",
          "2020-06-30T10:43:00-03:00",
          "2020-06-30T10:42:00-03:00",
          "2020-06-30T10:41:00-03:00",
          "2020-06-30T10:40:00-03:00",
          "2020-06-30T10:39:00-03:00",
          "2020-06-30T10:38:00-03:00",
          "2020-06-30T10:37:00-03:00",
          "2020-06-30T10:36:00-03:00",
          "2020-06-30T10:35:00-03:00",
          "2020-06-30T10:34:00-03:00",
          "2020-06-30T10:33:00-03:00",
          "2020-06-30T10:32:00-03:00",
          "2020-06-30T10:31:00-03:00",
          "2020-06-30T10:30:00-03:00",
          "2020-06-30T10:29:00-03:00",
          "2020-06-30T10:28:00-03:00",
          "2020-06-30T10:27:00-03:00",
          "2020-06-30T10:26:00-03:00",
          "2020-06-30T10:24:00-03:00",
          "2020-06-30T10:23:00-03:00",
          "2020-06-30T10:22:00-03:00",
          "2020-06-30T10:21:00-03:00",
          "2020-06-30T10:20:00-03:00",
          "2020-06-30T10:19:00-03:00",
          "2020-06-30T10:18:00-03:00",
          "2020-06-30T10:17:00-03:00",
          "2020-06-30T10:16:00-03:00",
          "2020-06-30T10:15:00-03:00",
          "2020-06-30T10:14:00-03:00",
          "2020-06-30T10:13:00-03:00",
          "2020-06-30T10:12:00-03:00",
          "2020-06-30T10:11:00-03:00"
         ],
         "y": [
          null,
          null,
          null,
          null,
          null,
          null,
          null,
          null,
          null,
          null,
          null,
          null,
          null,
          null,
          21.60066666666667,
          21.601333333333336,
          21.60333333333334,
          21.60466666666667,
          21.608,
          21.609333333333336,
          21.609333333333336,
          21.612000000000002,
          21.615333333333336,
          21.620000000000005,
          21.621333333333336,
          21.624000000000002,
          21.626666666666665,
          21.627999999999997,
          21.629333333333328,
          21.631999999999994,
          21.631333333333327,
          21.630666666666663,
          21.629999999999995,
          21.624666666666663,
          21.621999999999996,
          21.618666666666662,
          21.613999999999994,
          21.61066666666666,
          21.606666666666662,
          21.603333333333328,
          21.601999999999993,
          21.599999999999998,
          21.600666666666662,
          21.600666666666662,
          21.600666666666662,
          21.603333333333328,
          21.60666666666666,
          21.60799999999999,
          21.611999999999988,
          21.61599999999999,
          21.620666666666654,
          21.625333333333323,
          21.626666666666658,
          21.626666666666658,
          21.62599999999999,
          21.623333333333324,
          21.61866666666666,
          21.61266666666666,
          21.605333333333324,
          21.596666666666657,
          21.58666666666666,
          21.57733333333333,
          21.569333333333326,
          21.56266666666666,
          21.556666666666665,
          21.549333333333333,
          21.54266666666667,
          21.537333333333336,
          21.532,
          21.528000000000002,
          21.524,
          21.52333333333333,
          21.522666666666666,
          21.524,
          21.526666666666667,
          21.529333333333337,
          21.53133333333334,
          21.532000000000004,
          21.531333333333336,
          21.529999999999998,
          21.528666666666663,
          21.52666666666666,
          21.525333333333325,
          21.525999999999993,
          21.525333333333325,
          21.523999999999994,
          21.523333333333326,
          21.520666666666664,
          21.51866666666666,
          21.515999999999995,
          21.512666666666657,
          21.50999999999999,
          21.50866666666666,
          21.50866666666666,
          21.509333333333323,
          21.50866666666666,
          21.50999999999999,
          21.50999999999999,
          21.50666666666666,
          21.50466666666666,
          21.50733333333333,
          21.508666666666667,
          21.512666666666668,
          21.514666666666667,
          21.51666666666667,
          21.520000000000003,
          21.522000000000002,
          21.527333333333335,
          21.53066666666667,
          21.534,
          21.538666666666664,
          21.543999999999997,
          21.55333333333333,
          21.56333333333333,
          21.573999999999995,
          21.581333333333323,
          21.590666666666657,
          21.597999999999992,
          21.60599999999999,
          21.613333333333323,
          21.62066666666665,
          21.627333333333315,
          21.631999999999984,
          21.637333333333313,
          21.643333333333317,
          21.647333333333318,
          21.651333333333316,
          21.651999999999987,
          21.65533333333332,
          21.654666666666653,
          21.651333333333323,
          21.645999999999994,
          21.636666666666656,
          21.627999999999986,
          21.61933333333332,
          21.60933333333332,
          21.59799999999999,
          21.587333333333323,
          21.574666666666655,
          21.56199999999999,
          21.54999999999999,
          21.53399999999999,
          21.518666666666654,
          21.499999999999986,
          21.48533333333332,
          21.47333333333332,
          21.460666666666654,
          21.451999999999988,
          21.44133333333332,
          21.431999999999984,
          21.422666666666654,
          21.41733333333332,
          21.40733333333332,
          21.39933333333332,
          21.391999999999985,
          21.38733333333332,
          21.381999999999987,
          21.372666666666653,
          21.364666666666654,
          21.35866666666665,
          21.349333333333316,
          21.33999999999998,
          21.330666666666648,
          21.322666666666645,
          21.313333333333315,
          21.30733333333331,
          21.299333333333312,
          21.292666666666648,
          21.285999999999984,
          21.27666666666665,
          21.267999999999983,
          21.263999999999985,
          21.263999999999985,
          21.265999999999984,
          21.261999999999986,
          21.260666666666648,
          21.258666666666652,
          21.257999999999985,
          21.257999999999985,
          21.258666666666652,
          21.256666666666653,
          21.253999999999987,
          21.25199999999999,
          21.24933333333332,
          21.246666666666652,
          21.243333333333318,
          21.237333333333314,
          21.227999999999977,
          21.21733333333331,
          21.208666666666645,
          21.19933333333331,
          21.19133333333331,
          21.183333333333312,
          21.177333333333312,
          21.170666666666644,
          21.166666666666643,
          21.161333333333307,
          21.154666666666643,
          21.149999999999977,
          21.14733333333331,
          21.142666666666642,
          21.14133333333331,
          21.142666666666646,
          21.147333333333314,
          21.157333333333312,
          21.16599999999998,
          21.174666666666646,
          21.185333333333308,
          21.193333333333307,
          21.20066666666664,
          21.207333333333306,
          21.219999999999974,
          21.235333333333305,
          21.249333333333304,
          21.260666666666637,
          21.272666666666638,
          21.2793333333333,
          21.286666666666637,
          21.28999999999997,
          21.289333333333307,
          21.290666666666638,
          21.293333333333305,
          21.292666666666637,
          21.292666666666637,
          21.29599999999997,
          21.300666666666636,
          21.29999999999997,
          21.29799999999997,
          21.29666666666664
         ]
        },
        {
         "type": "scatter",
         "x": [
          "2020-06-30T14:01:00-03:00",
          "2020-06-30T14:00:00-03:00",
          "2020-06-30T13:59:00-03:00",
          "2020-06-30T13:58:00-03:00",
          "2020-06-30T13:57:00-03:00",
          "2020-06-30T13:56:00-03:00",
          "2020-06-30T13:55:00-03:00",
          "2020-06-30T13:54:00-03:00",
          "2020-06-30T13:53:00-03:00",
          "2020-06-30T13:52:00-03:00",
          "2020-06-30T13:51:00-03:00",
          "2020-06-30T13:50:00-03:00",
          "2020-06-30T13:49:00-03:00",
          "2020-06-30T13:48:00-03:00",
          "2020-06-30T13:47:00-03:00",
          "2020-06-30T13:46:00-03:00",
          "2020-06-30T13:45:00-03:00",
          "2020-06-30T13:44:00-03:00",
          "2020-06-30T13:43:00-03:00",
          "2020-06-30T13:42:00-03:00",
          "2020-06-30T13:41:00-03:00",
          "2020-06-30T13:40:00-03:00",
          "2020-06-30T13:39:00-03:00",
          "2020-06-30T13:38:00-03:00",
          "2020-06-30T13:37:00-03:00",
          "2020-06-30T13:36:00-03:00",
          "2020-06-30T13:35:00-03:00",
          "2020-06-30T13:34:00-03:00",
          "2020-06-30T13:33:00-03:00",
          "2020-06-30T13:32:00-03:00",
          "2020-06-30T13:31:00-03:00",
          "2020-06-30T13:30:00-03:00",
          "2020-06-30T13:29:00-03:00",
          "2020-06-30T13:28:00-03:00",
          "2020-06-30T13:27:00-03:00",
          "2020-06-30T13:26:00-03:00",
          "2020-06-30T13:25:00-03:00",
          "2020-06-30T13:24:00-03:00",
          "2020-06-30T13:23:00-03:00",
          "2020-06-30T13:22:00-03:00",
          "2020-06-30T13:21:00-03:00",
          "2020-06-30T13:20:00-03:00",
          "2020-06-30T13:19:00-03:00",
          "2020-06-30T13:18:00-03:00",
          "2020-06-30T13:17:00-03:00",
          "2020-06-30T13:16:00-03:00",
          "2020-06-30T13:15:00-03:00",
          "2020-06-30T13:14:00-03:00",
          "2020-06-30T13:13:00-03:00",
          "2020-06-30T13:12:00-03:00",
          "2020-06-30T13:11:00-03:00",
          "2020-06-30T13:10:00-03:00",
          "2020-06-30T13:09:00-03:00",
          "2020-06-30T13:08:00-03:00",
          "2020-06-30T13:07:00-03:00",
          "2020-06-30T13:06:00-03:00",
          "2020-06-30T13:05:00-03:00",
          "2020-06-30T13:04:00-03:00",
          "2020-06-30T13:03:00-03:00",
          "2020-06-30T13:02:00-03:00",
          "2020-06-30T13:01:00-03:00",
          "2020-06-30T13:00:00-03:00",
          "2020-06-30T12:59:00-03:00",
          "2020-06-30T12:58:00-03:00",
          "2020-06-30T12:57:00-03:00",
          "2020-06-30T12:56:00-03:00",
          "2020-06-30T12:55:00-03:00",
          "2020-06-30T12:54:00-03:00",
          "2020-06-30T12:53:00-03:00",
          "2020-06-30T12:52:00-03:00",
          "2020-06-30T12:51:00-03:00",
          "2020-06-30T12:50:00-03:00",
          "2020-06-30T12:49:00-03:00",
          "2020-06-30T12:48:00-03:00",
          "2020-06-30T12:47:00-03:00",
          "2020-06-30T12:46:00-03:00",
          "2020-06-30T12:45:00-03:00",
          "2020-06-30T12:44:00-03:00",
          "2020-06-30T12:43:00-03:00",
          "2020-06-30T12:42:00-03:00",
          "2020-06-30T12:41:00-03:00",
          "2020-06-30T12:40:00-03:00",
          "2020-06-30T12:39:00-03:00",
          "2020-06-30T12:38:00-03:00",
          "2020-06-30T12:37:00-03:00",
          "2020-06-30T12:36:00-03:00",
          "2020-06-30T12:35:00-03:00",
          "2020-06-30T12:34:00-03:00",
          "2020-06-30T12:33:00-03:00",
          "2020-06-30T12:32:00-03:00",
          "2020-06-30T12:31:00-03:00",
          "2020-06-30T12:30:00-03:00",
          "2020-06-30T12:29:00-03:00",
          "2020-06-30T12:28:00-03:00",
          "2020-06-30T12:27:00-03:00",
          "2020-06-30T12:26:00-03:00",
          "2020-06-30T12:25:00-03:00",
          "2020-06-30T12:24:00-03:00",
          "2020-06-30T12:23:00-03:00",
          "2020-06-30T12:22:00-03:00",
          "2020-06-30T12:21:00-03:00",
          "2020-06-30T12:20:00-03:00",
          "2020-06-30T12:19:00-03:00",
          "2020-06-30T12:18:00-03:00",
          "2020-06-30T12:17:00-03:00",
          "2020-06-30T12:16:00-03:00",
          "2020-06-30T12:15:00-03:00",
          "2020-06-30T12:14:00-03:00",
          "2020-06-30T12:13:00-03:00",
          "2020-06-30T12:12:00-03:00",
          "2020-06-30T12:11:00-03:00",
          "2020-06-30T12:10:00-03:00",
          "2020-06-30T12:09:00-03:00",
          "2020-06-30T12:08:00-03:00",
          "2020-06-30T12:07:00-03:00",
          "2020-06-30T12:06:00-03:00",
          "2020-06-30T12:05:00-03:00",
          "2020-06-30T12:04:00-03:00",
          "2020-06-30T12:03:00-03:00",
          "2020-06-30T12:02:00-03:00",
          "2020-06-30T12:01:00-03:00",
          "2020-06-30T12:00:00-03:00",
          "2020-06-30T11:59:00-03:00",
          "2020-06-30T11:58:00-03:00",
          "2020-06-30T11:57:00-03:00",
          "2020-06-30T11:56:00-03:00",
          "2020-06-30T11:55:00-03:00",
          "2020-06-30T11:54:00-03:00",
          "2020-06-30T11:53:00-03:00",
          "2020-06-30T11:52:00-03:00",
          "2020-06-30T11:51:00-03:00",
          "2020-06-30T11:50:00-03:00",
          "2020-06-30T11:48:00-03:00",
          "2020-06-30T11:47:00-03:00",
          "2020-06-30T11:46:00-03:00",
          "2020-06-30T11:45:00-03:00",
          "2020-06-30T11:44:00-03:00",
          "2020-06-30T11:43:00-03:00",
          "2020-06-30T11:42:00-03:00",
          "2020-06-30T11:41:00-03:00",
          "2020-06-30T11:40:00-03:00",
          "2020-06-30T11:39:00-03:00",
          "2020-06-30T11:38:00-03:00",
          "2020-06-30T11:37:00-03:00",
          "2020-06-30T11:36:00-03:00",
          "2020-06-30T11:35:00-03:00",
          "2020-06-30T11:34:00-03:00",
          "2020-06-30T11:33:00-03:00",
          "2020-06-30T11:32:00-03:00",
          "2020-06-30T11:31:00-03:00",
          "2020-06-30T11:30:00-03:00",
          "2020-06-30T11:29:00-03:00",
          "2020-06-30T11:28:00-03:00",
          "2020-06-30T11:27:00-03:00",
          "2020-06-30T11:26:00-03:00",
          "2020-06-30T11:25:00-03:00",
          "2020-06-30T11:24:00-03:00",
          "2020-06-30T11:23:00-03:00",
          "2020-06-30T11:22:00-03:00",
          "2020-06-30T11:21:00-03:00",
          "2020-06-30T11:20:00-03:00",
          "2020-06-30T11:19:00-03:00",
          "2020-06-30T11:18:00-03:00",
          "2020-06-30T11:17:00-03:00",
          "2020-06-30T11:16:00-03:00",
          "2020-06-30T11:15:00-03:00",
          "2020-06-30T11:14:00-03:00",
          "2020-06-30T11:13:00-03:00",
          "2020-06-30T11:12:00-03:00",
          "2020-06-30T11:11:00-03:00",
          "2020-06-30T11:10:00-03:00",
          "2020-06-30T11:09:00-03:00",
          "2020-06-30T11:08:00-03:00",
          "2020-06-30T11:07:00-03:00",
          "2020-06-30T11:06:00-03:00",
          "2020-06-30T11:05:00-03:00",
          "2020-06-30T11:04:00-03:00",
          "2020-06-30T11:03:00-03:00",
          "2020-06-30T11:02:00-03:00",
          "2020-06-30T11:01:00-03:00",
          "2020-06-30T11:00:00-03:00",
          "2020-06-30T10:59:00-03:00",
          "2020-06-30T10:58:00-03:00",
          "2020-06-30T10:57:00-03:00",
          "2020-06-30T10:56:00-03:00",
          "2020-06-30T10:55:00-03:00",
          "2020-06-30T10:54:00-03:00",
          "2020-06-30T10:53:00-03:00",
          "2020-06-30T10:52:00-03:00",
          "2020-06-30T10:51:00-03:00",
          "2020-06-30T10:50:00-03:00",
          "2020-06-30T10:49:00-03:00",
          "2020-06-30T10:48:00-03:00",
          "2020-06-30T10:47:00-03:00",
          "2020-06-30T10:46:00-03:00",
          "2020-06-30T10:45:00-03:00",
          "2020-06-30T10:44:00-03:00",
          "2020-06-30T10:43:00-03:00",
          "2020-06-30T10:42:00-03:00",
          "2020-06-30T10:41:00-03:00",
          "2020-06-30T10:40:00-03:00",
          "2020-06-30T10:39:00-03:00",
          "2020-06-30T10:38:00-03:00",
          "2020-06-30T10:37:00-03:00",
          "2020-06-30T10:36:00-03:00",
          "2020-06-30T10:35:00-03:00",
          "2020-06-30T10:34:00-03:00",
          "2020-06-30T10:33:00-03:00",
          "2020-06-30T10:32:00-03:00",
          "2020-06-30T10:31:00-03:00",
          "2020-06-30T10:30:00-03:00",
          "2020-06-30T10:29:00-03:00",
          "2020-06-30T10:28:00-03:00",
          "2020-06-30T10:27:00-03:00",
          "2020-06-30T10:26:00-03:00",
          "2020-06-30T10:24:00-03:00",
          "2020-06-30T10:23:00-03:00",
          "2020-06-30T10:22:00-03:00",
          "2020-06-30T10:21:00-03:00",
          "2020-06-30T10:20:00-03:00",
          "2020-06-30T10:19:00-03:00",
          "2020-06-30T10:18:00-03:00",
          "2020-06-30T10:17:00-03:00",
          "2020-06-30T10:16:00-03:00",
          "2020-06-30T10:15:00-03:00",
          "2020-06-30T10:14:00-03:00",
          "2020-06-30T10:13:00-03:00",
          "2020-06-30T10:12:00-03:00",
          "2020-06-30T10:11:00-03:00"
         ],
         "y": [
          null,
          null,
          null,
          null,
          21.595999999999997,
          21.598,
          21.602,
          21.6,
          21.598000000000003,
          21.604000000000003,
          21.6,
          21.6,
          21.601999999999997,
          21.606,
          21.601999999999997,
          21.606,
          21.607999999999997,
          21.612000000000002,
          21.62,
          21.622000000000003,
          21.622000000000003,
          21.628,
          21.631999999999998,
          21.633999999999997,
          21.64,
          21.644,
          21.644000000000002,
          21.64,
          21.634000000000004,
          21.634,
          21.628,
          21.62,
          21.618000000000002,
          21.606,
          21.592,
          21.584,
          21.578000000000003,
          21.574000000000005,
          21.580000000000005,
          21.58400000000001,
          21.594000000000012,
          21.60200000000001,
          21.610000000000007,
          21.616000000000007,
          21.626000000000005,
          21.632000000000005,
          21.640000000000008,
          21.640000000000008,
          21.640000000000008,
          21.63800000000001,
          21.636000000000006,
          21.634000000000007,
          21.630000000000006,
          21.624000000000006,
          21.61400000000001,
          21.602000000000007,
          21.582000000000008,
          21.56800000000001,
          21.55200000000001,
          21.538000000000007,
          21.522000000000013,
          21.516000000000012,
          21.510000000000012,
          21.512000000000015,
          21.518000000000015,
          21.52400000000001,
          21.53000000000001,
          21.534000000000013,
          21.53200000000001,
          21.528000000000013,
          21.526000000000018,
          21.52400000000002,
          21.52400000000002,
          21.528000000000016,
          21.534000000000017,
          21.538000000000018,
          21.54000000000002,
          21.53800000000002,
          21.534000000000027,
          21.528000000000027,
          21.52200000000003,
          21.51600000000003,
          21.51400000000003,
          21.516000000000027,
          21.51400000000003,
          21.512000000000032,
          21.51400000000003,
          21.510000000000026,
          21.50600000000003,
          21.506000000000025,
          21.504000000000026,
          21.500000000000025,
          21.502000000000024,
          21.504000000000023,
          21.508000000000024,
          21.510000000000026,
          21.51600000000003,
          21.51800000000003,
          21.510000000000026,
          21.50000000000003,
          21.508000000000028,
          21.510000000000026,
          21.518000000000026,
          21.530000000000026,
          21.542000000000026,
          21.54200000000003,
          21.54000000000003,
          21.546000000000028,
          21.55200000000003,
          21.56000000000003,
          21.56600000000003,
          21.582000000000033,
          21.596000000000036,
          21.60800000000004,
          21.620000000000037,
          21.636000000000035,
          21.650000000000038,
          21.652000000000037,
          21.658000000000037,
          21.66000000000004,
          21.660000000000036,
          21.650000000000034,
          21.648000000000035,
          21.646000000000036,
          21.65000000000004,
          21.646000000000036,
          21.654000000000043,
          21.65600000000004,
          21.66200000000004,
          21.65400000000004,
          21.648000000000042,
          21.63400000000004,
          21.60600000000004,
          21.57600000000004,
          21.55400000000004,
          21.53400000000004,
          21.506000000000046,
          21.50000000000005,
          21.486000000000047,
          21.478000000000044,
          21.468000000000046,
          21.462000000000046,
          21.45000000000005,
          21.438000000000045,
          21.424000000000042,
          21.418000000000042,
          21.414000000000044,
          21.40600000000004,
          21.40000000000004,
          21.39400000000004,
          21.38200000000004,
          21.376000000000044,
          21.366000000000046,
          21.360000000000042,
          21.358000000000043,
          21.362000000000045,
          21.356000000000044,
          21.346000000000043,
          21.334000000000042,
          21.32400000000004,
          21.30400000000004,
          21.28800000000004,
          21.28000000000004,
          21.27400000000004,
          21.258000000000038,
          21.256000000000036,
          21.25400000000004,
          21.252000000000038,
          21.250000000000036,
          21.24800000000004,
          21.24400000000004,
          21.250000000000036,
          21.26000000000004,
          21.27400000000004,
          21.28000000000004,
          21.282000000000043,
          21.27200000000004,
          21.26200000000004,
          21.25000000000004,
          21.24800000000004,
          21.244000000000035,
          21.240000000000038,
          21.23400000000004,
          21.22400000000004,
          21.21200000000004,
          21.204000000000043,
          21.200000000000042,
          21.188000000000038,
          21.17800000000004,
          21.16600000000004,
          21.15000000000004,
          21.13400000000004,
          21.128000000000043,
          21.13000000000004,
          21.134000000000043,
          21.146000000000043,
          21.15000000000004,
          21.148000000000042,
          21.142000000000042,
          21.142000000000042,
          21.13200000000004,
          21.14000000000004,
          21.15200000000004,
          21.17000000000004,
          21.196000000000044,
          21.220000000000045,
          21.234000000000044,
          21.256000000000043,
          21.268000000000043,
          21.264000000000046,
          21.270000000000046,
          21.286000000000044,
          21.298000000000044,
          21.310000000000045,
          21.322000000000045,
          21.328000000000046,
          21.318000000000048,
          21.306000000000047,
          21.292000000000044,
          21.282000000000046,
          21.274000000000044,
          21.276000000000046,
          21.274000000000044,
          21.276000000000046,
          21.284000000000045,
          21.300000000000047,
          21.30600000000005,
          21.314000000000053,
          21.322000000000052
         ]
        }
       ],
       "layout": {
        "template": {
         "data": {
          "bar": [
           {
            "error_x": {
             "color": "#2a3f5f"
            },
            "error_y": {
             "color": "#2a3f5f"
            },
            "marker": {
             "line": {
              "color": "#E5ECF6",
              "width": 0.5
             }
            },
            "type": "bar"
           }
          ],
          "barpolar": [
           {
            "marker": {
             "line": {
              "color": "#E5ECF6",
              "width": 0.5
             }
            },
            "type": "barpolar"
           }
          ],
          "carpet": [
           {
            "aaxis": {
             "endlinecolor": "#2a3f5f",
             "gridcolor": "white",
             "linecolor": "white",
             "minorgridcolor": "white",
             "startlinecolor": "#2a3f5f"
            },
            "baxis": {
             "endlinecolor": "#2a3f5f",
             "gridcolor": "white",
             "linecolor": "white",
             "minorgridcolor": "white",
             "startlinecolor": "#2a3f5f"
            },
            "type": "carpet"
           }
          ],
          "choropleth": [
           {
            "colorbar": {
             "outlinewidth": 0,
             "ticks": ""
            },
            "type": "choropleth"
           }
          ],
          "contour": [
           {
            "colorbar": {
             "outlinewidth": 0,
             "ticks": ""
            },
            "colorscale": [
             [
              0,
              "#0d0887"
             ],
             [
              0.1111111111111111,
              "#46039f"
             ],
             [
              0.2222222222222222,
              "#7201a8"
             ],
             [
              0.3333333333333333,
              "#9c179e"
             ],
             [
              0.4444444444444444,
              "#bd3786"
             ],
             [
              0.5555555555555556,
              "#d8576b"
             ],
             [
              0.6666666666666666,
              "#ed7953"
             ],
             [
              0.7777777777777778,
              "#fb9f3a"
             ],
             [
              0.8888888888888888,
              "#fdca26"
             ],
             [
              1,
              "#f0f921"
             ]
            ],
            "type": "contour"
           }
          ],
          "contourcarpet": [
           {
            "colorbar": {
             "outlinewidth": 0,
             "ticks": ""
            },
            "type": "contourcarpet"
           }
          ],
          "heatmap": [
           {
            "colorbar": {
             "outlinewidth": 0,
             "ticks": ""
            },
            "colorscale": [
             [
              0,
              "#0d0887"
             ],
             [
              0.1111111111111111,
              "#46039f"
             ],
             [
              0.2222222222222222,
              "#7201a8"
             ],
             [
              0.3333333333333333,
              "#9c179e"
             ],
             [
              0.4444444444444444,
              "#bd3786"
             ],
             [
              0.5555555555555556,
              "#d8576b"
             ],
             [
              0.6666666666666666,
              "#ed7953"
             ],
             [
              0.7777777777777778,
              "#fb9f3a"
             ],
             [
              0.8888888888888888,
              "#fdca26"
             ],
             [
              1,
              "#f0f921"
             ]
            ],
            "type": "heatmap"
           }
          ],
          "heatmapgl": [
           {
            "colorbar": {
             "outlinewidth": 0,
             "ticks": ""
            },
            "colorscale": [
             [
              0,
              "#0d0887"
             ],
             [
              0.1111111111111111,
              "#46039f"
             ],
             [
              0.2222222222222222,
              "#7201a8"
             ],
             [
              0.3333333333333333,
              "#9c179e"
             ],
             [
              0.4444444444444444,
              "#bd3786"
             ],
             [
              0.5555555555555556,
              "#d8576b"
             ],
             [
              0.6666666666666666,
              "#ed7953"
             ],
             [
              0.7777777777777778,
              "#fb9f3a"
             ],
             [
              0.8888888888888888,
              "#fdca26"
             ],
             [
              1,
              "#f0f921"
             ]
            ],
            "type": "heatmapgl"
           }
          ],
          "histogram": [
           {
            "marker": {
             "colorbar": {
              "outlinewidth": 0,
              "ticks": ""
             }
            },
            "type": "histogram"
           }
          ],
          "histogram2d": [
           {
            "colorbar": {
             "outlinewidth": 0,
             "ticks": ""
            },
            "colorscale": [
             [
              0,
              "#0d0887"
             ],
             [
              0.1111111111111111,
              "#46039f"
             ],
             [
              0.2222222222222222,
              "#7201a8"
             ],
             [
              0.3333333333333333,
              "#9c179e"
             ],
             [
              0.4444444444444444,
              "#bd3786"
             ],
             [
              0.5555555555555556,
              "#d8576b"
             ],
             [
              0.6666666666666666,
              "#ed7953"
             ],
             [
              0.7777777777777778,
              "#fb9f3a"
             ],
             [
              0.8888888888888888,
              "#fdca26"
             ],
             [
              1,
              "#f0f921"
             ]
            ],
            "type": "histogram2d"
           }
          ],
          "histogram2dcontour": [
           {
            "colorbar": {
             "outlinewidth": 0,
             "ticks": ""
            },
            "colorscale": [
             [
              0,
              "#0d0887"
             ],
             [
              0.1111111111111111,
              "#46039f"
             ],
             [
              0.2222222222222222,
              "#7201a8"
             ],
             [
              0.3333333333333333,
              "#9c179e"
             ],
             [
              0.4444444444444444,
              "#bd3786"
             ],
             [
              0.5555555555555556,
              "#d8576b"
             ],
             [
              0.6666666666666666,
              "#ed7953"
             ],
             [
              0.7777777777777778,
              "#fb9f3a"
             ],
             [
              0.8888888888888888,
              "#fdca26"
             ],
             [
              1,
              "#f0f921"
             ]
            ],
            "type": "histogram2dcontour"
           }
          ],
          "mesh3d": [
           {
            "colorbar": {
             "outlinewidth": 0,
             "ticks": ""
            },
            "type": "mesh3d"
           }
          ],
          "parcoords": [
           {
            "line": {
             "colorbar": {
              "outlinewidth": 0,
              "ticks": ""
             }
            },
            "type": "parcoords"
           }
          ],
          "pie": [
           {
            "automargin": true,
            "type": "pie"
           }
          ],
          "scatter": [
           {
            "marker": {
             "colorbar": {
              "outlinewidth": 0,
              "ticks": ""
             }
            },
            "type": "scatter"
           }
          ],
          "scatter3d": [
           {
            "line": {
             "colorbar": {
              "outlinewidth": 0,
              "ticks": ""
             }
            },
            "marker": {
             "colorbar": {
              "outlinewidth": 0,
              "ticks": ""
             }
            },
            "type": "scatter3d"
           }
          ],
          "scattercarpet": [
           {
            "marker": {
             "colorbar": {
              "outlinewidth": 0,
              "ticks": ""
             }
            },
            "type": "scattercarpet"
           }
          ],
          "scattergeo": [
           {
            "marker": {
             "colorbar": {
              "outlinewidth": 0,
              "ticks": ""
             }
            },
            "type": "scattergeo"
           }
          ],
          "scattergl": [
           {
            "marker": {
             "colorbar": {
              "outlinewidth": 0,
              "ticks": ""
             }
            },
            "type": "scattergl"
           }
          ],
          "scattermapbox": [
           {
            "marker": {
             "colorbar": {
              "outlinewidth": 0,
              "ticks": ""
             }
            },
            "type": "scattermapbox"
           }
          ],
          "scatterpolar": [
           {
            "marker": {
             "colorbar": {
              "outlinewidth": 0,
              "ticks": ""
             }
            },
            "type": "scatterpolar"
           }
          ],
          "scatterpolargl": [
           {
            "marker": {
             "colorbar": {
              "outlinewidth": 0,
              "ticks": ""
             }
            },
            "type": "scatterpolargl"
           }
          ],
          "scatterternary": [
           {
            "marker": {
             "colorbar": {
              "outlinewidth": 0,
              "ticks": ""
             }
            },
            "type": "scatterternary"
           }
          ],
          "surface": [
           {
            "colorbar": {
             "outlinewidth": 0,
             "ticks": ""
            },
            "colorscale": [
             [
              0,
              "#0d0887"
             ],
             [
              0.1111111111111111,
              "#46039f"
             ],
             [
              0.2222222222222222,
              "#7201a8"
             ],
             [
              0.3333333333333333,
              "#9c179e"
             ],
             [
              0.4444444444444444,
              "#bd3786"
             ],
             [
              0.5555555555555556,
              "#d8576b"
             ],
             [
              0.6666666666666666,
              "#ed7953"
             ],
             [
              0.7777777777777778,
              "#fb9f3a"
             ],
             [
              0.8888888888888888,
              "#fdca26"
             ],
             [
              1,
              "#f0f921"
             ]
            ],
            "type": "surface"
           }
          ],
          "table": [
           {
            "cells": {
             "fill": {
              "color": "#EBF0F8"
             },
             "line": {
              "color": "white"
             }
            },
            "header": {
             "fill": {
              "color": "#C8D4E3"
             },
             "line": {
              "color": "white"
             }
            },
            "type": "table"
           }
          ]
         },
         "layout": {
          "annotationdefaults": {
           "arrowcolor": "#2a3f5f",
           "arrowhead": 0,
           "arrowwidth": 1
          },
          "coloraxis": {
           "colorbar": {
            "outlinewidth": 0,
            "ticks": ""
           }
          },
          "colorscale": {
           "diverging": [
            [
             0,
             "#8e0152"
            ],
            [
             0.1,
             "#c51b7d"
            ],
            [
             0.2,
             "#de77ae"
            ],
            [
             0.3,
             "#f1b6da"
            ],
            [
             0.4,
             "#fde0ef"
            ],
            [
             0.5,
             "#f7f7f7"
            ],
            [
             0.6,
             "#e6f5d0"
            ],
            [
             0.7,
             "#b8e186"
            ],
            [
             0.8,
             "#7fbc41"
            ],
            [
             0.9,
             "#4d9221"
            ],
            [
             1,
             "#276419"
            ]
           ],
           "sequential": [
            [
             0,
             "#0d0887"
            ],
            [
             0.1111111111111111,
             "#46039f"
            ],
            [
             0.2222222222222222,
             "#7201a8"
            ],
            [
             0.3333333333333333,
             "#9c179e"
            ],
            [
             0.4444444444444444,
             "#bd3786"
            ],
            [
             0.5555555555555556,
             "#d8576b"
            ],
            [
             0.6666666666666666,
             "#ed7953"
            ],
            [
             0.7777777777777778,
             "#fb9f3a"
            ],
            [
             0.8888888888888888,
             "#fdca26"
            ],
            [
             1,
             "#f0f921"
            ]
           ],
           "sequentialminus": [
            [
             0,
             "#0d0887"
            ],
            [
             0.1111111111111111,
             "#46039f"
            ],
            [
             0.2222222222222222,
             "#7201a8"
            ],
            [
             0.3333333333333333,
             "#9c179e"
            ],
            [
             0.4444444444444444,
             "#bd3786"
            ],
            [
             0.5555555555555556,
             "#d8576b"
            ],
            [
             0.6666666666666666,
             "#ed7953"
            ],
            [
             0.7777777777777778,
             "#fb9f3a"
            ],
            [
             0.8888888888888888,
             "#fdca26"
            ],
            [
             1,
             "#f0f921"
            ]
           ]
          },
          "colorway": [
           "#636efa",
           "#EF553B",
           "#00cc96",
           "#ab63fa",
           "#FFA15A",
           "#19d3f3",
           "#FF6692",
           "#B6E880",
           "#FF97FF",
           "#FECB52"
          ],
          "font": {
           "color": "#2a3f5f"
          },
          "geo": {
           "bgcolor": "white",
           "lakecolor": "white",
           "landcolor": "#E5ECF6",
           "showlakes": true,
           "showland": true,
           "subunitcolor": "white"
          },
          "hoverlabel": {
           "align": "left"
          },
          "hovermode": "closest",
          "mapbox": {
           "style": "light"
          },
          "paper_bgcolor": "white",
          "plot_bgcolor": "#E5ECF6",
          "polar": {
           "angularaxis": {
            "gridcolor": "white",
            "linecolor": "white",
            "ticks": ""
           },
           "bgcolor": "#E5ECF6",
           "radialaxis": {
            "gridcolor": "white",
            "linecolor": "white",
            "ticks": ""
           }
          },
          "scene": {
           "xaxis": {
            "backgroundcolor": "#E5ECF6",
            "gridcolor": "white",
            "gridwidth": 2,
            "linecolor": "white",
            "showbackground": true,
            "ticks": "",
            "zerolinecolor": "white"
           },
           "yaxis": {
            "backgroundcolor": "#E5ECF6",
            "gridcolor": "white",
            "gridwidth": 2,
            "linecolor": "white",
            "showbackground": true,
            "ticks": "",
            "zerolinecolor": "white"
           },
           "zaxis": {
            "backgroundcolor": "#E5ECF6",
            "gridcolor": "white",
            "gridwidth": 2,
            "linecolor": "white",
            "showbackground": true,
            "ticks": "",
            "zerolinecolor": "white"
           }
          },
          "shapedefaults": {
           "line": {
            "color": "#2a3f5f"
           }
          },
          "ternary": {
           "aaxis": {
            "gridcolor": "white",
            "linecolor": "white",
            "ticks": ""
           },
           "baxis": {
            "gridcolor": "white",
            "linecolor": "white",
            "ticks": ""
           },
           "bgcolor": "#E5ECF6",
           "caxis": {
            "gridcolor": "white",
            "linecolor": "white",
            "ticks": ""
           }
          },
          "title": {
           "x": 0.05
          },
          "xaxis": {
           "automargin": true,
           "gridcolor": "white",
           "linecolor": "white",
           "ticks": "",
           "title": {
            "standoff": 15
           },
           "zerolinecolor": "white",
           "zerolinewidth": 2
          },
          "yaxis": {
           "automargin": true,
           "gridcolor": "white",
           "linecolor": "white",
           "ticks": "",
           "title": {
            "standoff": 15
           },
           "zerolinecolor": "white",
           "zerolinewidth": 2
          }
         }
        }
       }
      },
      "text/html": [
       "<div>\n",
       "        \n",
       "        \n",
       "            <div id=\"d3362576-be2c-48bf-b40c-00dc264ae26d\" class=\"plotly-graph-div\" style=\"height:525px; width:100%;\"></div>\n",
       "            <script type=\"text/javascript\">\n",
       "                require([\"plotly\"], function(Plotly) {\n",
       "                    window.PLOTLYENV=window.PLOTLYENV || {};\n",
       "                    \n",
       "                if (document.getElementById(\"d3362576-be2c-48bf-b40c-00dc264ae26d\")) {\n",
       "                    Plotly.newPlot(\n",
       "                        'd3362576-be2c-48bf-b40c-00dc264ae26d',\n",
       "                        [{\"type\": \"scatter\", \"x\": [\"2020-06-30T14:01:00-03:00\", \"2020-06-30T14:00:00-03:00\", \"2020-06-30T13:59:00-03:00\", \"2020-06-30T13:58:00-03:00\", \"2020-06-30T13:57:00-03:00\", \"2020-06-30T13:56:00-03:00\", \"2020-06-30T13:55:00-03:00\", \"2020-06-30T13:54:00-03:00\", \"2020-06-30T13:53:00-03:00\", \"2020-06-30T13:52:00-03:00\", \"2020-06-30T13:51:00-03:00\", \"2020-06-30T13:50:00-03:00\", \"2020-06-30T13:49:00-03:00\", \"2020-06-30T13:48:00-03:00\", \"2020-06-30T13:47:00-03:00\", \"2020-06-30T13:46:00-03:00\", \"2020-06-30T13:45:00-03:00\", \"2020-06-30T13:44:00-03:00\", \"2020-06-30T13:43:00-03:00\", \"2020-06-30T13:42:00-03:00\", \"2020-06-30T13:41:00-03:00\", \"2020-06-30T13:40:00-03:00\", \"2020-06-30T13:39:00-03:00\", \"2020-06-30T13:38:00-03:00\", \"2020-06-30T13:37:00-03:00\", \"2020-06-30T13:36:00-03:00\", \"2020-06-30T13:35:00-03:00\", \"2020-06-30T13:34:00-03:00\", \"2020-06-30T13:33:00-03:00\", \"2020-06-30T13:32:00-03:00\", \"2020-06-30T13:31:00-03:00\", \"2020-06-30T13:30:00-03:00\", \"2020-06-30T13:29:00-03:00\", \"2020-06-30T13:28:00-03:00\", \"2020-06-30T13:27:00-03:00\", \"2020-06-30T13:26:00-03:00\", \"2020-06-30T13:25:00-03:00\", \"2020-06-30T13:24:00-03:00\", \"2020-06-30T13:23:00-03:00\", \"2020-06-30T13:22:00-03:00\", \"2020-06-30T13:21:00-03:00\", \"2020-06-30T13:20:00-03:00\", \"2020-06-30T13:19:00-03:00\", \"2020-06-30T13:18:00-03:00\", \"2020-06-30T13:17:00-03:00\", \"2020-06-30T13:16:00-03:00\", \"2020-06-30T13:15:00-03:00\", \"2020-06-30T13:14:00-03:00\", \"2020-06-30T13:13:00-03:00\", \"2020-06-30T13:12:00-03:00\", \"2020-06-30T13:11:00-03:00\", \"2020-06-30T13:10:00-03:00\", \"2020-06-30T13:09:00-03:00\", \"2020-06-30T13:08:00-03:00\", \"2020-06-30T13:07:00-03:00\", \"2020-06-30T13:06:00-03:00\", \"2020-06-30T13:05:00-03:00\", \"2020-06-30T13:04:00-03:00\", \"2020-06-30T13:03:00-03:00\", \"2020-06-30T13:02:00-03:00\", \"2020-06-30T13:01:00-03:00\", \"2020-06-30T13:00:00-03:00\", \"2020-06-30T12:59:00-03:00\", \"2020-06-30T12:58:00-03:00\", \"2020-06-30T12:57:00-03:00\", \"2020-06-30T12:56:00-03:00\", \"2020-06-30T12:55:00-03:00\", \"2020-06-30T12:54:00-03:00\", \"2020-06-30T12:53:00-03:00\", \"2020-06-30T12:52:00-03:00\", \"2020-06-30T12:51:00-03:00\", \"2020-06-30T12:50:00-03:00\", \"2020-06-30T12:49:00-03:00\", \"2020-06-30T12:48:00-03:00\", \"2020-06-30T12:47:00-03:00\", \"2020-06-30T12:46:00-03:00\", \"2020-06-30T12:45:00-03:00\", \"2020-06-30T12:44:00-03:00\", \"2020-06-30T12:43:00-03:00\", \"2020-06-30T12:42:00-03:00\", \"2020-06-30T12:41:00-03:00\", \"2020-06-30T12:40:00-03:00\", \"2020-06-30T12:39:00-03:00\", \"2020-06-30T12:38:00-03:00\", \"2020-06-30T12:37:00-03:00\", \"2020-06-30T12:36:00-03:00\", \"2020-06-30T12:35:00-03:00\", \"2020-06-30T12:34:00-03:00\", \"2020-06-30T12:33:00-03:00\", \"2020-06-30T12:32:00-03:00\", \"2020-06-30T12:31:00-03:00\", \"2020-06-30T12:30:00-03:00\", \"2020-06-30T12:29:00-03:00\", \"2020-06-30T12:28:00-03:00\", \"2020-06-30T12:27:00-03:00\", \"2020-06-30T12:26:00-03:00\", \"2020-06-30T12:25:00-03:00\", \"2020-06-30T12:24:00-03:00\", \"2020-06-30T12:23:00-03:00\", \"2020-06-30T12:22:00-03:00\", \"2020-06-30T12:21:00-03:00\", \"2020-06-30T12:20:00-03:00\", \"2020-06-30T12:19:00-03:00\", \"2020-06-30T12:18:00-03:00\", \"2020-06-30T12:17:00-03:00\", \"2020-06-30T12:16:00-03:00\", \"2020-06-30T12:15:00-03:00\", \"2020-06-30T12:14:00-03:00\", \"2020-06-30T12:13:00-03:00\", \"2020-06-30T12:12:00-03:00\", \"2020-06-30T12:11:00-03:00\", \"2020-06-30T12:10:00-03:00\", \"2020-06-30T12:09:00-03:00\", \"2020-06-30T12:08:00-03:00\", \"2020-06-30T12:07:00-03:00\", \"2020-06-30T12:06:00-03:00\", \"2020-06-30T12:05:00-03:00\", \"2020-06-30T12:04:00-03:00\", \"2020-06-30T12:03:00-03:00\", \"2020-06-30T12:02:00-03:00\", \"2020-06-30T12:01:00-03:00\", \"2020-06-30T12:00:00-03:00\", \"2020-06-30T11:59:00-03:00\", \"2020-06-30T11:58:00-03:00\", \"2020-06-30T11:57:00-03:00\", \"2020-06-30T11:56:00-03:00\", \"2020-06-30T11:55:00-03:00\", \"2020-06-30T11:54:00-03:00\", \"2020-06-30T11:53:00-03:00\", \"2020-06-30T11:52:00-03:00\", \"2020-06-30T11:51:00-03:00\", \"2020-06-30T11:50:00-03:00\", \"2020-06-30T11:48:00-03:00\", \"2020-06-30T11:47:00-03:00\", \"2020-06-30T11:46:00-03:00\", \"2020-06-30T11:45:00-03:00\", \"2020-06-30T11:44:00-03:00\", \"2020-06-30T11:43:00-03:00\", \"2020-06-30T11:42:00-03:00\", \"2020-06-30T11:41:00-03:00\", \"2020-06-30T11:40:00-03:00\", \"2020-06-30T11:39:00-03:00\", \"2020-06-30T11:38:00-03:00\", \"2020-06-30T11:37:00-03:00\", \"2020-06-30T11:36:00-03:00\", \"2020-06-30T11:35:00-03:00\", \"2020-06-30T11:34:00-03:00\", \"2020-06-30T11:33:00-03:00\", \"2020-06-30T11:32:00-03:00\", \"2020-06-30T11:31:00-03:00\", \"2020-06-30T11:30:00-03:00\", \"2020-06-30T11:29:00-03:00\", \"2020-06-30T11:28:00-03:00\", \"2020-06-30T11:27:00-03:00\", \"2020-06-30T11:26:00-03:00\", \"2020-06-30T11:25:00-03:00\", \"2020-06-30T11:24:00-03:00\", \"2020-06-30T11:23:00-03:00\", \"2020-06-30T11:22:00-03:00\", \"2020-06-30T11:21:00-03:00\", \"2020-06-30T11:20:00-03:00\", \"2020-06-30T11:19:00-03:00\", \"2020-06-30T11:18:00-03:00\", \"2020-06-30T11:17:00-03:00\", \"2020-06-30T11:16:00-03:00\", \"2020-06-30T11:15:00-03:00\", \"2020-06-30T11:14:00-03:00\", \"2020-06-30T11:13:00-03:00\", \"2020-06-30T11:12:00-03:00\", \"2020-06-30T11:11:00-03:00\", \"2020-06-30T11:10:00-03:00\", \"2020-06-30T11:09:00-03:00\", \"2020-06-30T11:08:00-03:00\", \"2020-06-30T11:07:00-03:00\", \"2020-06-30T11:06:00-03:00\", \"2020-06-30T11:05:00-03:00\", \"2020-06-30T11:04:00-03:00\", \"2020-06-30T11:03:00-03:00\", \"2020-06-30T11:02:00-03:00\", \"2020-06-30T11:01:00-03:00\", \"2020-06-30T11:00:00-03:00\", \"2020-06-30T10:59:00-03:00\", \"2020-06-30T10:58:00-03:00\", \"2020-06-30T10:57:00-03:00\", \"2020-06-30T10:56:00-03:00\", \"2020-06-30T10:55:00-03:00\", \"2020-06-30T10:54:00-03:00\", \"2020-06-30T10:53:00-03:00\", \"2020-06-30T10:52:00-03:00\", \"2020-06-30T10:51:00-03:00\", \"2020-06-30T10:50:00-03:00\", \"2020-06-30T10:49:00-03:00\", \"2020-06-30T10:48:00-03:00\", \"2020-06-30T10:47:00-03:00\", \"2020-06-30T10:46:00-03:00\", \"2020-06-30T10:45:00-03:00\", \"2020-06-30T10:44:00-03:00\", \"2020-06-30T10:43:00-03:00\", \"2020-06-30T10:42:00-03:00\", \"2020-06-30T10:41:00-03:00\", \"2020-06-30T10:40:00-03:00\", \"2020-06-30T10:39:00-03:00\", \"2020-06-30T10:38:00-03:00\", \"2020-06-30T10:37:00-03:00\", \"2020-06-30T10:36:00-03:00\", \"2020-06-30T10:35:00-03:00\", \"2020-06-30T10:34:00-03:00\", \"2020-06-30T10:33:00-03:00\", \"2020-06-30T10:32:00-03:00\", \"2020-06-30T10:31:00-03:00\", \"2020-06-30T10:30:00-03:00\", \"2020-06-30T10:29:00-03:00\", \"2020-06-30T10:28:00-03:00\", \"2020-06-30T10:27:00-03:00\", \"2020-06-30T10:26:00-03:00\", \"2020-06-30T10:24:00-03:00\", \"2020-06-30T10:23:00-03:00\", \"2020-06-30T10:22:00-03:00\", \"2020-06-30T10:21:00-03:00\", \"2020-06-30T10:20:00-03:00\", \"2020-06-30T10:19:00-03:00\", \"2020-06-30T10:18:00-03:00\", \"2020-06-30T10:17:00-03:00\", \"2020-06-30T10:16:00-03:00\", \"2020-06-30T10:15:00-03:00\", \"2020-06-30T10:14:00-03:00\", \"2020-06-30T10:13:00-03:00\", \"2020-06-30T10:12:00-03:00\", \"2020-06-30T10:11:00-03:00\"], \"y\": [21.61, 21.58, 21.6, 21.6, 21.59, 21.62, 21.6, 21.59, 21.59, 21.62, 21.6, 21.6, 21.6, 21.61, 21.6, 21.62, 21.61, 21.62, 21.65, 21.61, 21.62, 21.64, 21.64, 21.66, 21.64, 21.64, 21.64, 21.62, 21.63, 21.64, 21.61, 21.6, 21.61, 21.57, 21.57, 21.57, 21.57, 21.59, 21.6, 21.59, 21.62, 21.61, 21.63, 21.63, 21.64, 21.65, 21.65, 21.63, 21.63, 21.63, 21.64, 21.64, 21.61, 21.6, 21.58, 21.58, 21.54, 21.54, 21.52, 21.51, 21.5, 21.51, 21.51, 21.53, 21.54, 21.53, 21.54, 21.53, 21.52, 21.52, 21.52, 21.53, 21.53, 21.54, 21.55, 21.54, 21.54, 21.52, 21.52, 21.52, 21.51, 21.51, 21.51, 21.53, 21.51, 21.5, 21.52, 21.49, 21.51, 21.51, 21.49, 21.5, 21.5, 21.52, 21.53, 21.5, 21.53, 21.51, 21.48, 21.48, 21.54, 21.54, 21.55, 21.54, 21.54, 21.54, 21.53, 21.58, 21.57, 21.58, 21.57, 21.61, 21.65, 21.63, 21.64, 21.65, 21.68, 21.66, 21.66, 21.65, 21.65, 21.63, 21.65, 21.65, 21.67, 21.63, 21.67, 21.66, 21.68, 21.63, 21.6, 21.6, 21.52, 21.53, 21.52, 21.5, 21.46, 21.49, 21.46, 21.48, 21.45, 21.43, 21.43, 21.4, 21.41, 21.42, 21.41, 21.39, 21.37, 21.38, 21.36, 21.38, 21.34, 21.34, 21.37, 21.38, 21.35, 21.29, 21.28, 21.32, 21.28, 21.27, 21.25, 21.25, 21.24, 21.27, 21.26, 21.24, 21.24, 21.23, 21.25, 21.29, 21.29, 21.31, 21.26, 21.26, 21.24, 21.24, 21.25, 21.25, 21.24, 21.22, 21.21, 21.2, 21.19, 21.2, 21.2, 21.15, 21.15, 21.13, 21.12, 21.12, 21.12, 21.16, 21.15, 21.18, 21.14, 21.11, 21.13, 21.15, 21.13, 21.18, 21.17, 21.22, 21.28, 21.25, 21.25, 21.28, 21.28, 21.26, 21.28, 21.33, 21.34, 21.34, 21.32, 21.31, 21.28, 21.28, 21.27, 21.27, 21.27, 21.29, 21.27, 21.28, 21.31, 21.35, 21.32, 21.31, 21.32]}, {\"type\": \"scatter\", \"x\": [\"2020-06-30T14:01:00-03:00\", \"2020-06-30T14:00:00-03:00\", \"2020-06-30T13:59:00-03:00\", \"2020-06-30T13:58:00-03:00\", \"2020-06-30T13:57:00-03:00\", \"2020-06-30T13:56:00-03:00\", \"2020-06-30T13:55:00-03:00\", \"2020-06-30T13:54:00-03:00\", \"2020-06-30T13:53:00-03:00\", \"2020-06-30T13:52:00-03:00\", \"2020-06-30T13:51:00-03:00\", \"2020-06-30T13:50:00-03:00\", \"2020-06-30T13:49:00-03:00\", \"2020-06-30T13:48:00-03:00\", \"2020-06-30T13:47:00-03:00\", \"2020-06-30T13:46:00-03:00\", \"2020-06-30T13:45:00-03:00\", \"2020-06-30T13:44:00-03:00\", \"2020-06-30T13:43:00-03:00\", \"2020-06-30T13:42:00-03:00\", \"2020-06-30T13:41:00-03:00\", \"2020-06-30T13:40:00-03:00\", \"2020-06-30T13:39:00-03:00\", \"2020-06-30T13:38:00-03:00\", \"2020-06-30T13:37:00-03:00\", \"2020-06-30T13:36:00-03:00\", \"2020-06-30T13:35:00-03:00\", \"2020-06-30T13:34:00-03:00\", \"2020-06-30T13:33:00-03:00\", \"2020-06-30T13:32:00-03:00\", \"2020-06-30T13:31:00-03:00\", \"2020-06-30T13:30:00-03:00\", \"2020-06-30T13:29:00-03:00\", \"2020-06-30T13:28:00-03:00\", \"2020-06-30T13:27:00-03:00\", \"2020-06-30T13:26:00-03:00\", \"2020-06-30T13:25:00-03:00\", \"2020-06-30T13:24:00-03:00\", \"2020-06-30T13:23:00-03:00\", \"2020-06-30T13:22:00-03:00\", \"2020-06-30T13:21:00-03:00\", \"2020-06-30T13:20:00-03:00\", \"2020-06-30T13:19:00-03:00\", \"2020-06-30T13:18:00-03:00\", \"2020-06-30T13:17:00-03:00\", \"2020-06-30T13:16:00-03:00\", \"2020-06-30T13:15:00-03:00\", \"2020-06-30T13:14:00-03:00\", \"2020-06-30T13:13:00-03:00\", \"2020-06-30T13:12:00-03:00\", \"2020-06-30T13:11:00-03:00\", \"2020-06-30T13:10:00-03:00\", \"2020-06-30T13:09:00-03:00\", \"2020-06-30T13:08:00-03:00\", \"2020-06-30T13:07:00-03:00\", \"2020-06-30T13:06:00-03:00\", \"2020-06-30T13:05:00-03:00\", \"2020-06-30T13:04:00-03:00\", \"2020-06-30T13:03:00-03:00\", \"2020-06-30T13:02:00-03:00\", \"2020-06-30T13:01:00-03:00\", \"2020-06-30T13:00:00-03:00\", \"2020-06-30T12:59:00-03:00\", \"2020-06-30T12:58:00-03:00\", \"2020-06-30T12:57:00-03:00\", \"2020-06-30T12:56:00-03:00\", \"2020-06-30T12:55:00-03:00\", \"2020-06-30T12:54:00-03:00\", \"2020-06-30T12:53:00-03:00\", \"2020-06-30T12:52:00-03:00\", \"2020-06-30T12:51:00-03:00\", \"2020-06-30T12:50:00-03:00\", \"2020-06-30T12:49:00-03:00\", \"2020-06-30T12:48:00-03:00\", \"2020-06-30T12:47:00-03:00\", \"2020-06-30T12:46:00-03:00\", \"2020-06-30T12:45:00-03:00\", \"2020-06-30T12:44:00-03:00\", \"2020-06-30T12:43:00-03:00\", \"2020-06-30T12:42:00-03:00\", \"2020-06-30T12:41:00-03:00\", \"2020-06-30T12:40:00-03:00\", \"2020-06-30T12:39:00-03:00\", \"2020-06-30T12:38:00-03:00\", \"2020-06-30T12:37:00-03:00\", \"2020-06-30T12:36:00-03:00\", \"2020-06-30T12:35:00-03:00\", \"2020-06-30T12:34:00-03:00\", \"2020-06-30T12:33:00-03:00\", \"2020-06-30T12:32:00-03:00\", \"2020-06-30T12:31:00-03:00\", \"2020-06-30T12:30:00-03:00\", \"2020-06-30T12:29:00-03:00\", \"2020-06-30T12:28:00-03:00\", \"2020-06-30T12:27:00-03:00\", \"2020-06-30T12:26:00-03:00\", \"2020-06-30T12:25:00-03:00\", \"2020-06-30T12:24:00-03:00\", \"2020-06-30T12:23:00-03:00\", \"2020-06-30T12:22:00-03:00\", \"2020-06-30T12:21:00-03:00\", \"2020-06-30T12:20:00-03:00\", \"2020-06-30T12:19:00-03:00\", \"2020-06-30T12:18:00-03:00\", \"2020-06-30T12:17:00-03:00\", \"2020-06-30T12:16:00-03:00\", \"2020-06-30T12:15:00-03:00\", \"2020-06-30T12:14:00-03:00\", \"2020-06-30T12:13:00-03:00\", \"2020-06-30T12:12:00-03:00\", \"2020-06-30T12:11:00-03:00\", \"2020-06-30T12:10:00-03:00\", \"2020-06-30T12:09:00-03:00\", \"2020-06-30T12:08:00-03:00\", \"2020-06-30T12:07:00-03:00\", \"2020-06-30T12:06:00-03:00\", \"2020-06-30T12:05:00-03:00\", \"2020-06-30T12:04:00-03:00\", \"2020-06-30T12:03:00-03:00\", \"2020-06-30T12:02:00-03:00\", \"2020-06-30T12:01:00-03:00\", \"2020-06-30T12:00:00-03:00\", \"2020-06-30T11:59:00-03:00\", \"2020-06-30T11:58:00-03:00\", \"2020-06-30T11:57:00-03:00\", \"2020-06-30T11:56:00-03:00\", \"2020-06-30T11:55:00-03:00\", \"2020-06-30T11:54:00-03:00\", \"2020-06-30T11:53:00-03:00\", \"2020-06-30T11:52:00-03:00\", \"2020-06-30T11:51:00-03:00\", \"2020-06-30T11:50:00-03:00\", \"2020-06-30T11:48:00-03:00\", \"2020-06-30T11:47:00-03:00\", \"2020-06-30T11:46:00-03:00\", \"2020-06-30T11:45:00-03:00\", \"2020-06-30T11:44:00-03:00\", \"2020-06-30T11:43:00-03:00\", \"2020-06-30T11:42:00-03:00\", \"2020-06-30T11:41:00-03:00\", \"2020-06-30T11:40:00-03:00\", \"2020-06-30T11:39:00-03:00\", \"2020-06-30T11:38:00-03:00\", \"2020-06-30T11:37:00-03:00\", \"2020-06-30T11:36:00-03:00\", \"2020-06-30T11:35:00-03:00\", \"2020-06-30T11:34:00-03:00\", \"2020-06-30T11:33:00-03:00\", \"2020-06-30T11:32:00-03:00\", \"2020-06-30T11:31:00-03:00\", \"2020-06-30T11:30:00-03:00\", \"2020-06-30T11:29:00-03:00\", \"2020-06-30T11:28:00-03:00\", \"2020-06-30T11:27:00-03:00\", \"2020-06-30T11:26:00-03:00\", \"2020-06-30T11:25:00-03:00\", \"2020-06-30T11:24:00-03:00\", \"2020-06-30T11:23:00-03:00\", \"2020-06-30T11:22:00-03:00\", \"2020-06-30T11:21:00-03:00\", \"2020-06-30T11:20:00-03:00\", \"2020-06-30T11:19:00-03:00\", \"2020-06-30T11:18:00-03:00\", \"2020-06-30T11:17:00-03:00\", \"2020-06-30T11:16:00-03:00\", \"2020-06-30T11:15:00-03:00\", \"2020-06-30T11:14:00-03:00\", \"2020-06-30T11:13:00-03:00\", \"2020-06-30T11:12:00-03:00\", \"2020-06-30T11:11:00-03:00\", \"2020-06-30T11:10:00-03:00\", \"2020-06-30T11:09:00-03:00\", \"2020-06-30T11:08:00-03:00\", \"2020-06-30T11:07:00-03:00\", \"2020-06-30T11:06:00-03:00\", \"2020-06-30T11:05:00-03:00\", \"2020-06-30T11:04:00-03:00\", \"2020-06-30T11:03:00-03:00\", \"2020-06-30T11:02:00-03:00\", \"2020-06-30T11:01:00-03:00\", \"2020-06-30T11:00:00-03:00\", \"2020-06-30T10:59:00-03:00\", \"2020-06-30T10:58:00-03:00\", \"2020-06-30T10:57:00-03:00\", \"2020-06-30T10:56:00-03:00\", \"2020-06-30T10:55:00-03:00\", \"2020-06-30T10:54:00-03:00\", \"2020-06-30T10:53:00-03:00\", \"2020-06-30T10:52:00-03:00\", \"2020-06-30T10:51:00-03:00\", \"2020-06-30T10:50:00-03:00\", \"2020-06-30T10:49:00-03:00\", \"2020-06-30T10:48:00-03:00\", \"2020-06-30T10:47:00-03:00\", \"2020-06-30T10:46:00-03:00\", \"2020-06-30T10:45:00-03:00\", \"2020-06-30T10:44:00-03:00\", \"2020-06-30T10:43:00-03:00\", \"2020-06-30T10:42:00-03:00\", \"2020-06-30T10:41:00-03:00\", \"2020-06-30T10:40:00-03:00\", \"2020-06-30T10:39:00-03:00\", \"2020-06-30T10:38:00-03:00\", \"2020-06-30T10:37:00-03:00\", \"2020-06-30T10:36:00-03:00\", \"2020-06-30T10:35:00-03:00\", \"2020-06-30T10:34:00-03:00\", \"2020-06-30T10:33:00-03:00\", \"2020-06-30T10:32:00-03:00\", \"2020-06-30T10:31:00-03:00\", \"2020-06-30T10:30:00-03:00\", \"2020-06-30T10:29:00-03:00\", \"2020-06-30T10:28:00-03:00\", \"2020-06-30T10:27:00-03:00\", \"2020-06-30T10:26:00-03:00\", \"2020-06-30T10:24:00-03:00\", \"2020-06-30T10:23:00-03:00\", \"2020-06-30T10:22:00-03:00\", \"2020-06-30T10:21:00-03:00\", \"2020-06-30T10:20:00-03:00\", \"2020-06-30T10:19:00-03:00\", \"2020-06-30T10:18:00-03:00\", \"2020-06-30T10:17:00-03:00\", \"2020-06-30T10:16:00-03:00\", \"2020-06-30T10:15:00-03:00\", \"2020-06-30T10:14:00-03:00\", \"2020-06-30T10:13:00-03:00\", \"2020-06-30T10:12:00-03:00\", \"2020-06-30T10:11:00-03:00\"], \"y\": [null, null, null, null, null, null, null, null, null, null, null, null, null, null, 21.60066666666667, 21.601333333333336, 21.60333333333334, 21.60466666666667, 21.608, 21.609333333333336, 21.609333333333336, 21.612000000000002, 21.615333333333336, 21.620000000000005, 21.621333333333336, 21.624000000000002, 21.626666666666665, 21.627999999999997, 21.629333333333328, 21.631999999999994, 21.631333333333327, 21.630666666666663, 21.629999999999995, 21.624666666666663, 21.621999999999996, 21.618666666666662, 21.613999999999994, 21.61066666666666, 21.606666666666662, 21.603333333333328, 21.601999999999993, 21.599999999999998, 21.600666666666662, 21.600666666666662, 21.600666666666662, 21.603333333333328, 21.60666666666666, 21.60799999999999, 21.611999999999988, 21.61599999999999, 21.620666666666654, 21.625333333333323, 21.626666666666658, 21.626666666666658, 21.62599999999999, 21.623333333333324, 21.61866666666666, 21.61266666666666, 21.605333333333324, 21.596666666666657, 21.58666666666666, 21.57733333333333, 21.569333333333326, 21.56266666666666, 21.556666666666665, 21.549333333333333, 21.54266666666667, 21.537333333333336, 21.532, 21.528000000000002, 21.524, 21.52333333333333, 21.522666666666666, 21.524, 21.526666666666667, 21.529333333333337, 21.53133333333334, 21.532000000000004, 21.531333333333336, 21.529999999999998, 21.528666666666663, 21.52666666666666, 21.525333333333325, 21.525999999999993, 21.525333333333325, 21.523999999999994, 21.523333333333326, 21.520666666666664, 21.51866666666666, 21.515999999999995, 21.512666666666657, 21.50999999999999, 21.50866666666666, 21.50866666666666, 21.509333333333323, 21.50866666666666, 21.50999999999999, 21.50999999999999, 21.50666666666666, 21.50466666666666, 21.50733333333333, 21.508666666666667, 21.512666666666668, 21.514666666666667, 21.51666666666667, 21.520000000000003, 21.522000000000002, 21.527333333333335, 21.53066666666667, 21.534, 21.538666666666664, 21.543999999999997, 21.55333333333333, 21.56333333333333, 21.573999999999995, 21.581333333333323, 21.590666666666657, 21.597999999999992, 21.60599999999999, 21.613333333333323, 21.62066666666665, 21.627333333333315, 21.631999999999984, 21.637333333333313, 21.643333333333317, 21.647333333333318, 21.651333333333316, 21.651999999999987, 21.65533333333332, 21.654666666666653, 21.651333333333323, 21.645999999999994, 21.636666666666656, 21.627999999999986, 21.61933333333332, 21.60933333333332, 21.59799999999999, 21.587333333333323, 21.574666666666655, 21.56199999999999, 21.54999999999999, 21.53399999999999, 21.518666666666654, 21.499999999999986, 21.48533333333332, 21.47333333333332, 21.460666666666654, 21.451999999999988, 21.44133333333332, 21.431999999999984, 21.422666666666654, 21.41733333333332, 21.40733333333332, 21.39933333333332, 21.391999999999985, 21.38733333333332, 21.381999999999987, 21.372666666666653, 21.364666666666654, 21.35866666666665, 21.349333333333316, 21.33999999999998, 21.330666666666648, 21.322666666666645, 21.313333333333315, 21.30733333333331, 21.299333333333312, 21.292666666666648, 21.285999999999984, 21.27666666666665, 21.267999999999983, 21.263999999999985, 21.263999999999985, 21.265999999999984, 21.261999999999986, 21.260666666666648, 21.258666666666652, 21.257999999999985, 21.257999999999985, 21.258666666666652, 21.256666666666653, 21.253999999999987, 21.25199999999999, 21.24933333333332, 21.246666666666652, 21.243333333333318, 21.237333333333314, 21.227999999999977, 21.21733333333331, 21.208666666666645, 21.19933333333331, 21.19133333333331, 21.183333333333312, 21.177333333333312, 21.170666666666644, 21.166666666666643, 21.161333333333307, 21.154666666666643, 21.149999999999977, 21.14733333333331, 21.142666666666642, 21.14133333333331, 21.142666666666646, 21.147333333333314, 21.157333333333312, 21.16599999999998, 21.174666666666646, 21.185333333333308, 21.193333333333307, 21.20066666666664, 21.207333333333306, 21.219999999999974, 21.235333333333305, 21.249333333333304, 21.260666666666637, 21.272666666666638, 21.2793333333333, 21.286666666666637, 21.28999999999997, 21.289333333333307, 21.290666666666638, 21.293333333333305, 21.292666666666637, 21.292666666666637, 21.29599999999997, 21.300666666666636, 21.29999999999997, 21.29799999999997, 21.29666666666664]}, {\"type\": \"scatter\", \"x\": [\"2020-06-30T14:01:00-03:00\", \"2020-06-30T14:00:00-03:00\", \"2020-06-30T13:59:00-03:00\", \"2020-06-30T13:58:00-03:00\", \"2020-06-30T13:57:00-03:00\", \"2020-06-30T13:56:00-03:00\", \"2020-06-30T13:55:00-03:00\", \"2020-06-30T13:54:00-03:00\", \"2020-06-30T13:53:00-03:00\", \"2020-06-30T13:52:00-03:00\", \"2020-06-30T13:51:00-03:00\", \"2020-06-30T13:50:00-03:00\", \"2020-06-30T13:49:00-03:00\", \"2020-06-30T13:48:00-03:00\", \"2020-06-30T13:47:00-03:00\", \"2020-06-30T13:46:00-03:00\", \"2020-06-30T13:45:00-03:00\", \"2020-06-30T13:44:00-03:00\", \"2020-06-30T13:43:00-03:00\", \"2020-06-30T13:42:00-03:00\", \"2020-06-30T13:41:00-03:00\", \"2020-06-30T13:40:00-03:00\", \"2020-06-30T13:39:00-03:00\", \"2020-06-30T13:38:00-03:00\", \"2020-06-30T13:37:00-03:00\", \"2020-06-30T13:36:00-03:00\", \"2020-06-30T13:35:00-03:00\", \"2020-06-30T13:34:00-03:00\", \"2020-06-30T13:33:00-03:00\", \"2020-06-30T13:32:00-03:00\", \"2020-06-30T13:31:00-03:00\", \"2020-06-30T13:30:00-03:00\", \"2020-06-30T13:29:00-03:00\", \"2020-06-30T13:28:00-03:00\", \"2020-06-30T13:27:00-03:00\", \"2020-06-30T13:26:00-03:00\", \"2020-06-30T13:25:00-03:00\", \"2020-06-30T13:24:00-03:00\", \"2020-06-30T13:23:00-03:00\", \"2020-06-30T13:22:00-03:00\", \"2020-06-30T13:21:00-03:00\", \"2020-06-30T13:20:00-03:00\", \"2020-06-30T13:19:00-03:00\", \"2020-06-30T13:18:00-03:00\", \"2020-06-30T13:17:00-03:00\", \"2020-06-30T13:16:00-03:00\", \"2020-06-30T13:15:00-03:00\", \"2020-06-30T13:14:00-03:00\", \"2020-06-30T13:13:00-03:00\", \"2020-06-30T13:12:00-03:00\", \"2020-06-30T13:11:00-03:00\", \"2020-06-30T13:10:00-03:00\", \"2020-06-30T13:09:00-03:00\", \"2020-06-30T13:08:00-03:00\", \"2020-06-30T13:07:00-03:00\", \"2020-06-30T13:06:00-03:00\", \"2020-06-30T13:05:00-03:00\", \"2020-06-30T13:04:00-03:00\", \"2020-06-30T13:03:00-03:00\", \"2020-06-30T13:02:00-03:00\", \"2020-06-30T13:01:00-03:00\", \"2020-06-30T13:00:00-03:00\", \"2020-06-30T12:59:00-03:00\", \"2020-06-30T12:58:00-03:00\", \"2020-06-30T12:57:00-03:00\", \"2020-06-30T12:56:00-03:00\", \"2020-06-30T12:55:00-03:00\", \"2020-06-30T12:54:00-03:00\", \"2020-06-30T12:53:00-03:00\", \"2020-06-30T12:52:00-03:00\", \"2020-06-30T12:51:00-03:00\", \"2020-06-30T12:50:00-03:00\", \"2020-06-30T12:49:00-03:00\", \"2020-06-30T12:48:00-03:00\", \"2020-06-30T12:47:00-03:00\", \"2020-06-30T12:46:00-03:00\", \"2020-06-30T12:45:00-03:00\", \"2020-06-30T12:44:00-03:00\", \"2020-06-30T12:43:00-03:00\", \"2020-06-30T12:42:00-03:00\", \"2020-06-30T12:41:00-03:00\", \"2020-06-30T12:40:00-03:00\", \"2020-06-30T12:39:00-03:00\", \"2020-06-30T12:38:00-03:00\", \"2020-06-30T12:37:00-03:00\", \"2020-06-30T12:36:00-03:00\", \"2020-06-30T12:35:00-03:00\", \"2020-06-30T12:34:00-03:00\", \"2020-06-30T12:33:00-03:00\", \"2020-06-30T12:32:00-03:00\", \"2020-06-30T12:31:00-03:00\", \"2020-06-30T12:30:00-03:00\", \"2020-06-30T12:29:00-03:00\", \"2020-06-30T12:28:00-03:00\", \"2020-06-30T12:27:00-03:00\", \"2020-06-30T12:26:00-03:00\", \"2020-06-30T12:25:00-03:00\", \"2020-06-30T12:24:00-03:00\", \"2020-06-30T12:23:00-03:00\", \"2020-06-30T12:22:00-03:00\", \"2020-06-30T12:21:00-03:00\", \"2020-06-30T12:20:00-03:00\", \"2020-06-30T12:19:00-03:00\", \"2020-06-30T12:18:00-03:00\", \"2020-06-30T12:17:00-03:00\", \"2020-06-30T12:16:00-03:00\", \"2020-06-30T12:15:00-03:00\", \"2020-06-30T12:14:00-03:00\", \"2020-06-30T12:13:00-03:00\", \"2020-06-30T12:12:00-03:00\", \"2020-06-30T12:11:00-03:00\", \"2020-06-30T12:10:00-03:00\", \"2020-06-30T12:09:00-03:00\", \"2020-06-30T12:08:00-03:00\", \"2020-06-30T12:07:00-03:00\", \"2020-06-30T12:06:00-03:00\", \"2020-06-30T12:05:00-03:00\", \"2020-06-30T12:04:00-03:00\", \"2020-06-30T12:03:00-03:00\", \"2020-06-30T12:02:00-03:00\", \"2020-06-30T12:01:00-03:00\", \"2020-06-30T12:00:00-03:00\", \"2020-06-30T11:59:00-03:00\", \"2020-06-30T11:58:00-03:00\", \"2020-06-30T11:57:00-03:00\", \"2020-06-30T11:56:00-03:00\", \"2020-06-30T11:55:00-03:00\", \"2020-06-30T11:54:00-03:00\", \"2020-06-30T11:53:00-03:00\", \"2020-06-30T11:52:00-03:00\", \"2020-06-30T11:51:00-03:00\", \"2020-06-30T11:50:00-03:00\", \"2020-06-30T11:48:00-03:00\", \"2020-06-30T11:47:00-03:00\", \"2020-06-30T11:46:00-03:00\", \"2020-06-30T11:45:00-03:00\", \"2020-06-30T11:44:00-03:00\", \"2020-06-30T11:43:00-03:00\", \"2020-06-30T11:42:00-03:00\", \"2020-06-30T11:41:00-03:00\", \"2020-06-30T11:40:00-03:00\", \"2020-06-30T11:39:00-03:00\", \"2020-06-30T11:38:00-03:00\", \"2020-06-30T11:37:00-03:00\", \"2020-06-30T11:36:00-03:00\", \"2020-06-30T11:35:00-03:00\", \"2020-06-30T11:34:00-03:00\", \"2020-06-30T11:33:00-03:00\", \"2020-06-30T11:32:00-03:00\", \"2020-06-30T11:31:00-03:00\", \"2020-06-30T11:30:00-03:00\", \"2020-06-30T11:29:00-03:00\", \"2020-06-30T11:28:00-03:00\", \"2020-06-30T11:27:00-03:00\", \"2020-06-30T11:26:00-03:00\", \"2020-06-30T11:25:00-03:00\", \"2020-06-30T11:24:00-03:00\", \"2020-06-30T11:23:00-03:00\", \"2020-06-30T11:22:00-03:00\", \"2020-06-30T11:21:00-03:00\", \"2020-06-30T11:20:00-03:00\", \"2020-06-30T11:19:00-03:00\", \"2020-06-30T11:18:00-03:00\", \"2020-06-30T11:17:00-03:00\", \"2020-06-30T11:16:00-03:00\", \"2020-06-30T11:15:00-03:00\", \"2020-06-30T11:14:00-03:00\", \"2020-06-30T11:13:00-03:00\", \"2020-06-30T11:12:00-03:00\", \"2020-06-30T11:11:00-03:00\", \"2020-06-30T11:10:00-03:00\", \"2020-06-30T11:09:00-03:00\", \"2020-06-30T11:08:00-03:00\", \"2020-06-30T11:07:00-03:00\", \"2020-06-30T11:06:00-03:00\", \"2020-06-30T11:05:00-03:00\", \"2020-06-30T11:04:00-03:00\", \"2020-06-30T11:03:00-03:00\", \"2020-06-30T11:02:00-03:00\", \"2020-06-30T11:01:00-03:00\", \"2020-06-30T11:00:00-03:00\", \"2020-06-30T10:59:00-03:00\", \"2020-06-30T10:58:00-03:00\", \"2020-06-30T10:57:00-03:00\", \"2020-06-30T10:56:00-03:00\", \"2020-06-30T10:55:00-03:00\", \"2020-06-30T10:54:00-03:00\", \"2020-06-30T10:53:00-03:00\", \"2020-06-30T10:52:00-03:00\", \"2020-06-30T10:51:00-03:00\", \"2020-06-30T10:50:00-03:00\", \"2020-06-30T10:49:00-03:00\", \"2020-06-30T10:48:00-03:00\", \"2020-06-30T10:47:00-03:00\", \"2020-06-30T10:46:00-03:00\", \"2020-06-30T10:45:00-03:00\", \"2020-06-30T10:44:00-03:00\", \"2020-06-30T10:43:00-03:00\", \"2020-06-30T10:42:00-03:00\", \"2020-06-30T10:41:00-03:00\", \"2020-06-30T10:40:00-03:00\", \"2020-06-30T10:39:00-03:00\", \"2020-06-30T10:38:00-03:00\", \"2020-06-30T10:37:00-03:00\", \"2020-06-30T10:36:00-03:00\", \"2020-06-30T10:35:00-03:00\", \"2020-06-30T10:34:00-03:00\", \"2020-06-30T10:33:00-03:00\", \"2020-06-30T10:32:00-03:00\", \"2020-06-30T10:31:00-03:00\", \"2020-06-30T10:30:00-03:00\", \"2020-06-30T10:29:00-03:00\", \"2020-06-30T10:28:00-03:00\", \"2020-06-30T10:27:00-03:00\", \"2020-06-30T10:26:00-03:00\", \"2020-06-30T10:24:00-03:00\", \"2020-06-30T10:23:00-03:00\", \"2020-06-30T10:22:00-03:00\", \"2020-06-30T10:21:00-03:00\", \"2020-06-30T10:20:00-03:00\", \"2020-06-30T10:19:00-03:00\", \"2020-06-30T10:18:00-03:00\", \"2020-06-30T10:17:00-03:00\", \"2020-06-30T10:16:00-03:00\", \"2020-06-30T10:15:00-03:00\", \"2020-06-30T10:14:00-03:00\", \"2020-06-30T10:13:00-03:00\", \"2020-06-30T10:12:00-03:00\", \"2020-06-30T10:11:00-03:00\"], \"y\": [null, null, null, null, 21.595999999999997, 21.598, 21.602, 21.6, 21.598000000000003, 21.604000000000003, 21.6, 21.6, 21.601999999999997, 21.606, 21.601999999999997, 21.606, 21.607999999999997, 21.612000000000002, 21.62, 21.622000000000003, 21.622000000000003, 21.628, 21.631999999999998, 21.633999999999997, 21.64, 21.644, 21.644000000000002, 21.64, 21.634000000000004, 21.634, 21.628, 21.62, 21.618000000000002, 21.606, 21.592, 21.584, 21.578000000000003, 21.574000000000005, 21.580000000000005, 21.58400000000001, 21.594000000000012, 21.60200000000001, 21.610000000000007, 21.616000000000007, 21.626000000000005, 21.632000000000005, 21.640000000000008, 21.640000000000008, 21.640000000000008, 21.63800000000001, 21.636000000000006, 21.634000000000007, 21.630000000000006, 21.624000000000006, 21.61400000000001, 21.602000000000007, 21.582000000000008, 21.56800000000001, 21.55200000000001, 21.538000000000007, 21.522000000000013, 21.516000000000012, 21.510000000000012, 21.512000000000015, 21.518000000000015, 21.52400000000001, 21.53000000000001, 21.534000000000013, 21.53200000000001, 21.528000000000013, 21.526000000000018, 21.52400000000002, 21.52400000000002, 21.528000000000016, 21.534000000000017, 21.538000000000018, 21.54000000000002, 21.53800000000002, 21.534000000000027, 21.528000000000027, 21.52200000000003, 21.51600000000003, 21.51400000000003, 21.516000000000027, 21.51400000000003, 21.512000000000032, 21.51400000000003, 21.510000000000026, 21.50600000000003, 21.506000000000025, 21.504000000000026, 21.500000000000025, 21.502000000000024, 21.504000000000023, 21.508000000000024, 21.510000000000026, 21.51600000000003, 21.51800000000003, 21.510000000000026, 21.50000000000003, 21.508000000000028, 21.510000000000026, 21.518000000000026, 21.530000000000026, 21.542000000000026, 21.54200000000003, 21.54000000000003, 21.546000000000028, 21.55200000000003, 21.56000000000003, 21.56600000000003, 21.582000000000033, 21.596000000000036, 21.60800000000004, 21.620000000000037, 21.636000000000035, 21.650000000000038, 21.652000000000037, 21.658000000000037, 21.66000000000004, 21.660000000000036, 21.650000000000034, 21.648000000000035, 21.646000000000036, 21.65000000000004, 21.646000000000036, 21.654000000000043, 21.65600000000004, 21.66200000000004, 21.65400000000004, 21.648000000000042, 21.63400000000004, 21.60600000000004, 21.57600000000004, 21.55400000000004, 21.53400000000004, 21.506000000000046, 21.50000000000005, 21.486000000000047, 21.478000000000044, 21.468000000000046, 21.462000000000046, 21.45000000000005, 21.438000000000045, 21.424000000000042, 21.418000000000042, 21.414000000000044, 21.40600000000004, 21.40000000000004, 21.39400000000004, 21.38200000000004, 21.376000000000044, 21.366000000000046, 21.360000000000042, 21.358000000000043, 21.362000000000045, 21.356000000000044, 21.346000000000043, 21.334000000000042, 21.32400000000004, 21.30400000000004, 21.28800000000004, 21.28000000000004, 21.27400000000004, 21.258000000000038, 21.256000000000036, 21.25400000000004, 21.252000000000038, 21.250000000000036, 21.24800000000004, 21.24400000000004, 21.250000000000036, 21.26000000000004, 21.27400000000004, 21.28000000000004, 21.282000000000043, 21.27200000000004, 21.26200000000004, 21.25000000000004, 21.24800000000004, 21.244000000000035, 21.240000000000038, 21.23400000000004, 21.22400000000004, 21.21200000000004, 21.204000000000043, 21.200000000000042, 21.188000000000038, 21.17800000000004, 21.16600000000004, 21.15000000000004, 21.13400000000004, 21.128000000000043, 21.13000000000004, 21.134000000000043, 21.146000000000043, 21.15000000000004, 21.148000000000042, 21.142000000000042, 21.142000000000042, 21.13200000000004, 21.14000000000004, 21.15200000000004, 21.17000000000004, 21.196000000000044, 21.220000000000045, 21.234000000000044, 21.256000000000043, 21.268000000000043, 21.264000000000046, 21.270000000000046, 21.286000000000044, 21.298000000000044, 21.310000000000045, 21.322000000000045, 21.328000000000046, 21.318000000000048, 21.306000000000047, 21.292000000000044, 21.282000000000046, 21.274000000000044, 21.276000000000046, 21.274000000000044, 21.276000000000046, 21.284000000000045, 21.300000000000047, 21.30600000000005, 21.314000000000053, 21.322000000000052]}],\n",
       "                        {\"template\": {\"data\": {\"bar\": [{\"error_x\": {\"color\": \"#2a3f5f\"}, \"error_y\": {\"color\": \"#2a3f5f\"}, \"marker\": {\"line\": {\"color\": \"#E5ECF6\", \"width\": 0.5}}, \"type\": \"bar\"}], \"barpolar\": [{\"marker\": {\"line\": {\"color\": \"#E5ECF6\", \"width\": 0.5}}, \"type\": \"barpolar\"}], \"carpet\": [{\"aaxis\": {\"endlinecolor\": \"#2a3f5f\", \"gridcolor\": \"white\", \"linecolor\": \"white\", \"minorgridcolor\": \"white\", \"startlinecolor\": \"#2a3f5f\"}, \"baxis\": {\"endlinecolor\": \"#2a3f5f\", \"gridcolor\": \"white\", \"linecolor\": \"white\", \"minorgridcolor\": \"white\", \"startlinecolor\": \"#2a3f5f\"}, \"type\": \"carpet\"}], \"choropleth\": [{\"colorbar\": {\"outlinewidth\": 0, \"ticks\": \"\"}, \"type\": \"choropleth\"}], \"contour\": [{\"colorbar\": {\"outlinewidth\": 0, \"ticks\": \"\"}, \"colorscale\": [[0.0, \"#0d0887\"], [0.1111111111111111, \"#46039f\"], [0.2222222222222222, \"#7201a8\"], [0.3333333333333333, \"#9c179e\"], [0.4444444444444444, \"#bd3786\"], [0.5555555555555556, \"#d8576b\"], [0.6666666666666666, \"#ed7953\"], [0.7777777777777778, \"#fb9f3a\"], [0.8888888888888888, \"#fdca26\"], [1.0, \"#f0f921\"]], \"type\": \"contour\"}], \"contourcarpet\": [{\"colorbar\": {\"outlinewidth\": 0, \"ticks\": \"\"}, \"type\": \"contourcarpet\"}], \"heatmap\": [{\"colorbar\": {\"outlinewidth\": 0, \"ticks\": \"\"}, \"colorscale\": [[0.0, \"#0d0887\"], [0.1111111111111111, \"#46039f\"], [0.2222222222222222, \"#7201a8\"], [0.3333333333333333, \"#9c179e\"], [0.4444444444444444, \"#bd3786\"], [0.5555555555555556, \"#d8576b\"], [0.6666666666666666, \"#ed7953\"], [0.7777777777777778, \"#fb9f3a\"], [0.8888888888888888, \"#fdca26\"], [1.0, \"#f0f921\"]], \"type\": \"heatmap\"}], \"heatmapgl\": [{\"colorbar\": {\"outlinewidth\": 0, \"ticks\": \"\"}, \"colorscale\": [[0.0, \"#0d0887\"], [0.1111111111111111, \"#46039f\"], [0.2222222222222222, \"#7201a8\"], [0.3333333333333333, \"#9c179e\"], [0.4444444444444444, \"#bd3786\"], [0.5555555555555556, \"#d8576b\"], [0.6666666666666666, \"#ed7953\"], [0.7777777777777778, \"#fb9f3a\"], [0.8888888888888888, \"#fdca26\"], [1.0, \"#f0f921\"]], \"type\": \"heatmapgl\"}], \"histogram\": [{\"marker\": {\"colorbar\": {\"outlinewidth\": 0, \"ticks\": \"\"}}, \"type\": \"histogram\"}], \"histogram2d\": [{\"colorbar\": {\"outlinewidth\": 0, \"ticks\": \"\"}, \"colorscale\": [[0.0, \"#0d0887\"], [0.1111111111111111, \"#46039f\"], [0.2222222222222222, \"#7201a8\"], [0.3333333333333333, \"#9c179e\"], [0.4444444444444444, \"#bd3786\"], [0.5555555555555556, \"#d8576b\"], [0.6666666666666666, \"#ed7953\"], [0.7777777777777778, \"#fb9f3a\"], [0.8888888888888888, \"#fdca26\"], [1.0, \"#f0f921\"]], \"type\": \"histogram2d\"}], \"histogram2dcontour\": [{\"colorbar\": {\"outlinewidth\": 0, \"ticks\": \"\"}, \"colorscale\": [[0.0, \"#0d0887\"], [0.1111111111111111, \"#46039f\"], [0.2222222222222222, \"#7201a8\"], [0.3333333333333333, \"#9c179e\"], [0.4444444444444444, \"#bd3786\"], [0.5555555555555556, \"#d8576b\"], [0.6666666666666666, \"#ed7953\"], [0.7777777777777778, \"#fb9f3a\"], [0.8888888888888888, \"#fdca26\"], [1.0, \"#f0f921\"]], \"type\": \"histogram2dcontour\"}], \"mesh3d\": [{\"colorbar\": {\"outlinewidth\": 0, \"ticks\": \"\"}, \"type\": \"mesh3d\"}], \"parcoords\": [{\"line\": {\"colorbar\": {\"outlinewidth\": 0, \"ticks\": \"\"}}, \"type\": \"parcoords\"}], \"pie\": [{\"automargin\": true, \"type\": \"pie\"}], \"scatter\": [{\"marker\": {\"colorbar\": {\"outlinewidth\": 0, \"ticks\": \"\"}}, \"type\": \"scatter\"}], \"scatter3d\": [{\"line\": {\"colorbar\": {\"outlinewidth\": 0, \"ticks\": \"\"}}, \"marker\": {\"colorbar\": {\"outlinewidth\": 0, \"ticks\": \"\"}}, \"type\": \"scatter3d\"}], \"scattercarpet\": [{\"marker\": {\"colorbar\": {\"outlinewidth\": 0, \"ticks\": \"\"}}, \"type\": \"scattercarpet\"}], \"scattergeo\": [{\"marker\": {\"colorbar\": {\"outlinewidth\": 0, \"ticks\": \"\"}}, \"type\": \"scattergeo\"}], \"scattergl\": [{\"marker\": {\"colorbar\": {\"outlinewidth\": 0, \"ticks\": \"\"}}, \"type\": \"scattergl\"}], \"scattermapbox\": [{\"marker\": {\"colorbar\": {\"outlinewidth\": 0, \"ticks\": \"\"}}, \"type\": \"scattermapbox\"}], \"scatterpolar\": [{\"marker\": {\"colorbar\": {\"outlinewidth\": 0, \"ticks\": \"\"}}, \"type\": \"scatterpolar\"}], \"scatterpolargl\": [{\"marker\": {\"colorbar\": {\"outlinewidth\": 0, \"ticks\": \"\"}}, \"type\": \"scatterpolargl\"}], \"scatterternary\": [{\"marker\": {\"colorbar\": {\"outlinewidth\": 0, \"ticks\": \"\"}}, \"type\": \"scatterternary\"}], \"surface\": [{\"colorbar\": {\"outlinewidth\": 0, \"ticks\": \"\"}, \"colorscale\": [[0.0, \"#0d0887\"], [0.1111111111111111, \"#46039f\"], [0.2222222222222222, \"#7201a8\"], [0.3333333333333333, \"#9c179e\"], [0.4444444444444444, \"#bd3786\"], [0.5555555555555556, \"#d8576b\"], [0.6666666666666666, \"#ed7953\"], [0.7777777777777778, \"#fb9f3a\"], [0.8888888888888888, \"#fdca26\"], [1.0, \"#f0f921\"]], \"type\": \"surface\"}], \"table\": [{\"cells\": {\"fill\": {\"color\": \"#EBF0F8\"}, \"line\": {\"color\": \"white\"}}, \"header\": {\"fill\": {\"color\": \"#C8D4E3\"}, \"line\": {\"color\": \"white\"}}, \"type\": \"table\"}]}, \"layout\": {\"annotationdefaults\": {\"arrowcolor\": \"#2a3f5f\", \"arrowhead\": 0, \"arrowwidth\": 1}, \"coloraxis\": {\"colorbar\": {\"outlinewidth\": 0, \"ticks\": \"\"}}, \"colorscale\": {\"diverging\": [[0, \"#8e0152\"], [0.1, \"#c51b7d\"], [0.2, \"#de77ae\"], [0.3, \"#f1b6da\"], [0.4, \"#fde0ef\"], [0.5, \"#f7f7f7\"], [0.6, \"#e6f5d0\"], [0.7, \"#b8e186\"], [0.8, \"#7fbc41\"], [0.9, \"#4d9221\"], [1, \"#276419\"]], \"sequential\": [[0.0, \"#0d0887\"], [0.1111111111111111, \"#46039f\"], [0.2222222222222222, \"#7201a8\"], [0.3333333333333333, \"#9c179e\"], [0.4444444444444444, \"#bd3786\"], [0.5555555555555556, \"#d8576b\"], [0.6666666666666666, \"#ed7953\"], [0.7777777777777778, \"#fb9f3a\"], [0.8888888888888888, \"#fdca26\"], [1.0, \"#f0f921\"]], \"sequentialminus\": [[0.0, \"#0d0887\"], [0.1111111111111111, \"#46039f\"], [0.2222222222222222, \"#7201a8\"], [0.3333333333333333, \"#9c179e\"], [0.4444444444444444, \"#bd3786\"], [0.5555555555555556, \"#d8576b\"], [0.6666666666666666, \"#ed7953\"], [0.7777777777777778, \"#fb9f3a\"], [0.8888888888888888, \"#fdca26\"], [1.0, \"#f0f921\"]]}, \"colorway\": [\"#636efa\", \"#EF553B\", \"#00cc96\", \"#ab63fa\", \"#FFA15A\", \"#19d3f3\", \"#FF6692\", \"#B6E880\", \"#FF97FF\", \"#FECB52\"], \"font\": {\"color\": \"#2a3f5f\"}, \"geo\": {\"bgcolor\": \"white\", \"lakecolor\": \"white\", \"landcolor\": \"#E5ECF6\", \"showlakes\": true, \"showland\": true, \"subunitcolor\": \"white\"}, \"hoverlabel\": {\"align\": \"left\"}, \"hovermode\": \"closest\", \"mapbox\": {\"style\": \"light\"}, \"paper_bgcolor\": \"white\", \"plot_bgcolor\": \"#E5ECF6\", \"polar\": {\"angularaxis\": {\"gridcolor\": \"white\", \"linecolor\": \"white\", \"ticks\": \"\"}, \"bgcolor\": \"#E5ECF6\", \"radialaxis\": {\"gridcolor\": \"white\", \"linecolor\": \"white\", \"ticks\": \"\"}}, \"scene\": {\"xaxis\": {\"backgroundcolor\": \"#E5ECF6\", \"gridcolor\": \"white\", \"gridwidth\": 2, \"linecolor\": \"white\", \"showbackground\": true, \"ticks\": \"\", \"zerolinecolor\": \"white\"}, \"yaxis\": {\"backgroundcolor\": \"#E5ECF6\", \"gridcolor\": \"white\", \"gridwidth\": 2, \"linecolor\": \"white\", \"showbackground\": true, \"ticks\": \"\", \"zerolinecolor\": \"white\"}, \"zaxis\": {\"backgroundcolor\": \"#E5ECF6\", \"gridcolor\": \"white\", \"gridwidth\": 2, \"linecolor\": \"white\", \"showbackground\": true, \"ticks\": \"\", \"zerolinecolor\": \"white\"}}, \"shapedefaults\": {\"line\": {\"color\": \"#2a3f5f\"}}, \"ternary\": {\"aaxis\": {\"gridcolor\": \"white\", \"linecolor\": \"white\", \"ticks\": \"\"}, \"baxis\": {\"gridcolor\": \"white\", \"linecolor\": \"white\", \"ticks\": \"\"}, \"bgcolor\": \"#E5ECF6\", \"caxis\": {\"gridcolor\": \"white\", \"linecolor\": \"white\", \"ticks\": \"\"}}, \"title\": {\"x\": 0.05}, \"xaxis\": {\"automargin\": true, \"gridcolor\": \"white\", \"linecolor\": \"white\", \"ticks\": \"\", \"title\": {\"standoff\": 15}, \"zerolinecolor\": \"white\", \"zerolinewidth\": 2}, \"yaxis\": {\"automargin\": true, \"gridcolor\": \"white\", \"linecolor\": \"white\", \"ticks\": \"\", \"title\": {\"standoff\": 15}, \"zerolinecolor\": \"white\", \"zerolinewidth\": 2}}}},\n",
       "                        {\"responsive\": true}\n",
       "                    ).then(function(){\n",
       "                            \n",
       "var gd = document.getElementById('d3362576-be2c-48bf-b40c-00dc264ae26d');\n",
       "var x = new MutationObserver(function (mutations, observer) {{\n",
       "        var display = window.getComputedStyle(gd).display;\n",
       "        if (!display || display === 'none') {{\n",
       "            console.log([gd, 'removed!']);\n",
       "            Plotly.purge(gd);\n",
       "            observer.disconnect();\n",
       "        }}\n",
       "}});\n",
       "\n",
       "// Listen for the removal of the full notebook cells\n",
       "var notebookContainer = gd.closest('#notebook-container');\n",
       "if (notebookContainer) {{\n",
       "    x.observe(notebookContainer, {childList: true});\n",
       "}}\n",
       "\n",
       "// Listen for the clearing of the current output cell\n",
       "var outputEl = gd.closest('.output');\n",
       "if (outputEl) {{\n",
       "    x.observe(outputEl, {childList: true});\n",
       "}}\n",
       "\n",
       "                        })\n",
       "                };\n",
       "                });\n",
       "            </script>\n",
       "        </div>"
      ]
     },
     "metadata": {},
     "output_type": "display_data"
    }
   ],
   "source": [
    "fig = go.Figure()\n",
    "fig.add_scatter(x = hoje.index, y = close_data)\n",
    "fig.add_scatter(x = hoje.index, y = close_data.rolling(window=15).mean())\n",
    "fig.add_scatter(x = hoje.index, y = close_data.rolling(window=5).mean())"
   ]
  },
  {
   "cell_type": "markdown",
   "metadata": {},
   "source": [
    "# Data Science"
   ]
  },
  {
   "cell_type": "code",
   "execution_count": 36,
   "metadata": {},
   "outputs": [],
   "source": [
    "import pandas as pd"
   ]
  },
  {
   "cell_type": "code",
   "execution_count": 37,
   "metadata": {},
   "outputs": [],
   "source": [
    "king = pd.read_csv('https://raw.githubusercontent.com/vnikoofard/python_online_2020/master/data/kc_house_data.csv')"
   ]
  },
  {
   "cell_type": "code",
   "execution_count": 38,
   "metadata": {},
   "outputs": [
    {
     "data": {
      "text/html": [
       "<div>\n",
       "<style scoped>\n",
       "    .dataframe tbody tr th:only-of-type {\n",
       "        vertical-align: middle;\n",
       "    }\n",
       "\n",
       "    .dataframe tbody tr th {\n",
       "        vertical-align: top;\n",
       "    }\n",
       "\n",
       "    .dataframe thead th {\n",
       "        text-align: right;\n",
       "    }\n",
       "</style>\n",
       "<table border=\"1\" class=\"dataframe\">\n",
       "  <thead>\n",
       "    <tr style=\"text-align: right;\">\n",
       "      <th></th>\n",
       "      <th>id</th>\n",
       "      <th>date</th>\n",
       "      <th>price</th>\n",
       "      <th>bedrooms</th>\n",
       "      <th>bathrooms</th>\n",
       "      <th>sqft_living</th>\n",
       "      <th>sqft_lot</th>\n",
       "      <th>floors</th>\n",
       "      <th>waterfront</th>\n",
       "      <th>view</th>\n",
       "      <th>...</th>\n",
       "      <th>grade</th>\n",
       "      <th>sqft_above</th>\n",
       "      <th>sqft_basement</th>\n",
       "      <th>yr_built</th>\n",
       "      <th>yr_renovated</th>\n",
       "      <th>zipcode</th>\n",
       "      <th>lat</th>\n",
       "      <th>long</th>\n",
       "      <th>sqft_living15</th>\n",
       "      <th>sqft_lot15</th>\n",
       "    </tr>\n",
       "  </thead>\n",
       "  <tbody>\n",
       "    <tr>\n",
       "      <th>0</th>\n",
       "      <td>7129300520</td>\n",
       "      <td>20141013T000000</td>\n",
       "      <td>221900.0</td>\n",
       "      <td>3</td>\n",
       "      <td>1.00</td>\n",
       "      <td>1180</td>\n",
       "      <td>5650</td>\n",
       "      <td>1.0</td>\n",
       "      <td>0</td>\n",
       "      <td>0</td>\n",
       "      <td>...</td>\n",
       "      <td>7</td>\n",
       "      <td>1180</td>\n",
       "      <td>0</td>\n",
       "      <td>1955</td>\n",
       "      <td>0</td>\n",
       "      <td>98178</td>\n",
       "      <td>47.5112</td>\n",
       "      <td>-122.257</td>\n",
       "      <td>1340</td>\n",
       "      <td>5650</td>\n",
       "    </tr>\n",
       "    <tr>\n",
       "      <th>1</th>\n",
       "      <td>6414100192</td>\n",
       "      <td>20141209T000000</td>\n",
       "      <td>538000.0</td>\n",
       "      <td>3</td>\n",
       "      <td>2.25</td>\n",
       "      <td>2570</td>\n",
       "      <td>7242</td>\n",
       "      <td>2.0</td>\n",
       "      <td>0</td>\n",
       "      <td>0</td>\n",
       "      <td>...</td>\n",
       "      <td>7</td>\n",
       "      <td>2170</td>\n",
       "      <td>400</td>\n",
       "      <td>1951</td>\n",
       "      <td>1991</td>\n",
       "      <td>98125</td>\n",
       "      <td>47.7210</td>\n",
       "      <td>-122.319</td>\n",
       "      <td>1690</td>\n",
       "      <td>7639</td>\n",
       "    </tr>\n",
       "    <tr>\n",
       "      <th>2</th>\n",
       "      <td>5631500400</td>\n",
       "      <td>20150225T000000</td>\n",
       "      <td>180000.0</td>\n",
       "      <td>2</td>\n",
       "      <td>1.00</td>\n",
       "      <td>770</td>\n",
       "      <td>10000</td>\n",
       "      <td>1.0</td>\n",
       "      <td>0</td>\n",
       "      <td>0</td>\n",
       "      <td>...</td>\n",
       "      <td>6</td>\n",
       "      <td>770</td>\n",
       "      <td>0</td>\n",
       "      <td>1933</td>\n",
       "      <td>0</td>\n",
       "      <td>98028</td>\n",
       "      <td>47.7379</td>\n",
       "      <td>-122.233</td>\n",
       "      <td>2720</td>\n",
       "      <td>8062</td>\n",
       "    </tr>\n",
       "    <tr>\n",
       "      <th>3</th>\n",
       "      <td>2487200875</td>\n",
       "      <td>20141209T000000</td>\n",
       "      <td>604000.0</td>\n",
       "      <td>4</td>\n",
       "      <td>3.00</td>\n",
       "      <td>1960</td>\n",
       "      <td>5000</td>\n",
       "      <td>1.0</td>\n",
       "      <td>0</td>\n",
       "      <td>0</td>\n",
       "      <td>...</td>\n",
       "      <td>7</td>\n",
       "      <td>1050</td>\n",
       "      <td>910</td>\n",
       "      <td>1965</td>\n",
       "      <td>0</td>\n",
       "      <td>98136</td>\n",
       "      <td>47.5208</td>\n",
       "      <td>-122.393</td>\n",
       "      <td>1360</td>\n",
       "      <td>5000</td>\n",
       "    </tr>\n",
       "    <tr>\n",
       "      <th>4</th>\n",
       "      <td>1954400510</td>\n",
       "      <td>20150218T000000</td>\n",
       "      <td>510000.0</td>\n",
       "      <td>3</td>\n",
       "      <td>2.00</td>\n",
       "      <td>1680</td>\n",
       "      <td>8080</td>\n",
       "      <td>1.0</td>\n",
       "      <td>0</td>\n",
       "      <td>0</td>\n",
       "      <td>...</td>\n",
       "      <td>8</td>\n",
       "      <td>1680</td>\n",
       "      <td>0</td>\n",
       "      <td>1987</td>\n",
       "      <td>0</td>\n",
       "      <td>98074</td>\n",
       "      <td>47.6168</td>\n",
       "      <td>-122.045</td>\n",
       "      <td>1800</td>\n",
       "      <td>7503</td>\n",
       "    </tr>\n",
       "  </tbody>\n",
       "</table>\n",
       "<p>5 rows × 21 columns</p>\n",
       "</div>"
      ],
      "text/plain": [
       "           id             date     price  bedrooms  bathrooms  sqft_living  \\\n",
       "0  7129300520  20141013T000000  221900.0         3       1.00         1180   \n",
       "1  6414100192  20141209T000000  538000.0         3       2.25         2570   \n",
       "2  5631500400  20150225T000000  180000.0         2       1.00          770   \n",
       "3  2487200875  20141209T000000  604000.0         4       3.00         1960   \n",
       "4  1954400510  20150218T000000  510000.0         3       2.00         1680   \n",
       "\n",
       "   sqft_lot  floors  waterfront  view  ...  grade  sqft_above  sqft_basement  \\\n",
       "0      5650     1.0           0     0  ...      7        1180              0   \n",
       "1      7242     2.0           0     0  ...      7        2170            400   \n",
       "2     10000     1.0           0     0  ...      6         770              0   \n",
       "3      5000     1.0           0     0  ...      7        1050            910   \n",
       "4      8080     1.0           0     0  ...      8        1680              0   \n",
       "\n",
       "   yr_built  yr_renovated  zipcode      lat     long  sqft_living15  \\\n",
       "0      1955             0    98178  47.5112 -122.257           1340   \n",
       "1      1951          1991    98125  47.7210 -122.319           1690   \n",
       "2      1933             0    98028  47.7379 -122.233           2720   \n",
       "3      1965             0    98136  47.5208 -122.393           1360   \n",
       "4      1987             0    98074  47.6168 -122.045           1800   \n",
       "\n",
       "   sqft_lot15  \n",
       "0        5650  \n",
       "1        7639  \n",
       "2        8062  \n",
       "3        5000  \n",
       "4        7503  \n",
       "\n",
       "[5 rows x 21 columns]"
      ]
     },
     "execution_count": 38,
     "metadata": {},
     "output_type": "execute_result"
    }
   ],
   "source": [
    "king.head()"
   ]
  },
  {
   "cell_type": "code",
   "execution_count": null,
   "metadata": {},
   "outputs": [],
   "source": []
  }
 ],
 "metadata": {
  "kernelspec": {
   "display_name": "Python 3",
   "language": "python",
   "name": "python3"
  },
  "language_info": {
   "codemirror_mode": {
    "name": "ipython",
    "version": 3
   },
   "file_extension": ".py",
   "mimetype": "text/x-python",
   "name": "python",
   "nbconvert_exporter": "python",
   "pygments_lexer": "ipython3",
   "version": "3.7.6"
  },
  "toc": {
   "base_numbering": 1,
   "nav_menu": {},
   "number_sections": true,
   "sideBar": true,
   "skip_h1_title": false,
   "title_cell": "Table of Contents",
   "title_sidebar": "Contents",
   "toc_cell": false,
   "toc_position": {},
   "toc_section_display": true,
   "toc_window_display": false
  },
  "varInspector": {
   "cols": {
    "lenName": 16,
    "lenType": 16,
    "lenVar": 40
   },
   "kernels_config": {
    "python": {
     "delete_cmd_postfix": "",
     "delete_cmd_prefix": "del ",
     "library": "var_list.py",
     "varRefreshCmd": "print(var_dic_list())"
    },
    "r": {
     "delete_cmd_postfix": ") ",
     "delete_cmd_prefix": "rm(",
     "library": "var_list.r",
     "varRefreshCmd": "cat(var_dic_list()) "
    }
   },
   "types_to_exclude": [
    "module",
    "function",
    "builtin_function_or_method",
    "instance",
    "_Feature"
   ],
   "window_display": false
  }
 },
 "nbformat": 4,
 "nbformat_minor": 4
}
